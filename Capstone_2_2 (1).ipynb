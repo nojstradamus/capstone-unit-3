{
  "nbformat": 4,
  "nbformat_minor": 0,
  "metadata": {
    "colab": {
      "name": "Capstone 2.2",
      "version": "0.3.2",
      "provenance": [],
      "collapsed_sections": []
    },
    "kernelspec": {
      "name": "python3",
      "display_name": "Python 3"
    }
  },
  "cells": [
    {
      "cell_type": "code",
      "metadata": {
        "id": "CEzc8wBRv2Am",
        "colab_type": "code",
        "colab": {}
      },
      "source": [
        "import pandas as pd\n",
        "import numpy as np\n",
        "import matplotlib.pyplot as plt\n",
        "import seaborn as sns\n",
        "\n",
        "from sklearn.linear_model import LogisticRegression\n",
        "from sklearn.model_selection import cross_val_score, train_test_split\n",
        "from sklearn.neighbors import KNeighborsClassifier\n",
        "from sklearn import ensemble\n",
        "from sklearn.decomposition import PCA\n",
        "from matplotlib import rcParams\n",
        "from sklearn.preprocessing import normalize\n",
        "from sklearn.neighbors import KNeighborsClassifier\n",
        "from matplotlib import rcParams\n",
        "from sklearn.feature_selection import SelectKBest\n",
        "from scipy import stats\n",
        "from sklearn.svm import SVC\n",
        "from sklearn.naive_bayes import BernoulliNB\n",
        "\n",
        "from sklearn import metrics\n",
        "\n",
        "from google.colab import files\n",
        "import io\n",
        "\n",
        "import warnings\n",
        "warnings.filterwarnings('ignore')\n",
        "\n",
        "%matplotlib inline"
      ],
      "execution_count": 0,
      "outputs": []
    },
    {
      "cell_type": "code",
      "metadata": {
        "id": "6cCWfPFov7DM",
        "colab_type": "code",
        "colab": {}
      },
      "source": [
        "# Set graph parameters\n",
        "sns.set_style('whitegrid')\n",
        "rcParams['figure.figsize'] = 10,7"
      ],
      "execution_count": 0,
      "outputs": []
    },
    {
      "cell_type": "code",
      "metadata": {
        "id": "43tWfO89v9Oe",
        "colab_type": "code",
        "outputId": "3f761b21-03f0-4cd1-cc33-daa3bc0c0e55",
        "colab": {
          "resources": {
            "http://localhost:8080/nbextensions/google.colab/files.js": {
              "data": "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",
              "ok": true,
              "headers": [
                [
                  "content-type",
                  "application/javascript"
                ]
              ],
              "status": 200,
              "status_text": ""
            }
          },
          "base_uri": "https://localhost:8080/",
          "height": 74
        }
      },
      "source": [
        "uploaded = files.upload()"
      ],
      "execution_count": 3,
      "outputs": [
        {
          "output_type": "display_data",
          "data": {
            "text/html": [
              "\n",
              "     <input type=\"file\" id=\"files-738175ce-ce55-4708-ade9-e73c34631af7\" name=\"files[]\" multiple disabled />\n",
              "     <output id=\"result-738175ce-ce55-4708-ade9-e73c34631af7\">\n",
              "      Upload widget is only available when the cell has been executed in the\n",
              "      current browser session. Please rerun this cell to enable.\n",
              "      </output>\n",
              "      <script src=\"/nbextensions/google.colab/files.js\"></script> "
            ],
            "text/plain": [
              "<IPython.core.display.HTML object>"
            ]
          },
          "metadata": {
            "tags": []
          }
        },
        {
          "output_type": "stream",
          "text": [
            "Saving cardio_train.csv to cardio_train.csv\n"
          ],
          "name": "stdout"
        }
      ]
    },
    {
      "cell_type": "code",
      "metadata": {
        "id": "aMDFNMlZwFtN",
        "colab_type": "code",
        "outputId": "51b6316a-6f86-4616-ea99-08ce6daf8e3a",
        "colab": {
          "base_uri": "https://localhost:8080/",
          "height": 221
        }
      },
      "source": [
        "# store data and take a look\n",
        "df = pd.read_csv(io.BytesIO(uploaded['cardio_train.csv']), sep=';')\n",
        "print(df.shape)\n",
        "df.head()"
      ],
      "execution_count": 4,
      "outputs": [
        {
          "output_type": "stream",
          "text": [
            "(70000, 13)\n"
          ],
          "name": "stdout"
        },
        {
          "output_type": "execute_result",
          "data": {
            "text/html": [
              "<div>\n",
              "<style scoped>\n",
              "    .dataframe tbody tr th:only-of-type {\n",
              "        vertical-align: middle;\n",
              "    }\n",
              "\n",
              "    .dataframe tbody tr th {\n",
              "        vertical-align: top;\n",
              "    }\n",
              "\n",
              "    .dataframe thead th {\n",
              "        text-align: right;\n",
              "    }\n",
              "</style>\n",
              "<table border=\"1\" class=\"dataframe\">\n",
              "  <thead>\n",
              "    <tr style=\"text-align: right;\">\n",
              "      <th></th>\n",
              "      <th>id</th>\n",
              "      <th>age</th>\n",
              "      <th>gender</th>\n",
              "      <th>height</th>\n",
              "      <th>weight</th>\n",
              "      <th>ap_hi</th>\n",
              "      <th>ap_lo</th>\n",
              "      <th>cholesterol</th>\n",
              "      <th>gluc</th>\n",
              "      <th>smoke</th>\n",
              "      <th>alco</th>\n",
              "      <th>active</th>\n",
              "      <th>cardio</th>\n",
              "    </tr>\n",
              "  </thead>\n",
              "  <tbody>\n",
              "    <tr>\n",
              "      <th>0</th>\n",
              "      <td>0</td>\n",
              "      <td>18393</td>\n",
              "      <td>2</td>\n",
              "      <td>168</td>\n",
              "      <td>62.0</td>\n",
              "      <td>110</td>\n",
              "      <td>80</td>\n",
              "      <td>1</td>\n",
              "      <td>1</td>\n",
              "      <td>0</td>\n",
              "      <td>0</td>\n",
              "      <td>1</td>\n",
              "      <td>0</td>\n",
              "    </tr>\n",
              "    <tr>\n",
              "      <th>1</th>\n",
              "      <td>1</td>\n",
              "      <td>20228</td>\n",
              "      <td>1</td>\n",
              "      <td>156</td>\n",
              "      <td>85.0</td>\n",
              "      <td>140</td>\n",
              "      <td>90</td>\n",
              "      <td>3</td>\n",
              "      <td>1</td>\n",
              "      <td>0</td>\n",
              "      <td>0</td>\n",
              "      <td>1</td>\n",
              "      <td>1</td>\n",
              "    </tr>\n",
              "    <tr>\n",
              "      <th>2</th>\n",
              "      <td>2</td>\n",
              "      <td>18857</td>\n",
              "      <td>1</td>\n",
              "      <td>165</td>\n",
              "      <td>64.0</td>\n",
              "      <td>130</td>\n",
              "      <td>70</td>\n",
              "      <td>3</td>\n",
              "      <td>1</td>\n",
              "      <td>0</td>\n",
              "      <td>0</td>\n",
              "      <td>0</td>\n",
              "      <td>1</td>\n",
              "    </tr>\n",
              "    <tr>\n",
              "      <th>3</th>\n",
              "      <td>3</td>\n",
              "      <td>17623</td>\n",
              "      <td>2</td>\n",
              "      <td>169</td>\n",
              "      <td>82.0</td>\n",
              "      <td>150</td>\n",
              "      <td>100</td>\n",
              "      <td>1</td>\n",
              "      <td>1</td>\n",
              "      <td>0</td>\n",
              "      <td>0</td>\n",
              "      <td>1</td>\n",
              "      <td>1</td>\n",
              "    </tr>\n",
              "    <tr>\n",
              "      <th>4</th>\n",
              "      <td>4</td>\n",
              "      <td>17474</td>\n",
              "      <td>1</td>\n",
              "      <td>156</td>\n",
              "      <td>56.0</td>\n",
              "      <td>100</td>\n",
              "      <td>60</td>\n",
              "      <td>1</td>\n",
              "      <td>1</td>\n",
              "      <td>0</td>\n",
              "      <td>0</td>\n",
              "      <td>0</td>\n",
              "      <td>0</td>\n",
              "    </tr>\n",
              "  </tbody>\n",
              "</table>\n",
              "</div>"
            ],
            "text/plain": [
              "   id    age  gender  height  weight  ...  gluc  smoke  alco  active  cardio\n",
              "0   0  18393       2     168    62.0  ...     1      0     0       1       0\n",
              "1   1  20228       1     156    85.0  ...     1      0     0       1       1\n",
              "2   2  18857       1     165    64.0  ...     1      0     0       0       1\n",
              "3   3  17623       2     169    82.0  ...     1      0     0       1       1\n",
              "4   4  17474       1     156    56.0  ...     1      0     0       0       0\n",
              "\n",
              "[5 rows x 13 columns]"
            ]
          },
          "metadata": {
            "tags": []
          },
          "execution_count": 4
        }
      ]
    },
    {
      "cell_type": "markdown",
      "metadata": {
        "id": "W6HDjBxcw9-K",
        "colab_type": "text"
      },
      "source": [
        "### Some information about the features\n",
        "- Age is currently measured in days\n",
        "- Gender is classified 1:women and 2:men\n",
        "- Height is measure in cm\n",
        "- Weight is measured in kg \n",
        "- ap_hi refers to arterial pressure. Specifically the Systolic blood pressures which represents when the heart contracts.\n",
        "- ap_lo refers to Dystolic Blood Pressure or when the heart contracts. \n",
        "    - ap_hi and ap_lo are used to calculate blood pressure (e.g. 120/80)\n",
        "    - according to the CDC, less than 120/80 is considered normal, between 120/80 and 139/89 is considered at risk for high blood pressure, and more than 140/90 is considered high blood pressure.\n",
        "- cholesterol and glu are labeled as 1:normal, 2:above normal, 3 well above normal.\n",
        "- smoke, alco, active, and cardio are binary with cardio as the target"
      ]
    },
    {
      "cell_type": "markdown",
      "metadata": {
        "id": "bQhc1jW8OZQ-",
        "colab_type": "text"
      },
      "source": [
        "# Data Cleaning"
      ]
    },
    {
      "cell_type": "code",
      "metadata": {
        "id": "la1xvL5dw_JS",
        "colab_type": "code",
        "outputId": "6aab8bec-55de-4ac7-fb0a-37712c813724",
        "colab": {
          "base_uri": "https://localhost:8080/",
          "height": 334
        }
      },
      "source": [
        "# Change age to years for easier comprehension \n",
        "df['age'] = round(df['age'] / 365, 1)\n",
        "\n",
        "# Add BMI metric for later\n",
        "df['bmi'] = (df['weight'] / df['height'] / df['height']) * 10000\n",
        "\n",
        "# Look at shape\n",
        "print(df.shape)\n",
        "\n",
        "# Look at general statitics\n",
        "df.describe()"
      ],
      "execution_count": 5,
      "outputs": [
        {
          "output_type": "stream",
          "text": [
            "(70000, 14)\n"
          ],
          "name": "stdout"
        },
        {
          "output_type": "execute_result",
          "data": {
            "text/html": [
              "<div>\n",
              "<style scoped>\n",
              "    .dataframe tbody tr th:only-of-type {\n",
              "        vertical-align: middle;\n",
              "    }\n",
              "\n",
              "    .dataframe tbody tr th {\n",
              "        vertical-align: top;\n",
              "    }\n",
              "\n",
              "    .dataframe thead th {\n",
              "        text-align: right;\n",
              "    }\n",
              "</style>\n",
              "<table border=\"1\" class=\"dataframe\">\n",
              "  <thead>\n",
              "    <tr style=\"text-align: right;\">\n",
              "      <th></th>\n",
              "      <th>id</th>\n",
              "      <th>age</th>\n",
              "      <th>gender</th>\n",
              "      <th>height</th>\n",
              "      <th>weight</th>\n",
              "      <th>ap_hi</th>\n",
              "      <th>ap_lo</th>\n",
              "      <th>cholesterol</th>\n",
              "      <th>gluc</th>\n",
              "      <th>smoke</th>\n",
              "      <th>alco</th>\n",
              "      <th>active</th>\n",
              "      <th>cardio</th>\n",
              "      <th>bmi</th>\n",
              "    </tr>\n",
              "  </thead>\n",
              "  <tbody>\n",
              "    <tr>\n",
              "      <th>count</th>\n",
              "      <td>70000.000000</td>\n",
              "      <td>70000.000000</td>\n",
              "      <td>70000.000000</td>\n",
              "      <td>70000.000000</td>\n",
              "      <td>70000.000000</td>\n",
              "      <td>70000.000000</td>\n",
              "      <td>70000.000000</td>\n",
              "      <td>70000.000000</td>\n",
              "      <td>70000.000000</td>\n",
              "      <td>70000.000000</td>\n",
              "      <td>70000.000000</td>\n",
              "      <td>70000.000000</td>\n",
              "      <td>70000.000000</td>\n",
              "      <td>70000.000000</td>\n",
              "    </tr>\n",
              "    <tr>\n",
              "      <th>mean</th>\n",
              "      <td>49972.419900</td>\n",
              "      <td>53.339486</td>\n",
              "      <td>1.349571</td>\n",
              "      <td>164.359229</td>\n",
              "      <td>74.205690</td>\n",
              "      <td>128.817286</td>\n",
              "      <td>96.630414</td>\n",
              "      <td>1.366871</td>\n",
              "      <td>1.226457</td>\n",
              "      <td>0.088129</td>\n",
              "      <td>0.053771</td>\n",
              "      <td>0.803729</td>\n",
              "      <td>0.499700</td>\n",
              "      <td>27.556513</td>\n",
              "    </tr>\n",
              "    <tr>\n",
              "      <th>std</th>\n",
              "      <td>28851.302323</td>\n",
              "      <td>6.759534</td>\n",
              "      <td>0.476838</td>\n",
              "      <td>8.210126</td>\n",
              "      <td>14.395757</td>\n",
              "      <td>154.011419</td>\n",
              "      <td>188.472530</td>\n",
              "      <td>0.680250</td>\n",
              "      <td>0.572270</td>\n",
              "      <td>0.283484</td>\n",
              "      <td>0.225568</td>\n",
              "      <td>0.397179</td>\n",
              "      <td>0.500003</td>\n",
              "      <td>6.091511</td>\n",
              "    </tr>\n",
              "    <tr>\n",
              "      <th>min</th>\n",
              "      <td>0.000000</td>\n",
              "      <td>29.600000</td>\n",
              "      <td>1.000000</td>\n",
              "      <td>55.000000</td>\n",
              "      <td>10.000000</td>\n",
              "      <td>-150.000000</td>\n",
              "      <td>-70.000000</td>\n",
              "      <td>1.000000</td>\n",
              "      <td>1.000000</td>\n",
              "      <td>0.000000</td>\n",
              "      <td>0.000000</td>\n",
              "      <td>0.000000</td>\n",
              "      <td>0.000000</td>\n",
              "      <td>3.471784</td>\n",
              "    </tr>\n",
              "    <tr>\n",
              "      <th>25%</th>\n",
              "      <td>25006.750000</td>\n",
              "      <td>48.400000</td>\n",
              "      <td>1.000000</td>\n",
              "      <td>159.000000</td>\n",
              "      <td>65.000000</td>\n",
              "      <td>120.000000</td>\n",
              "      <td>80.000000</td>\n",
              "      <td>1.000000</td>\n",
              "      <td>1.000000</td>\n",
              "      <td>0.000000</td>\n",
              "      <td>0.000000</td>\n",
              "      <td>1.000000</td>\n",
              "      <td>0.000000</td>\n",
              "      <td>23.875115</td>\n",
              "    </tr>\n",
              "    <tr>\n",
              "      <th>50%</th>\n",
              "      <td>50001.500000</td>\n",
              "      <td>54.000000</td>\n",
              "      <td>1.000000</td>\n",
              "      <td>165.000000</td>\n",
              "      <td>72.000000</td>\n",
              "      <td>120.000000</td>\n",
              "      <td>80.000000</td>\n",
              "      <td>1.000000</td>\n",
              "      <td>1.000000</td>\n",
              "      <td>0.000000</td>\n",
              "      <td>0.000000</td>\n",
              "      <td>1.000000</td>\n",
              "      <td>0.000000</td>\n",
              "      <td>26.374068</td>\n",
              "    </tr>\n",
              "    <tr>\n",
              "      <th>75%</th>\n",
              "      <td>74889.250000</td>\n",
              "      <td>58.400000</td>\n",
              "      <td>2.000000</td>\n",
              "      <td>170.000000</td>\n",
              "      <td>82.000000</td>\n",
              "      <td>140.000000</td>\n",
              "      <td>90.000000</td>\n",
              "      <td>2.000000</td>\n",
              "      <td>1.000000</td>\n",
              "      <td>0.000000</td>\n",
              "      <td>0.000000</td>\n",
              "      <td>1.000000</td>\n",
              "      <td>1.000000</td>\n",
              "      <td>30.222222</td>\n",
              "    </tr>\n",
              "    <tr>\n",
              "      <th>max</th>\n",
              "      <td>99999.000000</td>\n",
              "      <td>65.000000</td>\n",
              "      <td>2.000000</td>\n",
              "      <td>250.000000</td>\n",
              "      <td>200.000000</td>\n",
              "      <td>16020.000000</td>\n",
              "      <td>11000.000000</td>\n",
              "      <td>3.000000</td>\n",
              "      <td>3.000000</td>\n",
              "      <td>1.000000</td>\n",
              "      <td>1.000000</td>\n",
              "      <td>1.000000</td>\n",
              "      <td>1.000000</td>\n",
              "      <td>298.666667</td>\n",
              "    </tr>\n",
              "  </tbody>\n",
              "</table>\n",
              "</div>"
            ],
            "text/plain": [
              "                 id           age  ...        cardio           bmi\n",
              "count  70000.000000  70000.000000  ...  70000.000000  70000.000000\n",
              "mean   49972.419900     53.339486  ...      0.499700     27.556513\n",
              "std    28851.302323      6.759534  ...      0.500003      6.091511\n",
              "min        0.000000     29.600000  ...      0.000000      3.471784\n",
              "25%    25006.750000     48.400000  ...      0.000000     23.875115\n",
              "50%    50001.500000     54.000000  ...      0.000000     26.374068\n",
              "75%    74889.250000     58.400000  ...      1.000000     30.222222\n",
              "max    99999.000000     65.000000  ...      1.000000    298.666667\n",
              "\n",
              "[8 rows x 14 columns]"
            ]
          },
          "metadata": {
            "tags": []
          },
          "execution_count": 5
        }
      ]
    },
    {
      "cell_type": "code",
      "metadata": {
        "id": "3I2hTz2uxEn-",
        "colab_type": "code",
        "outputId": "5e181083-1b2b-4fd2-e79b-62529e15cc2e",
        "colab": {
          "base_uri": "https://localhost:8080/",
          "height": 272
        }
      },
      "source": [
        "# Look for missing values\n",
        "df.isnull().any()"
      ],
      "execution_count": 6,
      "outputs": [
        {
          "output_type": "execute_result",
          "data": {
            "text/plain": [
              "id             False\n",
              "age            False\n",
              "gender         False\n",
              "height         False\n",
              "weight         False\n",
              "ap_hi          False\n",
              "ap_lo          False\n",
              "cholesterol    False\n",
              "gluc           False\n",
              "smoke          False\n",
              "alco           False\n",
              "active         False\n",
              "cardio         False\n",
              "bmi            False\n",
              "dtype: bool"
            ]
          },
          "metadata": {
            "tags": []
          },
          "execution_count": 6
        }
      ]
    },
    {
      "cell_type": "markdown",
      "metadata": {
        "id": "3_fI7VRUqAHz",
        "colab_type": "text"
      },
      "source": [
        "There appears to be some outliers in the blood pressure features"
      ]
    },
    {
      "cell_type": "code",
      "metadata": {
        "id": "eZpOkJGkQlHY",
        "colab_type": "code",
        "outputId": "33d72579-ecc4-463a-b8ab-e20240f2c4b1",
        "colab": {
          "base_uri": "https://localhost:8080/",
          "height": 464
        }
      },
      "source": [
        "plt.figure(figsize=(20,7))\n",
        "plt.subplot(211)\n",
        "sns.boxplot(df['ap_hi'])\n",
        "plt.subplot(212)\n",
        "sns.boxplot(df['ap_lo'])"
      ],
      "execution_count": 7,
      "outputs": [
        {
          "output_type": "execute_result",
          "data": {
            "text/plain": [
              "<matplotlib.axes._subplots.AxesSubplot at 0x7f4a8d0f0630>"
            ]
          },
          "metadata": {
            "tags": []
          },
          "execution_count": 7
        },
        {
          "output_type": "display_data",
          "data": {
            "image/png": "[encoded data removed]",
            "text/plain": [
              "<Figure size 1440x504 with 2 Axes>"
            ]
          },
          "metadata": {
            "tags": []
          }
        }
      ]
    },
    {
      "cell_type": "code",
      "metadata": {
        "id": "axlUWYmSOg4G",
        "colab_type": "code",
        "outputId": "b0076022-89d0-4e5c-df36-52685ce1c13f",
        "colab": {
          "base_uri": "https://localhost:8080/",
          "height": 102
        }
      },
      "source": [
        "# Determine parameters for removing outliers and how many observations would be removed\n",
        "print(df[df['ap_hi'] > 370].shape)\n",
        "print(df[df['ap_lo'] > 360].shape)\n",
        "print(df[df['ap_hi'] < 0].shape)\n",
        "print(df[df['ap_lo'] < 0].shape)\n",
        "print(df[df['ap_hi'] < df['ap_lo']].shape)\n"
      ],
      "execution_count": 8,
      "outputs": [
        {
          "output_type": "stream",
          "text": [
            "(39, 14)\n",
            "(953, 14)\n",
            "(7, 14)\n",
            "(1, 14)\n",
            "(1234, 14)\n"
          ],
          "name": "stdout"
        }
      ]
    },
    {
      "cell_type": "markdown",
      "metadata": {
        "id": "eZRvaBgXrNA5",
        "colab_type": "text"
      },
      "source": [
        "When looking for a threshold for how high blood pressure can be, the highest record found comes from an article in the NCBI (National Center for Biotechnology Information) on breathing techniques where they had participants perform strenuous exercises. The highest record measurement was 370/360 and since other extreme blood pressures on record weren't found, this measurement served as the threshold.\n",
        "\n",
        "https://www.ncbi.nlm.nih.gov/pubmed/7741618"
      ]
    },
    {
      "cell_type": "markdown",
      "metadata": {
        "id": "cVa-EQlprDwR",
        "colab_type": "text"
      },
      "source": [
        "\n",
        "I also removed any blood pressure which was negative and any occurance of ap_hi being lower than ap_lo."
      ]
    },
    {
      "cell_type": "markdown",
      "metadata": {
        "id": "LZHZgTNRrHla",
        "colab_type": "text"
      },
      "source": [
        "For the cleaning procedure, I opted to remove these outliers as opposed to imputing values. On a close inspection it seemed like some of the blood pressure values were simply recorded incorrectly. Rather than assuming that the person who recorded the values had simply mis-typed, I instead removed the values as it seemed safer and maintained the overall integrety of the dataset. "
      ]
    },
    {
      "cell_type": "code",
      "metadata": {
        "id": "RTXxFSaiO9aV",
        "colab_type": "code",
        "outputId": "867ac432-56e7-4f56-a4fb-6e12a42c0223",
        "colab": {
          "base_uri": "https://localhost:8080/",
          "height": 51
        }
      },
      "source": [
        "# Create copies for modeling \n",
        "df_clean = df.copy()\n",
        "df_full = df.copy()\n",
        "\n",
        "# Drop blood pressure outliers\n",
        "df_clean.drop(df_clean[(df_clean['ap_hi'] > 370)].index,inplace=True)\n",
        "df_clean.drop(df_clean[(df_clean['ap_lo'] > 360)].index,inplace=True)\n",
        "df_clean.drop(df_clean[(df_clean['ap_hi'] < 0)].index,inplace=True)\n",
        "df_clean.drop(df_clean[(df_clean['ap_lo'] < 0)].index,inplace=True)\n",
        "df_clean.drop(df_clean[(df_clean['ap_hi'] < df_clean['ap_lo'])].index,inplace=True)\n",
        "\n",
        "first_cleaning = 1 - df_clean.shape[0] / df.shape[0]\n",
        "print(df_clean.shape)\n",
        "print('Percent of observations lost:', first_cleaning)"
      ],
      "execution_count": 9,
      "outputs": [
        {
          "output_type": "stream",
          "text": [
            "(68726, 14)\n",
            "Percent of observations lost: 0.018199999999999994\n"
          ],
          "name": "stdout"
        }
      ]
    },
    {
      "cell_type": "markdown",
      "metadata": {
        "id": "WkqsKnsqr3Vn",
        "colab_type": "text"
      },
      "source": [
        "Here I check to see how much of the origianl dataset I loose by removing outliers"
      ]
    },
    {
      "cell_type": "code",
      "metadata": {
        "id": "x2fnXhFMPikj",
        "colab_type": "code",
        "outputId": "65a2cb7a-ae10-4127-feaa-6bfdf5f76707",
        "colab": {
          "base_uri": "https://localhost:8080/",
          "height": 609
        }
      },
      "source": [
        "# Look at the outliers in weight and height\n",
        "plt.figure(figsize=(20, 10))\n",
        "plt.subplot(311)\n",
        "sns.boxplot(df_clean['height'])\n",
        "plt.subplot(312)\n",
        "sns.boxplot(df_clean['weight'])\n",
        "plt.subplot(313)\n",
        "sns.boxplot(df_clean['bmi']);"
      ],
      "execution_count": 10,
      "outputs": [
        {
          "output_type": "display_data",
          "data": {
            "image/png": "[encoded data removed]",
            "text/plain": [
              "<Figure size 1440x720 with 3 Axes>"
            ]
          },
          "metadata": {
            "tags": []
          }
        }
      ]
    },
    {
      "cell_type": "code",
      "metadata": {
        "id": "HS0hZtZmRawb",
        "colab_type": "code",
        "outputId": "1624e018-d83a-4a18-bd8d-64f7c66fe74d",
        "colab": {
          "base_uri": "https://localhost:8080/",
          "height": 119
        }
      },
      "source": [
        "# See what kind of impact removing these observations would make \n",
        "print(df_clean[df_clean['height'] < 100].shape)\n",
        "print(df_clean[df_clean['height'] > 225].shape)\n",
        "print(df_clean[df_clean['weight'] < 40].shape)\n",
        "print(df_clean[df_clean['weight'] > 175].shape)\n",
        "print(df_clean[df_clean['bmi'] > 45].shape)\n",
        "print(df_clean[df_clean['bmi'] < 15].shape)"
      ],
      "execution_count": 11,
      "outputs": [
        {
          "output_type": "stream",
          "text": [
            "(27, 14)\n",
            "(1, 14)\n",
            "(49, 14)\n",
            "(11, 14)\n",
            "(579, 14)\n",
            "(26, 14)\n"
          ],
          "name": "stdout"
        }
      ]
    },
    {
      "cell_type": "markdown",
      "metadata": {
        "id": "U5Vda8dqr_jZ",
        "colab_type": "text"
      },
      "source": [
        "I do the same method for the height and weight, but was more forgiving in terms of the outliers. \n",
        "100cm came out just above 3ft\n",
        "225 only had one outlier past 7ft\n",
        "40 kg came out to around 88 lbs\n",
        "175 kg came out to around 385 lbs\n",
        "\n",
        "and then I set limits and those where are dangerously obese and dangerously overweight\n",
        "\n",
        "\n"
      ]
    },
    {
      "cell_type": "markdown",
      "metadata": {
        "id": "hE3CTfPrtKc8",
        "colab_type": "text"
      },
      "source": [
        "Because I didn't want to jeoparodize the integrety of the dataset I run my models with and without feature engineering in order to see if there is drastic effect on the models' ability to predict."
      ]
    },
    {
      "cell_type": "code",
      "metadata": {
        "id": "1Xrks2DfQy49",
        "colab_type": "code",
        "outputId": "62d31a47-a2c1-4f1e-9792-2c00d12d6a74",
        "colab": {
          "base_uri": "https://localhost:8080/",
          "height": 51
        }
      },
      "source": [
        "# Drop outliers from weight and height\n",
        "df_clean.drop(df_clean[(df_clean['height'] < 100)].index,inplace=True)\n",
        "df_clean.drop(df_clean[(df_clean['height'] > 225)].index,inplace=True)\n",
        "df_clean.drop(df_clean[(df_clean['weight'] < 40)].index,inplace=True)\n",
        "df_clean.drop(df_clean[(df_clean['weight'] > 175)].index,inplace=True)\n",
        "df_clean.drop(df_clean[(df_clean['bmi'] > 45)].index,inplace=True)\n",
        "df_clean.drop(df_clean[(df_clean['bmi'] < 15)].index,inplace=True)\n",
        "\n",
        "# Determine percentage of outliers removed\n",
        "print(df_clean.shape)\n",
        "print('Percent missing from origianl:', 1 - df_clean.shape[0] / df.shape[0])\n"
      ],
      "execution_count": 51,
      "outputs": [
        {
          "output_type": "stream",
          "text": [
            "(68082, 14)\n",
            "Percent missing from origianl: 0.02739999999999998\n"
          ],
          "name": "stdout"
        }
      ]
    },
    {
      "cell_type": "code",
      "metadata": {
        "id": "LFYXLnLDWTkS",
        "colab_type": "code",
        "outputId": "5b71b59d-9c5f-458c-88e0-b603a1aecf20",
        "colab": {
          "base_uri": "https://localhost:8080/",
          "height": 463
        }
      },
      "source": [
        "# Look at the outliers in age\n",
        "sns.boxplot(df_clean['age'])"
      ],
      "execution_count": 13,
      "outputs": [
        {
          "output_type": "execute_result",
          "data": {
            "text/plain": [
              "<matplotlib.axes._subplots.AxesSubplot at 0x7f4a8d0c7320>"
            ]
          },
          "metadata": {
            "tags": []
          },
          "execution_count": 13
        },
        {
          "output_type": "display_data",
          "data": {
            "image/png": "[encoded data removed]",
            "text/plain": [
              "<Figure size 720x504 with 1 Axes>"
            ]
          },
          "metadata": {
            "tags": []
          }
        }
      ]
    },
    {
      "cell_type": "code",
      "metadata": {
        "id": "ELhMBtpWWalZ",
        "colab_type": "code",
        "outputId": "83e0e42e-01d5-4a0c-b5ad-60d12cb8d271",
        "colab": {
          "base_uri": "https://localhost:8080/",
          "height": 34
        }
      },
      "source": [
        "df_clean[df_clean['age']<35].shape"
      ],
      "execution_count": 14,
      "outputs": [
        {
          "output_type": "execute_result",
          "data": {
            "text/plain": [
              "(4, 14)"
            ]
          },
          "metadata": {
            "tags": []
          },
          "execution_count": 14
        }
      ]
    },
    {
      "cell_type": "code",
      "metadata": {
        "id": "1jDh1VxeWlaZ",
        "colab_type": "code",
        "colab": {}
      },
      "source": [
        "df_clean.drop(df_clean[(df_clean['age']<35)].index,inplace=True)"
      ],
      "execution_count": 0,
      "outputs": []
    },
    {
      "cell_type": "markdown",
      "metadata": {
        "id": "x3Sjs5p3FUQm",
        "colab_type": "text"
      },
      "source": [
        "# Exploratory Data Analysis"
      ]
    },
    {
      "cell_type": "code",
      "metadata": {
        "id": "JpenqARXxqL5",
        "colab_type": "code",
        "outputId": "dcb56491-11f0-4a41-a5af-3f50e20a1d4d",
        "colab": {
          "base_uri": "https://localhost:8080/",
          "height": 463
        }
      },
      "source": [
        "# Look at the distribution of age\n",
        "sns.distplot(df_clean['age'], bins=10)\n",
        "plt.xlabel('Age')"
      ],
      "execution_count": 16,
      "outputs": [
        {
          "output_type": "execute_result",
          "data": {
            "text/plain": [
              "Text(0.5, 0, 'Age')"
            ]
          },
          "metadata": {
            "tags": []
          },
          "execution_count": 16
        },
        {
          "output_type": "display_data",
          "data": {
            "image/png": "[encoded data removed]",
            "text/plain": [
              "<Figure size 720x504 with 1 Axes>"
            ]
          },
          "metadata": {
            "tags": []
          }
        }
      ]
    },
    {
      "cell_type": "markdown",
      "metadata": {
        "id": "38EZWF19s0Ms",
        "colab_type": "text"
      },
      "source": [
        "Here we can see that there are more individuals 50 years old or older in the dataset."
      ]
    },
    {
      "cell_type": "code",
      "metadata": {
        "id": "obwdErSZtACT",
        "colab_type": "code",
        "outputId": "db8ee0b5-88bc-44dd-8aa0-6d17e5a77820",
        "colab": {
          "base_uri": "https://localhost:8080/",
          "height": 458
        }
      },
      "source": [
        "years = round(df_clean[df_clean['gender']==1]['age']).value_counts().index\n",
        "ages_women = round(df_clean[df_clean['gender']==1]['age']).value_counts()\n",
        "plt1 = plt.bar(years, ages_women, alpha=.8)\n",
        "\n",
        "years = round(df_clean[df_clean['gender']==2]['age']).value_counts().index\n",
        "ages_men = round(df_clean[df_clean['gender']==2]['age']).value_counts()\n",
        "plt2 = plt.bar(years, ages_men, alpha=.8)\n",
        "\n",
        "plt.ylabel('Number of patients')\n",
        "plt.xlabel('Ages')\n",
        "plt.title('Ages by Gender')\n",
        "plt.legend((plt1[0], plt2[0]), ('Women', 'Men'))\n",
        "\n",
        "plt.show()"
      ],
      "execution_count": 33,
      "outputs": [
        {
          "output_type": "display_data",
          "data": {
            "image/png": "[encoded data removed]",
            "text/plain": [
              "<Figure size 720x504 with 1 Axes>"
            ]
          },
          "metadata": {
            "tags": []
          }
        }
      ]
    },
    {
      "cell_type": "markdown",
      "metadata": {
        "id": "QPuaKWVytcEN",
        "colab_type": "text"
      },
      "source": [
        "Here we can see the same distribution, but now delineated by gender. There appear to be more women in every age category."
      ]
    },
    {
      "cell_type": "code",
      "metadata": {
        "id": "5VTwxLebxatH",
        "colab_type": "code",
        "outputId": "b34dbe77-d5d9-4286-b1b7-40391b400c32",
        "colab": {
          "base_uri": "https://localhost:8080/",
          "height": 458
        }
      },
      "source": [
        "years = round(df_clean[df_clean['cardio']==0]['age']).value_counts().index\n",
        "without_cardio = round(df_clean[df_clean['cardio']==0]['age']).value_counts()\n",
        "plt1 = plt.bar(years, without_cardio)\n",
        "\n",
        "years = round(df_clean[df_clean['cardio']==1]['age']).value_counts().index\n",
        "with_cardio = round(df_clean[df_clean['cardio']==1]['age']).value_counts()\n",
        "plt2 = plt.bar(years, with_cardio, alpha=.8)\n",
        "\n",
        "plt.ylabel('Number of patients')\n",
        "plt.xlabel('Ages')\n",
        "plt.title('Occurance of Cardiovascular disease by Ages')\n",
        "plt.legend((plt1[0], plt2[0]), ('Without', 'With'))\n",
        "\n",
        "plt.show()"
      ],
      "execution_count": 42,
      "outputs": [
        {
          "output_type": "display_data",
          "data": {
            "image/png": "[encoded data removed]",
            "text/plain": [
              "<Figure size 720x504 with 1 Axes>"
            ]
          },
          "metadata": {
            "tags": []
          }
        }
      ]
    },
    {
      "cell_type": "markdown",
      "metadata": {
        "id": "u_cuW77_tv6-",
        "colab_type": "text"
      },
      "source": [
        "Another interesting thing we can look at is the age when more people have cardiovascular diesease as oppsed to those who do not. Those with cardiovascular disease consistently rises and eventually surpasses those who don't around the age of 55 and stays at a relatively high level while those without steadily decreases"
      ]
    },
    {
      "cell_type": "code",
      "metadata": {
        "id": "bIRznE7GgjEt",
        "colab_type": "code",
        "colab": {
          "base_uri": "https://localhost:8080/",
          "height": 204
        },
        "outputId": "f9e2df4b-9c88-41cd-ef14-4ea726a3e8c7"
      },
      "source": [
        "\n",
        "df_clean.head()"
      ],
      "execution_count": 52,
      "outputs": [
        {
          "output_type": "execute_result",
          "data": {
            "text/html": [
              "<div>\n",
              "<style scoped>\n",
              "    .dataframe tbody tr th:only-of-type {\n",
              "        vertical-align: middle;\n",
              "    }\n",
              "\n",
              "    .dataframe tbody tr th {\n",
              "        vertical-align: top;\n",
              "    }\n",
              "\n",
              "    .dataframe thead th {\n",
              "        text-align: right;\n",
              "    }\n",
              "</style>\n",
              "<table border=\"1\" class=\"dataframe\">\n",
              "  <thead>\n",
              "    <tr style=\"text-align: right;\">\n",
              "      <th></th>\n",
              "      <th>id</th>\n",
              "      <th>age</th>\n",
              "      <th>gender</th>\n",
              "      <th>height</th>\n",
              "      <th>weight</th>\n",
              "      <th>ap_hi</th>\n",
              "      <th>ap_lo</th>\n",
              "      <th>cholesterol</th>\n",
              "      <th>gluc</th>\n",
              "      <th>smoke</th>\n",
              "      <th>alco</th>\n",
              "      <th>active</th>\n",
              "      <th>cardio</th>\n",
              "      <th>bmi</th>\n",
              "    </tr>\n",
              "  </thead>\n",
              "  <tbody>\n",
              "    <tr>\n",
              "      <th>0</th>\n",
              "      <td>0</td>\n",
              "      <td>50.4</td>\n",
              "      <td>2</td>\n",
              "      <td>168</td>\n",
              "      <td>62.0</td>\n",
              "      <td>110</td>\n",
              "      <td>80</td>\n",
              "      <td>1</td>\n",
              "      <td>1</td>\n",
              "      <td>0</td>\n",
              "      <td>0</td>\n",
              "      <td>1</td>\n",
              "      <td>0</td>\n",
              "      <td>21.967120</td>\n",
              "    </tr>\n",
              "    <tr>\n",
              "      <th>1</th>\n",
              "      <td>1</td>\n",
              "      <td>55.4</td>\n",
              "      <td>1</td>\n",
              "      <td>156</td>\n",
              "      <td>85.0</td>\n",
              "      <td>140</td>\n",
              "      <td>90</td>\n",
              "      <td>3</td>\n",
              "      <td>1</td>\n",
              "      <td>0</td>\n",
              "      <td>0</td>\n",
              "      <td>1</td>\n",
              "      <td>1</td>\n",
              "      <td>34.927679</td>\n",
              "    </tr>\n",
              "    <tr>\n",
              "      <th>2</th>\n",
              "      <td>2</td>\n",
              "      <td>51.7</td>\n",
              "      <td>1</td>\n",
              "      <td>165</td>\n",
              "      <td>64.0</td>\n",
              "      <td>130</td>\n",
              "      <td>70</td>\n",
              "      <td>3</td>\n",
              "      <td>1</td>\n",
              "      <td>0</td>\n",
              "      <td>0</td>\n",
              "      <td>0</td>\n",
              "      <td>1</td>\n",
              "      <td>23.507805</td>\n",
              "    </tr>\n",
              "    <tr>\n",
              "      <th>3</th>\n",
              "      <td>3</td>\n",
              "      <td>48.3</td>\n",
              "      <td>2</td>\n",
              "      <td>169</td>\n",
              "      <td>82.0</td>\n",
              "      <td>150</td>\n",
              "      <td>100</td>\n",
              "      <td>1</td>\n",
              "      <td>1</td>\n",
              "      <td>0</td>\n",
              "      <td>0</td>\n",
              "      <td>1</td>\n",
              "      <td>1</td>\n",
              "      <td>28.710479</td>\n",
              "    </tr>\n",
              "    <tr>\n",
              "      <th>4</th>\n",
              "      <td>4</td>\n",
              "      <td>47.9</td>\n",
              "      <td>1</td>\n",
              "      <td>156</td>\n",
              "      <td>56.0</td>\n",
              "      <td>100</td>\n",
              "      <td>60</td>\n",
              "      <td>1</td>\n",
              "      <td>1</td>\n",
              "      <td>0</td>\n",
              "      <td>0</td>\n",
              "      <td>0</td>\n",
              "      <td>0</td>\n",
              "      <td>23.011177</td>\n",
              "    </tr>\n",
              "  </tbody>\n",
              "</table>\n",
              "</div>"
            ],
            "text/plain": [
              "   id   age  gender  height  weight  ...  smoke  alco  active  cardio        bmi\n",
              "0   0  50.4       2     168    62.0  ...      0     0       1       0  21.967120\n",
              "1   1  55.4       1     156    85.0  ...      0     0       1       1  34.927679\n",
              "2   2  51.7       1     165    64.0  ...      0     0       0       1  23.507805\n",
              "3   3  48.3       2     169    82.0  ...      0     0       1       1  28.710479\n",
              "4   4  47.9       1     156    56.0  ...      0     0       0       0  23.011177\n",
              "\n",
              "[5 rows x 14 columns]"
            ]
          },
          "metadata": {
            "tags": []
          },
          "execution_count": 52
        }
      ]
    },
    {
      "cell_type": "markdown",
      "metadata": {
        "id": "qHxtLtfVuQuA",
        "colab_type": "text"
      },
      "source": [
        "Take one last look at the frist 5 observations"
      ]
    },
    {
      "cell_type": "code",
      "metadata": {
        "id": "460_skLy7A9I",
        "colab_type": "code",
        "outputId": "a18510f8-73f4-47a3-fcf1-7199cc778428",
        "colab": {
          "base_uri": "https://localhost:8080/",
          "height": 52
        }
      },
      "source": [
        "print(df_clean.shape)\n",
        "print(df_full.shape)"
      ],
      "execution_count": 0,
      "outputs": [
        {
          "output_type": "stream",
          "text": [
            "(68082, 14)\n",
            "(70000, 14)\n"
          ],
          "name": "stdout"
        }
      ]
    },
    {
      "cell_type": "markdown",
      "metadata": {
        "id": "1UgucDw3uVeu",
        "colab_type": "text"
      },
      "source": [
        "Take a look at how the overall shape has changed through the cleaning. A total of 1,918 observations have been removed or 2.74%"
      ]
    },
    {
      "cell_type": "code",
      "metadata": {
        "id": "GMT3o4Zp02QO",
        "colab_type": "code",
        "outputId": "4a5dfef8-9c41-4883-c6ec-5c45c059aadd",
        "colab": {
          "base_uri": "https://localhost:8080/",
          "height": 657
        }
      },
      "source": [
        "for col in df_clean.drop(['id', 'cardio'],1):\n",
        "  print(col)\n",
        "  print(stats.ttest_ind(df_clean[col], df_clean['cardio']))\n",
        "  print()"
      ],
      "execution_count": 0,
      "outputs": [
        {
          "output_type": "stream",
          "text": [
            "age\n",
            "Ttest_indResult(statistic=2033.4073659785386, pvalue=0.0)\n",
            "\n",
            "gender\n",
            "Ttest_indResult(statistic=323.56990464565314, pvalue=0.0)\n",
            "\n",
            "height\n",
            "Ttest_indResult(statistic=5460.787385941692, pvalue=0.0)\n",
            "\n",
            "weight\n",
            "Ttest_indResult(statistic=1413.2373633130717, pvalue=0.0)\n",
            "\n",
            "ap_hi\n",
            "Ttest_indResult(statistic=1974.0749819335695, pvalue=0.0)\n",
            "\n",
            "ap_lo\n",
            "Ttest_indResult(statistic=2190.226055397503, pvalue=0.0)\n",
            "\n",
            "cholesterol\n",
            "Ttest_indResult(statistic=269.3877941766403, pvalue=0.0)\n",
            "\n",
            "gluc\n",
            "Ttest_indResult(statistic=251.46467680450004, pvalue=0.0)\n",
            "\n",
            "smoke\n",
            "Ttest_indResult(statistic=-183.9075527126967, pvalue=0.0)\n",
            "\n",
            "alco\n",
            "Ttest_indResult(statistic=-209.46958137073025, pvalue=0.0)\n",
            "\n",
            "active\n",
            "Ttest_indResult(statistic=126.66795586543361, pvalue=0.0)\n",
            "\n",
            "bmi\n",
            "Ttest_indResult(statistic=1435.0156927356975, pvalue=0.0)\n",
            "\n"
          ],
          "name": "stdout"
        }
      ]
    },
    {
      "cell_type": "markdown",
      "metadata": {
        "id": "dhXi-QIO_JLt",
        "colab_type": "text"
      },
      "source": [
        "Look at the t-statistic and p-values in relation to target value."
      ]
    },
    {
      "cell_type": "code",
      "metadata": {
        "id": "4Nknf1RH16ZT",
        "colab_type": "code",
        "outputId": "8b0cb356-5ec0-4e56-db76-3129d080d0e3",
        "colab": {
          "base_uri": "https://localhost:8080/",
          "height": 919
        }
      },
      "source": [
        "corrmat = df_clean.corr()\n",
        "sns.heatmap(corrmat)\n",
        "corrmat"
      ],
      "execution_count": 0,
      "outputs": [
        {
          "output_type": "execute_result",
          "data": {
            "text/html": [
              "<div>\n",
              "<style scoped>\n",
              "    .dataframe tbody tr th:only-of-type {\n",
              "        vertical-align: middle;\n",
              "    }\n",
              "\n",
              "    .dataframe tbody tr th {\n",
              "        vertical-align: top;\n",
              "    }\n",
              "\n",
              "    .dataframe thead th {\n",
              "        text-align: right;\n",
              "    }\n",
              "</style>\n",
              "<table border=\"1\" class=\"dataframe\">\n",
              "  <thead>\n",
              "    <tr style=\"text-align: right;\">\n",
              "      <th></th>\n",
              "      <th>id</th>\n",
              "      <th>age</th>\n",
              "      <th>gender</th>\n",
              "      <th>height</th>\n",
              "      <th>weight</th>\n",
              "      <th>ap_hi</th>\n",
              "      <th>ap_lo</th>\n",
              "      <th>cholesterol</th>\n",
              "      <th>gluc</th>\n",
              "      <th>smoke</th>\n",
              "      <th>alco</th>\n",
              "      <th>active</th>\n",
              "      <th>cardio</th>\n",
              "      <th>bmi</th>\n",
              "    </tr>\n",
              "  </thead>\n",
              "  <tbody>\n",
              "    <tr>\n",
              "      <th>id</th>\n",
              "      <td>1.000000</td>\n",
              "      <td>0.002950</td>\n",
              "      <td>0.003128</td>\n",
              "      <td>-0.002307</td>\n",
              "      <td>-0.000429</td>\n",
              "      <td>0.001251</td>\n",
              "      <td>-0.000160</td>\n",
              "      <td>0.005693</td>\n",
              "      <td>0.001488</td>\n",
              "      <td>-0.003923</td>\n",
              "      <td>-0.000017</td>\n",
              "      <td>0.003888</td>\n",
              "      <td>0.003770</td>\n",
              "      <td>0.000503</td>\n",
              "    </tr>\n",
              "    <tr>\n",
              "      <th>age</th>\n",
              "      <td>0.002950</td>\n",
              "      <td>1.000000</td>\n",
              "      <td>-0.022427</td>\n",
              "      <td>-0.085418</td>\n",
              "      <td>0.058103</td>\n",
              "      <td>0.209780</td>\n",
              "      <td>0.154515</td>\n",
              "      <td>0.154929</td>\n",
              "      <td>0.098679</td>\n",
              "      <td>-0.047166</td>\n",
              "      <td>-0.028195</td>\n",
              "      <td>-0.009925</td>\n",
              "      <td>0.239762</td>\n",
              "      <td>0.109246</td>\n",
              "    </tr>\n",
              "    <tr>\n",
              "      <th>gender</th>\n",
              "      <td>0.003128</td>\n",
              "      <td>-0.022427</td>\n",
              "      <td>1.000000</td>\n",
              "      <td>0.521150</td>\n",
              "      <td>0.176248</td>\n",
              "      <td>0.064864</td>\n",
              "      <td>0.068321</td>\n",
              "      <td>-0.035272</td>\n",
              "      <td>-0.020067</td>\n",
              "      <td>0.338968</td>\n",
              "      <td>0.170803</td>\n",
              "      <td>0.005881</td>\n",
              "      <td>0.008466</td>\n",
              "      <td>-0.105900</td>\n",
              "    </tr>\n",
              "    <tr>\n",
              "      <th>height</th>\n",
              "      <td>-0.002307</td>\n",
              "      <td>-0.085418</td>\n",
              "      <td>0.521150</td>\n",
              "      <td>1.000000</td>\n",
              "      <td>0.340105</td>\n",
              "      <td>0.020854</td>\n",
              "      <td>0.038301</td>\n",
              "      <td>-0.054406</td>\n",
              "      <td>-0.019458</td>\n",
              "      <td>0.195724</td>\n",
              "      <td>0.098401</td>\n",
              "      <td>-0.009388</td>\n",
              "      <td>-0.010980</td>\n",
              "      <td>-0.192217</td>\n",
              "    </tr>\n",
              "    <tr>\n",
              "      <th>weight</th>\n",
              "      <td>-0.000429</td>\n",
              "      <td>0.058103</td>\n",
              "      <td>0.176248</td>\n",
              "      <td>0.340105</td>\n",
              "      <td>1.000000</td>\n",
              "      <td>0.264736</td>\n",
              "      <td>0.246487</td>\n",
              "      <td>0.138576</td>\n",
              "      <td>0.101126</td>\n",
              "      <td>0.072995</td>\n",
              "      <td>0.070573</td>\n",
              "      <td>-0.018724</td>\n",
              "      <td>0.180094</td>\n",
              "      <td>0.853040</td>\n",
              "    </tr>\n",
              "    <tr>\n",
              "      <th>ap_hi</th>\n",
              "      <td>0.001251</td>\n",
              "      <td>0.209780</td>\n",
              "      <td>0.064864</td>\n",
              "      <td>0.020854</td>\n",
              "      <td>0.264736</td>\n",
              "      <td>1.000000</td>\n",
              "      <td>0.718885</td>\n",
              "      <td>0.193426</td>\n",
              "      <td>0.091329</td>\n",
              "      <td>0.028877</td>\n",
              "      <td>0.035885</td>\n",
              "      <td>-0.000658</td>\n",
              "      <td>0.427194</td>\n",
              "      <td>0.264667</td>\n",
              "    </tr>\n",
              "    <tr>\n",
              "      <th>ap_lo</th>\n",
              "      <td>-0.000160</td>\n",
              "      <td>0.154515</td>\n",
              "      <td>0.068321</td>\n",
              "      <td>0.038301</td>\n",
              "      <td>0.246487</td>\n",
              "      <td>0.718885</td>\n",
              "      <td>1.000000</td>\n",
              "      <td>0.157358</td>\n",
              "      <td>0.072154</td>\n",
              "      <td>0.026094</td>\n",
              "      <td>0.036875</td>\n",
              "      <td>-0.001034</td>\n",
              "      <td>0.334019</td>\n",
              "      <td>0.236193</td>\n",
              "    </tr>\n",
              "    <tr>\n",
              "      <th>cholesterol</th>\n",
              "      <td>0.005693</td>\n",
              "      <td>0.154929</td>\n",
              "      <td>-0.035272</td>\n",
              "      <td>-0.054406</td>\n",
              "      <td>0.138576</td>\n",
              "      <td>0.193426</td>\n",
              "      <td>0.157358</td>\n",
              "      <td>1.000000</td>\n",
              "      <td>0.449108</td>\n",
              "      <td>0.010244</td>\n",
              "      <td>0.035562</td>\n",
              "      <td>0.009126</td>\n",
              "      <td>0.221305</td>\n",
              "      <td>0.173265</td>\n",
              "    </tr>\n",
              "    <tr>\n",
              "      <th>gluc</th>\n",
              "      <td>0.001488</td>\n",
              "      <td>0.098679</td>\n",
              "      <td>-0.020067</td>\n",
              "      <td>-0.019458</td>\n",
              "      <td>0.101126</td>\n",
              "      <td>0.091329</td>\n",
              "      <td>0.072154</td>\n",
              "      <td>0.449108</td>\n",
              "      <td>1.000000</td>\n",
              "      <td>-0.006073</td>\n",
              "      <td>0.009937</td>\n",
              "      <td>-0.007443</td>\n",
              "      <td>0.088950</td>\n",
              "      <td>0.115171</td>\n",
              "    </tr>\n",
              "    <tr>\n",
              "      <th>smoke</th>\n",
              "      <td>-0.003923</td>\n",
              "      <td>-0.047166</td>\n",
              "      <td>0.338968</td>\n",
              "      <td>0.195724</td>\n",
              "      <td>0.072995</td>\n",
              "      <td>0.028877</td>\n",
              "      <td>0.026094</td>\n",
              "      <td>0.010244</td>\n",
              "      <td>-0.006073</td>\n",
              "      <td>1.000000</td>\n",
              "      <td>0.341268</td>\n",
              "      <td>0.025281</td>\n",
              "      <td>-0.016048</td>\n",
              "      <td>-0.032509</td>\n",
              "    </tr>\n",
              "    <tr>\n",
              "      <th>alco</th>\n",
              "      <td>-0.000017</td>\n",
              "      <td>-0.028195</td>\n",
              "      <td>0.170803</td>\n",
              "      <td>0.098401</td>\n",
              "      <td>0.070573</td>\n",
              "      <td>0.035885</td>\n",
              "      <td>0.036875</td>\n",
              "      <td>0.035562</td>\n",
              "      <td>0.009937</td>\n",
              "      <td>0.341268</td>\n",
              "      <td>1.000000</td>\n",
              "      <td>0.025004</td>\n",
              "      <td>-0.008182</td>\n",
              "      <td>0.018479</td>\n",
              "    </tr>\n",
              "    <tr>\n",
              "      <th>active</th>\n",
              "      <td>0.003888</td>\n",
              "      <td>-0.009925</td>\n",
              "      <td>0.005881</td>\n",
              "      <td>-0.009388</td>\n",
              "      <td>-0.018724</td>\n",
              "      <td>-0.000658</td>\n",
              "      <td>-0.001034</td>\n",
              "      <td>0.009126</td>\n",
              "      <td>-0.007443</td>\n",
              "      <td>0.025281</td>\n",
              "      <td>0.025004</td>\n",
              "      <td>1.000000</td>\n",
              "      <td>-0.037524</td>\n",
              "      <td>-0.014945</td>\n",
              "    </tr>\n",
              "    <tr>\n",
              "      <th>cardio</th>\n",
              "      <td>0.003770</td>\n",
              "      <td>0.239762</td>\n",
              "      <td>0.008466</td>\n",
              "      <td>-0.010980</td>\n",
              "      <td>0.180094</td>\n",
              "      <td>0.427194</td>\n",
              "      <td>0.334019</td>\n",
              "      <td>0.221305</td>\n",
              "      <td>0.088950</td>\n",
              "      <td>-0.016048</td>\n",
              "      <td>-0.008182</td>\n",
              "      <td>-0.037524</td>\n",
              "      <td>1.000000</td>\n",
              "      <td>0.193556</td>\n",
              "    </tr>\n",
              "    <tr>\n",
              "      <th>bmi</th>\n",
              "      <td>0.000503</td>\n",
              "      <td>0.109246</td>\n",
              "      <td>-0.105900</td>\n",
              "      <td>-0.192217</td>\n",
              "      <td>0.853040</td>\n",
              "      <td>0.264667</td>\n",
              "      <td>0.236193</td>\n",
              "      <td>0.173265</td>\n",
              "      <td>0.115171</td>\n",
              "      <td>-0.032509</td>\n",
              "      <td>0.018479</td>\n",
              "      <td>-0.014945</td>\n",
              "      <td>0.193556</td>\n",
              "      <td>1.000000</td>\n",
              "    </tr>\n",
              "  </tbody>\n",
              "</table>\n",
              "</div>"
            ],
            "text/plain": [
              "                   id       age    gender  ...    active    cardio       bmi\n",
              "id           1.000000  0.002950  0.003128  ...  0.003888  0.003770  0.000503\n",
              "age          0.002950  1.000000 -0.022427  ... -0.009925  0.239762  0.109246\n",
              "gender       0.003128 -0.022427  1.000000  ...  0.005881  0.008466 -0.105900\n",
              "height      -0.002307 -0.085418  0.521150  ... -0.009388 -0.010980 -0.192217\n",
              "weight      -0.000429  0.058103  0.176248  ... -0.018724  0.180094  0.853040\n",
              "ap_hi        0.001251  0.209780  0.064864  ... -0.000658  0.427194  0.264667\n",
              "ap_lo       -0.000160  0.154515  0.068321  ... -0.001034  0.334019  0.236193\n",
              "cholesterol  0.005693  0.154929 -0.035272  ...  0.009126  0.221305  0.173265\n",
              "gluc         0.001488  0.098679 -0.020067  ... -0.007443  0.088950  0.115171\n",
              "smoke       -0.003923 -0.047166  0.338968  ...  0.025281 -0.016048 -0.032509\n",
              "alco        -0.000017 -0.028195  0.170803  ...  0.025004 -0.008182  0.018479\n",
              "active       0.003888 -0.009925  0.005881  ...  1.000000 -0.037524 -0.014945\n",
              "cardio       0.003770  0.239762  0.008466  ... -0.037524  1.000000  0.193556\n",
              "bmi          0.000503  0.109246 -0.105900  ... -0.014945  0.193556  1.000000\n",
              "\n",
              "[14 rows x 14 columns]"
            ]
          },
          "metadata": {
            "tags": []
          },
          "execution_count": 22
        },
        {
          "output_type": "display_data",
          "data": {
            "image/png": "[encoded data removed]",
            "text/plain": [
              "<Figure size 720x504 with 2 Axes>"
            ]
          },
          "metadata": {
            "tags": []
          }
        }
      ]
    },
    {
      "cell_type": "markdown",
      "metadata": {
        "id": "hS8jiX5HvrBd",
        "colab_type": "text"
      },
      "source": [
        "Looking at which features have high colinearity between one another. Since BMI was only calculated to remove outliers, it will be dropped. Ap_hi and ap_lo have some colinearity as well as weight and gender. "
      ]
    },
    {
      "cell_type": "code",
      "metadata": {
        "id": "LUxGyLAZGe7I",
        "colab_type": "code",
        "outputId": "b4e0c57a-fd3e-4f64-acd7-20527ea6ffff",
        "colab": {
          "base_uri": "https://localhost:8080/",
          "height": 831
        }
      },
      "source": [
        "# Create features and target variables\n",
        "X_clean = df_clean.drop(['id', 'cardio', 'bmi'], 1)\n",
        "y_clean = df_clean.cardio\n",
        "\n",
        "X_full = df_full.drop(['id', 'cardio', 'bmi'], 1)\n",
        "y_full = df_full['cardio']\n",
        "\n",
        "# Look at a correlation matrix and heatmap of correlation between feature variables\n",
        "corrmat_clean = X_clean.corr()\n",
        "sns.heatmap(corrmat_clean);\n",
        "corrmat_clean"
      ],
      "execution_count": 0,
      "outputs": [
        {
          "output_type": "execute_result",
          "data": {
            "text/html": [
              "<div>\n",
              "<style scoped>\n",
              "    .dataframe tbody tr th:only-of-type {\n",
              "        vertical-align: middle;\n",
              "    }\n",
              "\n",
              "    .dataframe tbody tr th {\n",
              "        vertical-align: top;\n",
              "    }\n",
              "\n",
              "    .dataframe thead th {\n",
              "        text-align: right;\n",
              "    }\n",
              "</style>\n",
              "<table border=\"1\" class=\"dataframe\">\n",
              "  <thead>\n",
              "    <tr style=\"text-align: right;\">\n",
              "      <th></th>\n",
              "      <th>age</th>\n",
              "      <th>gender</th>\n",
              "      <th>height</th>\n",
              "      <th>weight</th>\n",
              "      <th>ap_hi</th>\n",
              "      <th>ap_lo</th>\n",
              "      <th>cholesterol</th>\n",
              "      <th>gluc</th>\n",
              "      <th>smoke</th>\n",
              "      <th>alco</th>\n",
              "      <th>active</th>\n",
              "    </tr>\n",
              "  </thead>\n",
              "  <tbody>\n",
              "    <tr>\n",
              "      <th>age</th>\n",
              "      <td>1.000000</td>\n",
              "      <td>-0.022427</td>\n",
              "      <td>-0.085418</td>\n",
              "      <td>0.058103</td>\n",
              "      <td>0.209780</td>\n",
              "      <td>0.154515</td>\n",
              "      <td>0.154929</td>\n",
              "      <td>0.098679</td>\n",
              "      <td>-0.047166</td>\n",
              "      <td>-0.028195</td>\n",
              "      <td>-0.009925</td>\n",
              "    </tr>\n",
              "    <tr>\n",
              "      <th>gender</th>\n",
              "      <td>-0.022427</td>\n",
              "      <td>1.000000</td>\n",
              "      <td>0.521150</td>\n",
              "      <td>0.176248</td>\n",
              "      <td>0.064864</td>\n",
              "      <td>0.068321</td>\n",
              "      <td>-0.035272</td>\n",
              "      <td>-0.020067</td>\n",
              "      <td>0.338968</td>\n",
              "      <td>0.170803</td>\n",
              "      <td>0.005881</td>\n",
              "    </tr>\n",
              "    <tr>\n",
              "      <th>height</th>\n",
              "      <td>-0.085418</td>\n",
              "      <td>0.521150</td>\n",
              "      <td>1.000000</td>\n",
              "      <td>0.340105</td>\n",
              "      <td>0.020854</td>\n",
              "      <td>0.038301</td>\n",
              "      <td>-0.054406</td>\n",
              "      <td>-0.019458</td>\n",
              "      <td>0.195724</td>\n",
              "      <td>0.098401</td>\n",
              "      <td>-0.009388</td>\n",
              "    </tr>\n",
              "    <tr>\n",
              "      <th>weight</th>\n",
              "      <td>0.058103</td>\n",
              "      <td>0.176248</td>\n",
              "      <td>0.340105</td>\n",
              "      <td>1.000000</td>\n",
              "      <td>0.264736</td>\n",
              "      <td>0.246487</td>\n",
              "      <td>0.138576</td>\n",
              "      <td>0.101126</td>\n",
              "      <td>0.072995</td>\n",
              "      <td>0.070573</td>\n",
              "      <td>-0.018724</td>\n",
              "    </tr>\n",
              "    <tr>\n",
              "      <th>ap_hi</th>\n",
              "      <td>0.209780</td>\n",
              "      <td>0.064864</td>\n",
              "      <td>0.020854</td>\n",
              "      <td>0.264736</td>\n",
              "      <td>1.000000</td>\n",
              "      <td>0.718885</td>\n",
              "      <td>0.193426</td>\n",
              "      <td>0.091329</td>\n",
              "      <td>0.028877</td>\n",
              "      <td>0.035885</td>\n",
              "      <td>-0.000658</td>\n",
              "    </tr>\n",
              "    <tr>\n",
              "      <th>ap_lo</th>\n",
              "      <td>0.154515</td>\n",
              "      <td>0.068321</td>\n",
              "      <td>0.038301</td>\n",
              "      <td>0.246487</td>\n",
              "      <td>0.718885</td>\n",
              "      <td>1.000000</td>\n",
              "      <td>0.157358</td>\n",
              "      <td>0.072154</td>\n",
              "      <td>0.026094</td>\n",
              "      <td>0.036875</td>\n",
              "      <td>-0.001034</td>\n",
              "    </tr>\n",
              "    <tr>\n",
              "      <th>cholesterol</th>\n",
              "      <td>0.154929</td>\n",
              "      <td>-0.035272</td>\n",
              "      <td>-0.054406</td>\n",
              "      <td>0.138576</td>\n",
              "      <td>0.193426</td>\n",
              "      <td>0.157358</td>\n",
              "      <td>1.000000</td>\n",
              "      <td>0.449108</td>\n",
              "      <td>0.010244</td>\n",
              "      <td>0.035562</td>\n",
              "      <td>0.009126</td>\n",
              "    </tr>\n",
              "    <tr>\n",
              "      <th>gluc</th>\n",
              "      <td>0.098679</td>\n",
              "      <td>-0.020067</td>\n",
              "      <td>-0.019458</td>\n",
              "      <td>0.101126</td>\n",
              "      <td>0.091329</td>\n",
              "      <td>0.072154</td>\n",
              "      <td>0.449108</td>\n",
              "      <td>1.000000</td>\n",
              "      <td>-0.006073</td>\n",
              "      <td>0.009937</td>\n",
              "      <td>-0.007443</td>\n",
              "    </tr>\n",
              "    <tr>\n",
              "      <th>smoke</th>\n",
              "      <td>-0.047166</td>\n",
              "      <td>0.338968</td>\n",
              "      <td>0.195724</td>\n",
              "      <td>0.072995</td>\n",
              "      <td>0.028877</td>\n",
              "      <td>0.026094</td>\n",
              "      <td>0.010244</td>\n",
              "      <td>-0.006073</td>\n",
              "      <td>1.000000</td>\n",
              "      <td>0.341268</td>\n",
              "      <td>0.025281</td>\n",
              "    </tr>\n",
              "    <tr>\n",
              "      <th>alco</th>\n",
              "      <td>-0.028195</td>\n",
              "      <td>0.170803</td>\n",
              "      <td>0.098401</td>\n",
              "      <td>0.070573</td>\n",
              "      <td>0.035885</td>\n",
              "      <td>0.036875</td>\n",
              "      <td>0.035562</td>\n",
              "      <td>0.009937</td>\n",
              "      <td>0.341268</td>\n",
              "      <td>1.000000</td>\n",
              "      <td>0.025004</td>\n",
              "    </tr>\n",
              "    <tr>\n",
              "      <th>active</th>\n",
              "      <td>-0.009925</td>\n",
              "      <td>0.005881</td>\n",
              "      <td>-0.009388</td>\n",
              "      <td>-0.018724</td>\n",
              "      <td>-0.000658</td>\n",
              "      <td>-0.001034</td>\n",
              "      <td>0.009126</td>\n",
              "      <td>-0.007443</td>\n",
              "      <td>0.025281</td>\n",
              "      <td>0.025004</td>\n",
              "      <td>1.000000</td>\n",
              "    </tr>\n",
              "  </tbody>\n",
              "</table>\n",
              "</div>"
            ],
            "text/plain": [
              "                  age    gender    height  ...     smoke      alco    active\n",
              "age          1.000000 -0.022427 -0.085418  ... -0.047166 -0.028195 -0.009925\n",
              "gender      -0.022427  1.000000  0.521150  ...  0.338968  0.170803  0.005881\n",
              "height      -0.085418  0.521150  1.000000  ...  0.195724  0.098401 -0.009388\n",
              "weight       0.058103  0.176248  0.340105  ...  0.072995  0.070573 -0.018724\n",
              "ap_hi        0.209780  0.064864  0.020854  ...  0.028877  0.035885 -0.000658\n",
              "ap_lo        0.154515  0.068321  0.038301  ...  0.026094  0.036875 -0.001034\n",
              "cholesterol  0.154929 -0.035272 -0.054406  ...  0.010244  0.035562  0.009126\n",
              "gluc         0.098679 -0.020067 -0.019458  ... -0.006073  0.009937 -0.007443\n",
              "smoke       -0.047166  0.338968  0.195724  ...  1.000000  0.341268  0.025281\n",
              "alco        -0.028195  0.170803  0.098401  ...  0.341268  1.000000  0.025004\n",
              "active      -0.009925  0.005881 -0.009388  ...  0.025281  0.025004  1.000000\n",
              "\n",
              "[11 rows x 11 columns]"
            ]
          },
          "metadata": {
            "tags": []
          },
          "execution_count": 23
        },
        {
          "output_type": "display_data",
          "data": {
            "image/png": "[encoded data removed]",
            "text/plain": [
              "<Figure size 720x504 with 2 Axes>"
            ]
          },
          "metadata": {
            "tags": []
          }
        }
      ]
    },
    {
      "cell_type": "code",
      "metadata": {
        "id": "J66Zm6MfyQ3s",
        "colab_type": "code",
        "outputId": "0945d403-e55f-4222-f451-d1d6d33bcf35",
        "colab": {
          "base_uri": "https://localhost:8080/",
          "height": 831
        }
      },
      "source": [
        "corrmat_full = X_full.corr()\n",
        "sns.heatmap(corrmat_full);\n",
        "corrmat_full"
      ],
      "execution_count": 0,
      "outputs": [
        {
          "output_type": "execute_result",
          "data": {
            "text/html": [
              "<div>\n",
              "<style scoped>\n",
              "    .dataframe tbody tr th:only-of-type {\n",
              "        vertical-align: middle;\n",
              "    }\n",
              "\n",
              "    .dataframe tbody tr th {\n",
              "        vertical-align: top;\n",
              "    }\n",
              "\n",
              "    .dataframe thead th {\n",
              "        text-align: right;\n",
              "    }\n",
              "</style>\n",
              "<table border=\"1\" class=\"dataframe\">\n",
              "  <thead>\n",
              "    <tr style=\"text-align: right;\">\n",
              "      <th></th>\n",
              "      <th>age</th>\n",
              "      <th>gender</th>\n",
              "      <th>height</th>\n",
              "      <th>weight</th>\n",
              "      <th>ap_hi</th>\n",
              "      <th>ap_lo</th>\n",
              "      <th>cholesterol</th>\n",
              "      <th>gluc</th>\n",
              "      <th>smoke</th>\n",
              "      <th>alco</th>\n",
              "      <th>active</th>\n",
              "    </tr>\n",
              "  </thead>\n",
              "  <tbody>\n",
              "    <tr>\n",
              "      <th>age</th>\n",
              "      <td>1.000000</td>\n",
              "      <td>-0.022794</td>\n",
              "      <td>-0.081522</td>\n",
              "      <td>0.053654</td>\n",
              "      <td>0.020778</td>\n",
              "      <td>0.017630</td>\n",
              "      <td>0.154394</td>\n",
              "      <td>0.098672</td>\n",
              "      <td>-0.047638</td>\n",
              "      <td>-0.029730</td>\n",
              "      <td>-0.009931</td>\n",
              "    </tr>\n",
              "    <tr>\n",
              "      <th>gender</th>\n",
              "      <td>-0.022794</td>\n",
              "      <td>1.000000</td>\n",
              "      <td>0.499033</td>\n",
              "      <td>0.155406</td>\n",
              "      <td>0.006005</td>\n",
              "      <td>0.015254</td>\n",
              "      <td>-0.035821</td>\n",
              "      <td>-0.020491</td>\n",
              "      <td>0.338135</td>\n",
              "      <td>0.170966</td>\n",
              "      <td>0.005866</td>\n",
              "    </tr>\n",
              "    <tr>\n",
              "      <th>height</th>\n",
              "      <td>-0.081522</td>\n",
              "      <td>0.499033</td>\n",
              "      <td>1.000000</td>\n",
              "      <td>0.290968</td>\n",
              "      <td>0.005488</td>\n",
              "      <td>0.006150</td>\n",
              "      <td>-0.050226</td>\n",
              "      <td>-0.018595</td>\n",
              "      <td>0.187989</td>\n",
              "      <td>0.094419</td>\n",
              "      <td>-0.006570</td>\n",
              "    </tr>\n",
              "    <tr>\n",
              "      <th>weight</th>\n",
              "      <td>0.053654</td>\n",
              "      <td>0.155406</td>\n",
              "      <td>0.290968</td>\n",
              "      <td>1.000000</td>\n",
              "      <td>0.030702</td>\n",
              "      <td>0.043710</td>\n",
              "      <td>0.141768</td>\n",
              "      <td>0.106857</td>\n",
              "      <td>0.067780</td>\n",
              "      <td>0.067113</td>\n",
              "      <td>-0.016867</td>\n",
              "    </tr>\n",
              "    <tr>\n",
              "      <th>ap_hi</th>\n",
              "      <td>0.020778</td>\n",
              "      <td>0.006005</td>\n",
              "      <td>0.005488</td>\n",
              "      <td>0.030702</td>\n",
              "      <td>1.000000</td>\n",
              "      <td>0.016086</td>\n",
              "      <td>0.023778</td>\n",
              "      <td>0.011841</td>\n",
              "      <td>-0.000922</td>\n",
              "      <td>0.001408</td>\n",
              "      <td>-0.000033</td>\n",
              "    </tr>\n",
              "    <tr>\n",
              "      <th>ap_lo</th>\n",
              "      <td>0.017630</td>\n",
              "      <td>0.015254</td>\n",
              "      <td>0.006150</td>\n",
              "      <td>0.043710</td>\n",
              "      <td>0.016086</td>\n",
              "      <td>1.000000</td>\n",
              "      <td>0.024019</td>\n",
              "      <td>0.010806</td>\n",
              "      <td>0.005186</td>\n",
              "      <td>0.010601</td>\n",
              "      <td>0.004780</td>\n",
              "    </tr>\n",
              "    <tr>\n",
              "      <th>cholesterol</th>\n",
              "      <td>0.154394</td>\n",
              "      <td>-0.035821</td>\n",
              "      <td>-0.050226</td>\n",
              "      <td>0.141768</td>\n",
              "      <td>0.023778</td>\n",
              "      <td>0.024019</td>\n",
              "      <td>1.000000</td>\n",
              "      <td>0.451578</td>\n",
              "      <td>0.010354</td>\n",
              "      <td>0.035760</td>\n",
              "      <td>0.009911</td>\n",
              "    </tr>\n",
              "    <tr>\n",
              "      <th>gluc</th>\n",
              "      <td>0.098672</td>\n",
              "      <td>-0.020491</td>\n",
              "      <td>-0.018595</td>\n",
              "      <td>0.106857</td>\n",
              "      <td>0.011841</td>\n",
              "      <td>0.010806</td>\n",
              "      <td>0.451578</td>\n",
              "      <td>1.000000</td>\n",
              "      <td>-0.004756</td>\n",
              "      <td>0.011246</td>\n",
              "      <td>-0.006770</td>\n",
              "    </tr>\n",
              "    <tr>\n",
              "      <th>smoke</th>\n",
              "      <td>-0.047638</td>\n",
              "      <td>0.338135</td>\n",
              "      <td>0.187989</td>\n",
              "      <td>0.067780</td>\n",
              "      <td>-0.000922</td>\n",
              "      <td>0.005186</td>\n",
              "      <td>0.010354</td>\n",
              "      <td>-0.004756</td>\n",
              "      <td>1.000000</td>\n",
              "      <td>0.340094</td>\n",
              "      <td>0.025858</td>\n",
              "    </tr>\n",
              "    <tr>\n",
              "      <th>alco</th>\n",
              "      <td>-0.029730</td>\n",
              "      <td>0.170966</td>\n",
              "      <td>0.094419</td>\n",
              "      <td>0.067113</td>\n",
              "      <td>0.001408</td>\n",
              "      <td>0.010601</td>\n",
              "      <td>0.035760</td>\n",
              "      <td>0.011246</td>\n",
              "      <td>0.340094</td>\n",
              "      <td>1.000000</td>\n",
              "      <td>0.025476</td>\n",
              "    </tr>\n",
              "    <tr>\n",
              "      <th>active</th>\n",
              "      <td>-0.009931</td>\n",
              "      <td>0.005866</td>\n",
              "      <td>-0.006570</td>\n",
              "      <td>-0.016867</td>\n",
              "      <td>-0.000033</td>\n",
              "      <td>0.004780</td>\n",
              "      <td>0.009911</td>\n",
              "      <td>-0.006770</td>\n",
              "      <td>0.025858</td>\n",
              "      <td>0.025476</td>\n",
              "      <td>1.000000</td>\n",
              "    </tr>\n",
              "  </tbody>\n",
              "</table>\n",
              "</div>"
            ],
            "text/plain": [
              "                  age    gender    height  ...     smoke      alco    active\n",
              "age          1.000000 -0.022794 -0.081522  ... -0.047638 -0.029730 -0.009931\n",
              "gender      -0.022794  1.000000  0.499033  ...  0.338135  0.170966  0.005866\n",
              "height      -0.081522  0.499033  1.000000  ...  0.187989  0.094419 -0.006570\n",
              "weight       0.053654  0.155406  0.290968  ...  0.067780  0.067113 -0.016867\n",
              "ap_hi        0.020778  0.006005  0.005488  ... -0.000922  0.001408 -0.000033\n",
              "ap_lo        0.017630  0.015254  0.006150  ...  0.005186  0.010601  0.004780\n",
              "cholesterol  0.154394 -0.035821 -0.050226  ...  0.010354  0.035760  0.009911\n",
              "gluc         0.098672 -0.020491 -0.018595  ... -0.004756  0.011246 -0.006770\n",
              "smoke       -0.047638  0.338135  0.187989  ...  1.000000  0.340094  0.025858\n",
              "alco        -0.029730  0.170966  0.094419  ...  0.340094  1.000000  0.025476\n",
              "active      -0.009931  0.005866 -0.006570  ...  0.025858  0.025476  1.000000\n",
              "\n",
              "[11 rows x 11 columns]"
            ]
          },
          "metadata": {
            "tags": []
          },
          "execution_count": 24
        },
        {
          "output_type": "display_data",
          "data": {
            "image/png": "[encoded data removed]",
            "text/plain": [
              "<Figure size 720x504 with 2 Axes>"
            ]
          },
          "metadata": {
            "tags": []
          }
        }
      ]
    },
    {
      "cell_type": "markdown",
      "metadata": {
        "id": "8f-HHF1q_mHU",
        "colab_type": "text"
      },
      "source": [
        "A comparison to see what the correlation between features are with the full/uncleaned dataset. Because the two heatmaps look similar, the modeling section will contain models built with the full and cleaned datasets."
      ]
    },
    {
      "cell_type": "markdown",
      "metadata": {
        "id": "tigfX4MKGVyk",
        "colab_type": "text"
      },
      "source": [
        "# Modeling\n"
      ]
    },
    {
      "cell_type": "markdown",
      "metadata": {
        "id": "kriRSIPnSadS",
        "colab_type": "text"
      },
      "source": [
        "### Feature Selection"
      ]
    },
    {
      "cell_type": "code",
      "metadata": {
        "id": "UJTTIld2Sf3s",
        "colab_type": "code",
        "outputId": "a6b262c6-a02a-4369-f627-7fb84c3d9592",
        "colab": {
          "base_uri": "https://localhost:8080/",
          "height": 194
        }
      },
      "source": [
        "# Use SelectKBest to find the 10 most significant features for the cleaned dataset\n",
        "X_new = SelectKBest(k=10).fit_transform(X_clean, y_clean)\n",
        "Kbest_X_clean = pd.DataFrame(X_new)\n",
        "Kbest_X_clean.head()"
      ],
      "execution_count": 0,
      "outputs": [
        {
          "output_type": "execute_result",
          "data": {
            "text/html": [
              "<div>\n",
              "<style scoped>\n",
              "    .dataframe tbody tr th:only-of-type {\n",
              "        vertical-align: middle;\n",
              "    }\n",
              "\n",
              "    .dataframe tbody tr th {\n",
              "        vertical-align: top;\n",
              "    }\n",
              "\n",
              "    .dataframe thead th {\n",
              "        text-align: right;\n",
              "    }\n",
              "</style>\n",
              "<table border=\"1\" class=\"dataframe\">\n",
              "  <thead>\n",
              "    <tr style=\"text-align: right;\">\n",
              "      <th></th>\n",
              "      <th>0</th>\n",
              "      <th>1</th>\n",
              "      <th>2</th>\n",
              "      <th>3</th>\n",
              "      <th>4</th>\n",
              "      <th>5</th>\n",
              "      <th>6</th>\n",
              "      <th>7</th>\n",
              "      <th>8</th>\n",
              "      <th>9</th>\n",
              "    </tr>\n",
              "  </thead>\n",
              "  <tbody>\n",
              "    <tr>\n",
              "      <th>0</th>\n",
              "      <td>50.4</td>\n",
              "      <td>2.0</td>\n",
              "      <td>168.0</td>\n",
              "      <td>62.0</td>\n",
              "      <td>110.0</td>\n",
              "      <td>80.0</td>\n",
              "      <td>1.0</td>\n",
              "      <td>1.0</td>\n",
              "      <td>0.0</td>\n",
              "      <td>1.0</td>\n",
              "    </tr>\n",
              "    <tr>\n",
              "      <th>1</th>\n",
              "      <td>55.4</td>\n",
              "      <td>1.0</td>\n",
              "      <td>156.0</td>\n",
              "      <td>85.0</td>\n",
              "      <td>140.0</td>\n",
              "      <td>90.0</td>\n",
              "      <td>3.0</td>\n",
              "      <td>1.0</td>\n",
              "      <td>0.0</td>\n",
              "      <td>1.0</td>\n",
              "    </tr>\n",
              "    <tr>\n",
              "      <th>2</th>\n",
              "      <td>51.7</td>\n",
              "      <td>1.0</td>\n",
              "      <td>165.0</td>\n",
              "      <td>64.0</td>\n",
              "      <td>130.0</td>\n",
              "      <td>70.0</td>\n",
              "      <td>3.0</td>\n",
              "      <td>1.0</td>\n",
              "      <td>0.0</td>\n",
              "      <td>0.0</td>\n",
              "    </tr>\n",
              "    <tr>\n",
              "      <th>3</th>\n",
              "      <td>48.3</td>\n",
              "      <td>2.0</td>\n",
              "      <td>169.0</td>\n",
              "      <td>82.0</td>\n",
              "      <td>150.0</td>\n",
              "      <td>100.0</td>\n",
              "      <td>1.0</td>\n",
              "      <td>1.0</td>\n",
              "      <td>0.0</td>\n",
              "      <td>1.0</td>\n",
              "    </tr>\n",
              "    <tr>\n",
              "      <th>4</th>\n",
              "      <td>47.9</td>\n",
              "      <td>1.0</td>\n",
              "      <td>156.0</td>\n",
              "      <td>56.0</td>\n",
              "      <td>100.0</td>\n",
              "      <td>60.0</td>\n",
              "      <td>1.0</td>\n",
              "      <td>1.0</td>\n",
              "      <td>0.0</td>\n",
              "      <td>0.0</td>\n",
              "    </tr>\n",
              "  </tbody>\n",
              "</table>\n",
              "</div>"
            ],
            "text/plain": [
              "      0    1      2     3      4      5    6    7    8    9\n",
              "0  50.4  2.0  168.0  62.0  110.0   80.0  1.0  1.0  0.0  1.0\n",
              "1  55.4  1.0  156.0  85.0  140.0   90.0  3.0  1.0  0.0  1.0\n",
              "2  51.7  1.0  165.0  64.0  130.0   70.0  3.0  1.0  0.0  0.0\n",
              "3  48.3  2.0  169.0  82.0  150.0  100.0  1.0  1.0  0.0  1.0\n",
              "4  47.9  1.0  156.0  56.0  100.0   60.0  1.0  1.0  0.0  0.0"
            ]
          },
          "metadata": {
            "tags": []
          },
          "execution_count": 25
        }
      ]
    },
    {
      "cell_type": "code",
      "metadata": {
        "id": "8-llQL-XysZc",
        "colab_type": "code",
        "outputId": "4e084e82-c105-4c67-dd86-33b271252070",
        "colab": {
          "base_uri": "https://localhost:8080/",
          "height": 194
        }
      },
      "source": [
        "# Same but for the full dataset\n",
        "X_new = SelectKBest(k=10).fit_transform(X_full, y_full)\n",
        "Kbest_X_full = pd.DataFrame(X_new)\n",
        "Kbest_X_full.head()"
      ],
      "execution_count": 0,
      "outputs": [
        {
          "output_type": "execute_result",
          "data": {
            "text/html": [
              "<div>\n",
              "<style scoped>\n",
              "    .dataframe tbody tr th:only-of-type {\n",
              "        vertical-align: middle;\n",
              "    }\n",
              "\n",
              "    .dataframe tbody tr th {\n",
              "        vertical-align: top;\n",
              "    }\n",
              "\n",
              "    .dataframe thead th {\n",
              "        text-align: right;\n",
              "    }\n",
              "</style>\n",
              "<table border=\"1\" class=\"dataframe\">\n",
              "  <thead>\n",
              "    <tr style=\"text-align: right;\">\n",
              "      <th></th>\n",
              "      <th>0</th>\n",
              "      <th>1</th>\n",
              "      <th>2</th>\n",
              "      <th>3</th>\n",
              "      <th>4</th>\n",
              "      <th>5</th>\n",
              "      <th>6</th>\n",
              "      <th>7</th>\n",
              "      <th>8</th>\n",
              "      <th>9</th>\n",
              "    </tr>\n",
              "  </thead>\n",
              "  <tbody>\n",
              "    <tr>\n",
              "      <th>0</th>\n",
              "      <td>50.4</td>\n",
              "      <td>2.0</td>\n",
              "      <td>168.0</td>\n",
              "      <td>62.0</td>\n",
              "      <td>110.0</td>\n",
              "      <td>80.0</td>\n",
              "      <td>1.0</td>\n",
              "      <td>1.0</td>\n",
              "      <td>0.0</td>\n",
              "      <td>1.0</td>\n",
              "    </tr>\n",
              "    <tr>\n",
              "      <th>1</th>\n",
              "      <td>55.4</td>\n",
              "      <td>1.0</td>\n",
              "      <td>156.0</td>\n",
              "      <td>85.0</td>\n",
              "      <td>140.0</td>\n",
              "      <td>90.0</td>\n",
              "      <td>3.0</td>\n",
              "      <td>1.0</td>\n",
              "      <td>0.0</td>\n",
              "      <td>1.0</td>\n",
              "    </tr>\n",
              "    <tr>\n",
              "      <th>2</th>\n",
              "      <td>51.7</td>\n",
              "      <td>1.0</td>\n",
              "      <td>165.0</td>\n",
              "      <td>64.0</td>\n",
              "      <td>130.0</td>\n",
              "      <td>70.0</td>\n",
              "      <td>3.0</td>\n",
              "      <td>1.0</td>\n",
              "      <td>0.0</td>\n",
              "      <td>0.0</td>\n",
              "    </tr>\n",
              "    <tr>\n",
              "      <th>3</th>\n",
              "      <td>48.3</td>\n",
              "      <td>2.0</td>\n",
              "      <td>169.0</td>\n",
              "      <td>82.0</td>\n",
              "      <td>150.0</td>\n",
              "      <td>100.0</td>\n",
              "      <td>1.0</td>\n",
              "      <td>1.0</td>\n",
              "      <td>0.0</td>\n",
              "      <td>1.0</td>\n",
              "    </tr>\n",
              "    <tr>\n",
              "      <th>4</th>\n",
              "      <td>47.9</td>\n",
              "      <td>1.0</td>\n",
              "      <td>156.0</td>\n",
              "      <td>56.0</td>\n",
              "      <td>100.0</td>\n",
              "      <td>60.0</td>\n",
              "      <td>1.0</td>\n",
              "      <td>1.0</td>\n",
              "      <td>0.0</td>\n",
              "      <td>0.0</td>\n",
              "    </tr>\n",
              "  </tbody>\n",
              "</table>\n",
              "</div>"
            ],
            "text/plain": [
              "      0    1      2     3      4      5    6    7    8    9\n",
              "0  50.4  2.0  168.0  62.0  110.0   80.0  1.0  1.0  0.0  1.0\n",
              "1  55.4  1.0  156.0  85.0  140.0   90.0  3.0  1.0  0.0  1.0\n",
              "2  51.7  1.0  165.0  64.0  130.0   70.0  3.0  1.0  0.0  0.0\n",
              "3  48.3  2.0  169.0  82.0  150.0  100.0  1.0  1.0  0.0  1.0\n",
              "4  47.9  1.0  156.0  56.0  100.0   60.0  1.0  1.0  0.0  0.0"
            ]
          },
          "metadata": {
            "tags": []
          },
          "execution_count": 26
        }
      ]
    },
    {
      "cell_type": "code",
      "metadata": {
        "id": "e7SW0dX3Tvd_",
        "colab_type": "code",
        "outputId": "b2adaec8-0061-46e3-9ebe-c5e6e1b2cc91",
        "colab": {
          "base_uri": "https://localhost:8080/",
          "height": 70
        }
      },
      "source": [
        "# Using pca to find the 10 most significant features and for how much of the variance they account for \n",
        "pca = PCA(n_components=10)\n",
        "x_pca_clean = pca.fit_transform(X_clean)\n",
        "pca.explained_variance_ratio_"
      ],
      "execution_count": 0,
      "outputs": [
        {
          "output_type": "execute_result",
          "data": {
            "text/plain": [
              "array([5.47275557e-01, 2.52586628e-01, 7.97396791e-02, 6.27140116e-02,\n",
              "       5.58762957e-02, 8.17989754e-04, 3.09822714e-04, 2.69807160e-04,\n",
              "       2.38043782e-04, 1.13403243e-04])"
            ]
          },
          "metadata": {
            "tags": []
          },
          "execution_count": 27
        }
      ]
    },
    {
      "cell_type": "code",
      "metadata": {
        "id": "lfnpSfm4zAWJ",
        "colab_type": "code",
        "outputId": "be01a682-5605-4158-a374-15a20cbc1fad",
        "colab": {
          "base_uri": "https://localhost:8080/",
          "height": 70
        }
      },
      "source": [
        "# Same but for the full dataset\n",
        "pca = PCA(n_components=10)\n",
        "x_pca_full = pca.fit_transform(X_full)\n",
        "pca.explained_variance_ratio_"
      ],
      "execution_count": 0,
      "outputs": [
        {
          "output_type": "execute_result",
          "data": {
            "text/plain": [
              "array([5.96691559e-01, 3.97918914e-01, 3.60578851e-03, 1.03112102e-03,\n",
              "       7.32200056e-04, 9.30147470e-06, 3.47144302e-06, 3.08753600e-06,\n",
              "       2.64054962e-06, 1.25999276e-06])"
            ]
          },
          "metadata": {
            "tags": []
          },
          "execution_count": 28
        }
      ]
    },
    {
      "cell_type": "markdown",
      "metadata": {
        "id": "XjjzY750AM0-",
        "colab_type": "text"
      },
      "source": [
        "Despite the number of features in the dataset, I wanted to see if there was a difference between the SelectKBest and PCA in terms of determining the most significant features. This is done on both the cleaned and the full data set, again to see how the models respond and to see if the cleaning caused a difference between datasets. "
      ]
    },
    {
      "cell_type": "markdown",
      "metadata": {
        "id": "1_U5RfRDAktJ",
        "colab_type": "text"
      },
      "source": [
        "As we can see with PCA, the first two features account for nearly 90% of the variance in the dataset. "
      ]
    },
    {
      "cell_type": "code",
      "metadata": {
        "id": "jKGPk5pJemsj",
        "colab_type": "code",
        "colab": {}
      },
      "source": [
        "# Function which makes a model, data, and target and returns a string with the accuracy and f1 score\n",
        "def model_analysis(model, X, y):\n",
        "  # split the data into testing and training data\n",
        "  X_train, X_test, y_train, y_test = train_test_split(X, y, test_size=.3)\n",
        "  fit the model\n",
        "  model.fit(X_train, y_train)\n",
        "  \n",
        "  # Look at predicted values and create a confusion matrix\n",
        "  y_pred = model.predict(X_test)\n",
        "  print(metrics.confusion_matrix(y_test, y_pred))\n",
        "  tn, fp, fn, tp  = metrics.confusion_matrix(y_test, y_pred).ravel()\n",
        "  print('tn:', tn, 'fp:', fp, 'fn:', fn, 'tp:', tp)\n",
        "  \n",
        "  # store accuracy and f1 scores\n",
        "  accuracy = model.score(X_test, y_test)\n",
        "  f1 = metrics.f1_score(y_test, y_pred)\n",
        "  \n",
        "  # print out the accuracy, f1 score, and null accruacy\n",
        "  print('accuracy:', accuracy)\n",
        "  print('f1:', f1)\n",
        "  print()\n",
        "  print('precent of 1s in target test:', y_test.mean())\n",
        "  print('precent of 0s in target test:', 1 - y_test.mean())\n",
        "  print('null accuracy:', max(y_test.mean(), 1 - y_test.mean()))\n",
        "  \n",
        "  \n",
        "  return 'accuracy: {},  f1: {}'.format(round(accuracy, 4), round(f1, 4))"
      ],
      "execution_count": 0,
      "outputs": []
    },
    {
      "cell_type": "markdown",
      "metadata": {
        "id": "4L34qJUwGq9i",
        "colab_type": "text"
      },
      "source": [
        "### Naive Bayes"
      ]
    },
    {
      "cell_type": "code",
      "metadata": {
        "id": "FZnI4jihC1sE",
        "colab_type": "code",
        "outputId": "1c4d8d3f-152b-4f16-896f-5a45cde22a6d",
        "colab": {
          "base_uri": "https://localhost:8080/",
          "height": 604
        }
      },
      "source": [
        "bnb = BernoulliNB()\n",
        "\n",
        "print('Cleaned data')\n",
        "print('All features')\n",
        "clean_bnb_all = model_analysis(bnb, X_clean, y_clean)\n",
        "print()\n",
        "print('PCA')\n",
        "clean_bnb_pca = model_analysis(bnb, x_pca_clean, y_clean)\n",
        "print()\n",
        "print('K_best')\n",
        "clean_bnb_kbest = model_analysis(bnb, Kbest_X_clean, y_clean)\n",
        "bnb_results_clean = [clean_bnb_all, clean_bnb_pca, clean_bnb_kbest]"
      ],
      "execution_count": 0,
      "outputs": [
        {
          "output_type": "stream",
          "text": [
            "Cleaned data\n",
            "All features\n",
            "[[8654 1687]\n",
            " [8115 1969]]\n",
            "tn: 8654 fp: 1687 fn: 8115 tp: 1969\n",
            "accuracy: 0.5200979192166463\n",
            "f1: 0.286608442503639\n",
            "\n",
            "precent of 1s in target test: 0.4937086903304774\n",
            "precent of 0s in target test: 0.5062913096695226\n",
            "null accuracy: 0.5062913096695226\n",
            "\n",
            "PCA\n",
            "[[7793 2525]\n",
            " [3515 6592]]\n",
            "tn: 7793 fp: 2525 fn: 3515 tp: 6592\n",
            "accuracy: 0.7042839657282741\n",
            "f1: 0.6858094049105284\n",
            "\n",
            "precent of 1s in target test: 0.4948347613219094\n",
            "precent of 0s in target test: 0.5051652386780906\n",
            "null accuracy: 0.5051652386780906\n",
            "\n",
            "K_best\n",
            "[[8433 1859]\n",
            " [7985 2148]]\n",
            "tn: 8433 fp: 1859 fn: 7985 tp: 2148\n",
            "accuracy: 0.5180416156670746\n",
            "f1: 0.30381895332390385\n",
            "\n",
            "precent of 1s in target test: 0.49610771113831087\n",
            "precent of 0s in target test: 0.5038922888616891\n",
            "null accuracy: 0.5038922888616891\n"
          ],
          "name": "stdout"
        }
      ]
    },
    {
      "cell_type": "markdown",
      "metadata": {
        "id": "QljKvIBXBXrG",
        "colab_type": "text"
      },
      "source": [
        "Despite prediting True Negatives and False Negatives well, Naive Bayes does not perform well for predicting True Positives  or False Negatives with the exception of the PCA Dataset. Also, the K_Best and full feature set are extremely poor with False negatives, giving people a probability lower than the null accuracy. "
      ]
    },
    {
      "cell_type": "code",
      "metadata": {
        "id": "w9hDuo3WDOof",
        "colab_type": "code",
        "outputId": "ead52c51-7725-47e7-bf14-ccc99323b253",
        "colab": {
          "base_uri": "https://localhost:8080/",
          "height": 604
        }
      },
      "source": [
        "bnb = BernoulliNB()\n",
        "\n",
        "print('Full data')\n",
        "print('All features')\n",
        "full_bnb_all = logreg_scores = model_analysis(bnb, X_full, y_full)\n",
        "print()\n",
        "print('PCA')\n",
        "full_bnb_pca = model_analysis(bnb, x_pca_full, y_full)\n",
        "print()\n",
        "print('K_best')\n",
        "full_bnb_kbest = model_analysis(bnb, Kbest_X_full, y_full)\n",
        "bnb_results_full = [full_bnb_all, full_bnb_pca, full_bnb_kbest]"
      ],
      "execution_count": 0,
      "outputs": [
        {
          "output_type": "stream",
          "text": [
            "Full data\n",
            "All features\n",
            "[[8673 1888]\n",
            " [8282 2157]]\n",
            "tn: 8673 fp: 1888 fn: 8282 tp: 2157\n",
            "accuracy: 0.5157142857142857\n",
            "f1: 0.2978458989229495\n",
            "\n",
            "precent of 1s in target test: 0.4970952380952381\n",
            "precent of 0s in target test: 0.502904761904762\n",
            "null accuracy: 0.502904761904762\n",
            "\n",
            "PCA\n",
            "[[8042 2442]\n",
            " [3421 7095]]\n",
            "tn: 8042 fp: 2442 fn: 3421 tp: 7095\n",
            "accuracy: 0.7208095238095238\n",
            "f1: 0.7076247942951179\n",
            "\n",
            "precent of 1s in target test: 0.5007619047619047\n",
            "precent of 0s in target test: 0.49923809523809526\n",
            "null accuracy: 0.5007619047619047\n",
            "\n",
            "K_best\n",
            "[[8729 1938]\n",
            " [8183 2150]]\n",
            "tn: 8729 fp: 1938 fn: 8183 tp: 2150\n",
            "accuracy: 0.5180476190476191\n",
            "f1: 0.2981762707163165\n",
            "\n",
            "precent of 1s in target test: 0.49204761904761907\n",
            "precent of 0s in target test: 0.5079523809523809\n",
            "null accuracy: 0.5079523809523809\n"
          ],
          "name": "stdout"
        }
      ]
    },
    {
      "cell_type": "markdown",
      "metadata": {
        "id": "15ZyGaX5CwAw",
        "colab_type": "text"
      },
      "source": [
        "Similar performance with the full/uncleaned dataset. This appears to be the trend overall, so I won't mention them much more unless there is a big difference in scoring"
      ]
    },
    {
      "cell_type": "markdown",
      "metadata": {
        "id": "Ty99I3AvHN4Z",
        "colab_type": "text"
      },
      "source": [
        "### Logistic Regression"
      ]
    },
    {
      "cell_type": "markdown",
      "metadata": {
        "id": "9TNkyTHiwixZ",
        "colab_type": "text"
      },
      "source": [
        "first model without removing any observations "
      ]
    },
    {
      "cell_type": "code",
      "metadata": {
        "id": "9FgjMtByHRU-",
        "colab_type": "code",
        "outputId": "7170590a-cb70-4896-ef79-249dbaa92c53",
        "colab": {
          "base_uri": "https://localhost:8080/",
          "height": 604
        }
      },
      "source": [
        "logreg = LogisticRegression()\n",
        "\n",
        "print('Cleaned data')\n",
        "print('All features')\n",
        "clean_log_all = model_analysis(logreg, X_clean, y_clean)\n",
        "print()\n",
        "print('PCA')\n",
        "clean_log_pca = model_analysis(logreg, x_pca_clean, y_clean)\n",
        "print()\n",
        "print('K_best')\n",
        "clean_log_kbest = model_analysis(logreg, Kbest_X_clean, y_clean)\n",
        "logreg_results_clean = [clean_log_all, clean_log_pca, clean_log_kbest]"
      ],
      "execution_count": 0,
      "outputs": [
        {
          "output_type": "stream",
          "text": [
            "Cleaned data\n",
            "All features\n",
            "[[8080 2268]\n",
            " [3323 6754]]\n",
            "tn: 8080 fp: 2268 fn: 3323 tp: 6754\n",
            "accuracy: 0.7262668298653611\n",
            "f1: 0.70726216032253\n",
            "\n",
            "precent of 1s in target test: 0.4933659730722154\n",
            "precent of 0s in target test: 0.5066340269277846\n",
            "null accuracy: 0.5066340269277846\n",
            "\n",
            "PCA\n",
            "[[8189 2165]\n",
            " [3380 6691]]\n",
            "tn: 8189 fp: 2165 fn: 3380 tp: 6691\n",
            "accuracy: 0.7285189718482252\n",
            "f1: 0.7070322819252919\n",
            "\n",
            "precent of 1s in target test: 0.49307221542227664\n",
            "precent of 0s in target test: 0.5069277845777234\n",
            "null accuracy: 0.5069277845777234\n",
            "\n",
            "K_best\n",
            "[[8252 2086]\n",
            " [3459 6628]]\n",
            "tn: 8252 fp: 2086 fn: 3459 tp: 6628\n",
            "accuracy: 0.7285189718482252\n",
            "f1: 0.7050688793149301\n",
            "\n",
            "precent of 1s in target test: 0.49385556915544676\n",
            "precent of 0s in target test: 0.5061444308445533\n",
            "null accuracy: 0.5061444308445533\n"
          ],
          "name": "stdout"
        }
      ]
    },
    {
      "cell_type": "markdown",
      "metadata": {
        "id": "1a7cik7tC8MG",
        "colab_type": "text"
      },
      "source": [
        "Again, this model has its best performance predicting when patients **do not** have cardiovascular disease. All of the accuracy scores are around 0.72 with f1 scores around 0.70. Similarily to the NB classifier, Logistic Regression has more Type II errors as opposed to Type I errors and we will see that this is the case for most of the models as well. "
      ]
    },
    {
      "cell_type": "code",
      "metadata": {
        "id": "w6smRL_dXk9k",
        "colab_type": "code",
        "outputId": "4e7bf73a-26e5-4317-feb5-1c24ff4e59c9",
        "colab": {
          "base_uri": "https://localhost:8080/",
          "height": 604
        }
      },
      "source": [
        "logreg = LogisticRegression()\n",
        "\n",
        "print('Full data')\n",
        "print('All features')\n",
        "full_log_all = logreg_scores = model_analysis(logreg, X_full, y_full)\n",
        "print()\n",
        "print('PCA')\n",
        "full_log_pca = model_analysis(logreg, x_pca_full, y_full)\n",
        "print()\n",
        "print('K_best')\n",
        "full_log_kbest = model_analysis(logreg, Kbest_X_full, y_full)\n",
        "logreg_results_full = [full_log_all, full_log_pca, full_log_kbest]"
      ],
      "execution_count": 0,
      "outputs": [
        {
          "output_type": "stream",
          "text": [
            "Full data\n",
            "All features\n",
            "[[7971 2513]\n",
            " [3450 7066]]\n",
            "tn: 7971 fp: 2513 fn: 3450 tp: 7066\n",
            "accuracy: 0.716047619047619\n",
            "f1: 0.703259517292859\n",
            "\n",
            "precent of 1s in target test: 0.5007619047619047\n",
            "precent of 0s in target test: 0.49923809523809526\n",
            "null accuracy: 0.5007619047619047\n",
            "\n",
            "PCA\n",
            "[[8102 2553]\n",
            " [3300 7045]]\n",
            "tn: 8102 fp: 2553 fn: 3300 tp: 7045\n",
            "accuracy: 0.7212857142857143\n",
            "f1: 0.7065135636564208\n",
            "\n",
            "precent of 1s in target test: 0.4926190476190476\n",
            "precent of 0s in target test: 0.5073809523809524\n",
            "null accuracy: 0.5073809523809524\n",
            "\n",
            "K_best\n",
            "[[7984 2517]\n",
            " [3508 6991]]\n",
            "tn: 7984 fp: 2517 fn: 3508 tp: 6991\n",
            "accuracy: 0.7130952380952381\n",
            "f1: 0.6988554006097866\n",
            "\n",
            "precent of 1s in target test: 0.4999523809523809\n",
            "precent of 0s in target test: 0.5000476190476191\n",
            "null accuracy: 0.5000476190476191\n"
          ],
          "name": "stdout"
        }
      ]
    },
    {
      "cell_type": "markdown",
      "metadata": {
        "id": "cgyXVK7gIQOP",
        "colab_type": "text"
      },
      "source": [
        "### Random Forest"
      ]
    },
    {
      "cell_type": "code",
      "metadata": {
        "id": "AiwCST6aHxyf",
        "colab_type": "code",
        "outputId": "17e416b3-5dd2-427d-b613-197e4d412560",
        "colab": {
          "base_uri": "https://localhost:8080/",
          "height": 604
        }
      },
      "source": [
        "# random forest\n",
        "rfc = ensemble.RandomForestClassifier()\n",
        "\n",
        "print('Cleaned Data')\n",
        "print('All features')\n",
        "clean_rfc_all = model_analysis(rfc, X_clean, y_clean)\n",
        "print()\n",
        "print('PCA')\n",
        "clean_rfc_pca = model_analysis(rfc, x_pca_clean, y_clean)\n",
        "print()\n",
        "print('K_best')\n",
        "clean_rfc_kbest = model_analysis(rfc, Kbest_X_clean, y_clean)\n",
        "rfc_results_clean = [clean_rfc_all, clean_rfc_pca, clean_rfc_kbest]"
      ],
      "execution_count": 0,
      "outputs": [
        {
          "output_type": "stream",
          "text": [
            "Cleaned Data\n",
            "All features\n",
            "[[7613 2738]\n",
            " [3582 6492]]\n",
            "tn: 7613 fp: 2738 fn: 3582 tp: 6492\n",
            "accuracy: 0.6905752753977968\n",
            "f1: 0.6726067136344799\n",
            "\n",
            "precent of 1s in target test: 0.493219094247246\n",
            "precent of 0s in target test: 0.5067809057527539\n",
            "null accuracy: 0.5067809057527539\n",
            "\n",
            "PCA\n",
            "[[7683 2675]\n",
            " [3597 6470]]\n",
            "tn: 7683 fp: 2675 fn: 3597 tp: 6470\n",
            "accuracy: 0.6929253365973073\n",
            "f1: 0.673537372475536\n",
            "\n",
            "precent of 1s in target test: 0.49287637698898407\n",
            "precent of 0s in target test: 0.5071236230110159\n",
            "null accuracy: 0.5071236230110159\n",
            "\n",
            "K_best\n",
            "[[7613 2709]\n",
            " [3566 6537]]\n",
            "tn: 7613 fp: 2709 fn: 3566 tp: 6537\n",
            "accuracy: 0.6927784577723378\n",
            "f1: 0.6756938343066825\n",
            "\n",
            "precent of 1s in target test: 0.4946389228886169\n",
            "precent of 0s in target test: 0.5053610771113831\n",
            "null accuracy: 0.5053610771113831\n"
          ],
          "name": "stdout"
        }
      ]
    },
    {
      "cell_type": "code",
      "metadata": {
        "id": "lh1gykAkX8Iv",
        "colab_type": "code",
        "outputId": "cefe101a-66b1-4454-f214-1da2a75da2cc",
        "colab": {
          "base_uri": "https://localhost:8080/",
          "height": 604
        }
      },
      "source": [
        "# random forest\n",
        "rfc = ensemble.RandomForestClassifier()\n",
        "\n",
        "print('Full data')\n",
        "print('All features')\n",
        "full_rfc_all = rfc_scores = model_analysis(rfc, X_full, y_full)\n",
        "print()\n",
        "print('PCA')\n",
        "full_rfc_pca = model_analysis(rfc, x_pca_full, y_full)\n",
        "print()\n",
        "print('K_best')\n",
        "full_rfc_kbest = model_analysis(rfc, Kbest_X_full, y_full)\n",
        "rfc_results_full = [full_rfc_all, full_rfc_pca, full_rfc_kbest]"
      ],
      "execution_count": 0,
      "outputs": [
        {
          "output_type": "stream",
          "text": [
            "Full data\n",
            "All features\n",
            "[[7969 2628]\n",
            " [3607 6796]]\n",
            "tn: 7969 fp: 2628 fn: 3607 tp: 6796\n",
            "accuracy: 0.7030952380952381\n",
            "f1: 0.6855298330559337\n",
            "\n",
            "precent of 1s in target test: 0.49538095238095237\n",
            "precent of 0s in target test: 0.5046190476190476\n",
            "null accuracy: 0.5046190476190476\n",
            "\n",
            "PCA\n",
            "[[7837 2671]\n",
            " [3734 6758]]\n",
            "tn: 7837 fp: 2671 fn: 3734 tp: 6758\n",
            "accuracy: 0.695\n",
            "f1: 0.6784799959841374\n",
            "\n",
            "precent of 1s in target test: 0.49961904761904763\n",
            "precent of 0s in target test: 0.5003809523809524\n",
            "null accuracy: 0.5003809523809524\n",
            "\n",
            "K_best\n",
            "[[7786 2775]\n",
            " [3545 6894]]\n",
            "tn: 7786 fp: 2775 fn: 3545 tp: 6894\n",
            "accuracy: 0.699047619047619\n",
            "f1: 0.6856972349313707\n",
            "\n",
            "precent of 1s in target test: 0.4970952380952381\n",
            "precent of 0s in target test: 0.502904761904762\n",
            "null accuracy: 0.502904761904762\n"
          ],
          "name": "stdout"
        }
      ]
    },
    {
      "cell_type": "markdown",
      "metadata": {
        "id": "aZjJWSTbIVSV",
        "colab_type": "text"
      },
      "source": [
        "### K Nearest Neighbors"
      ]
    },
    {
      "cell_type": "code",
      "metadata": {
        "id": "MBcoMsLNIakT",
        "colab_type": "code",
        "outputId": "38c7bd36-0f0b-41ba-8afd-22471da43242",
        "colab": {
          "base_uri": "https://localhost:8080/",
          "height": 604
        }
      },
      "source": [
        "knn = KNeighborsClassifier(n_neighbors=5, weights='distance')\n",
        "\n",
        "# Normalize data for Euclidean geometry\n",
        "\n",
        "print('Cleaned data')\n",
        "print('All features')\n",
        "clean_knn_all = model_analysis(knn, normalize(X_clean), y_clean)\n",
        "print()\n",
        "print('PCA')\n",
        "clean_knn_pca = model_analysis(knn, normalize(x_pca_clean), y_clean)\n",
        "print()\n",
        "print('K_best')\n",
        "clean_knn_kbest = model_analysis(knn, normalize(Kbest_X_clean), y_clean)\n",
        "knn_results_clean = [clean_knn_all, clean_knn_pca, clean_knn_kbest]"
      ],
      "execution_count": 0,
      "outputs": [
        {
          "output_type": "stream",
          "text": [
            "Cleaned data\n",
            "All features\n",
            "[[7255 3100]\n",
            " [3481 6589]]\n",
            "tn: 7255 fp: 3100 fn: 3481 tp: 6589\n",
            "accuracy: 0.677796817625459\n",
            "f1: 0.6669365858596082\n",
            "\n",
            "precent of 1s in target test: 0.4930232558139535\n",
            "precent of 0s in target test: 0.5069767441860464\n",
            "null accuracy: 0.5069767441860464\n",
            "\n",
            "PCA\n",
            "[[7249 3081]\n",
            " [3415 6680]]\n",
            "tn: 7249 fp: 3081 fn: 3415 tp: 6680\n",
            "accuracy: 0.6819583843329253\n",
            "f1: 0.6728444802578566\n",
            "\n",
            "precent of 1s in target test: 0.49424724602203185\n",
            "precent of 0s in target test: 0.5057527539779682\n",
            "null accuracy: 0.5057527539779682\n",
            "\n",
            "K_best\n",
            "[[7344 3067]\n",
            " [3523 6491]]\n",
            "tn: 7344 fp: 3067 fn: 3523 tp: 6491\n",
            "accuracy: 0.6773561811505507\n",
            "f1: 0.6632945023502963\n",
            "\n",
            "precent of 1s in target test: 0.490281517747858\n",
            "precent of 0s in target test: 0.509718482252142\n",
            "null accuracy: 0.509718482252142\n"
          ],
          "name": "stdout"
        }
      ]
    },
    {
      "cell_type": "code",
      "metadata": {
        "id": "RKVj-NE4YBmW",
        "colab_type": "code",
        "outputId": "db2725fb-ad01-4675-990d-78f934d1aeff",
        "colab": {
          "base_uri": "https://localhost:8080/",
          "height": 604
        }
      },
      "source": [
        "knn = KNeighborsClassifier(n_neighbors=5, weights='distance')\n",
        "\n",
        "# Normalize data for Euclidean geometry\n",
        "\n",
        "print('Full Data')\n",
        "print('All features')\n",
        "full_knn_all = model_analysis(knn, normalize(X_full), y_full)\n",
        "print()\n",
        "print('PCA')\n",
        "full_knn_pca = model_analysis(knn, normalize(x_pca_full), y_full)\n",
        "print()\n",
        "print('K_best')\n",
        "full_knn_kbest = model_analysis(knn, normalize(Kbest_X_full), y_full)\n",
        "knn_results_full = [full_knn_all, full_knn_pca, full_knn_kbest]"
      ],
      "execution_count": 0,
      "outputs": [
        {
          "output_type": "stream",
          "text": [
            "Full Data\n",
            "All features\n",
            "[[7425 3174]\n",
            " [3561 6840]]\n",
            "tn: 7425 fp: 3174 fn: 3561 tp: 6840\n",
            "accuracy: 0.6792857142857143\n",
            "f1: 0.6700955180014695\n",
            "\n",
            "precent of 1s in target test: 0.4952857142857143\n",
            "precent of 0s in target test: 0.5047142857142857\n",
            "null accuracy: 0.5047142857142857\n",
            "\n",
            "PCA\n",
            "[[7264 3167]\n",
            " [3471 7098]]\n",
            "tn: 7264 fp: 3167 fn: 3471 tp: 7098\n",
            "accuracy: 0.6839047619047619\n",
            "f1: 0.6813861956417396\n",
            "\n",
            "precent of 1s in target test: 0.5032857142857143\n",
            "precent of 0s in target test: 0.49671428571428566\n",
            "null accuracy: 0.5032857142857143\n",
            "\n",
            "K_best\n",
            "[[7398 3139]\n",
            " [3552 6911]]\n",
            "tn: 7398 fp: 3139 fn: 3552 tp: 6911\n",
            "accuracy: 0.6813809523809524\n",
            "f1: 0.6738166041047141\n",
            "\n",
            "precent of 1s in target test: 0.49823809523809526\n",
            "precent of 0s in target test: 0.5017619047619047\n",
            "null accuracy: 0.5017619047619047\n"
          ],
          "name": "stdout"
        }
      ]
    },
    {
      "cell_type": "markdown",
      "metadata": {
        "id": "8fOznLzlIbyI",
        "colab_type": "text"
      },
      "source": [
        "### Gradient Boosting Classifier"
      ]
    },
    {
      "cell_type": "code",
      "metadata": {
        "id": "ygpcnK7_IibO",
        "colab_type": "code",
        "outputId": "655ff3ba-ad77-4768-c4b7-7ff2c59eb29c",
        "colab": {
          "base_uri": "https://localhost:8080/",
          "height": 604
        }
      },
      "source": [
        "params = {'n_estimators': 500,\n",
        "          'max_depth': 2,\n",
        "          'loss': 'deviance'}\n",
        "\n",
        "# Initialize and fit the model.\n",
        "gbc = ensemble.GradientBoostingClassifier(**params)\n",
        "\n",
        "print('Cleaned data')\n",
        "print('All features')\n",
        "clean_gbc_all = model_analysis(gbc, X_clean, y_clean)\n",
        "print()\n",
        "print('PCA')\n",
        "clean_gbc_pca = model_analysis(gbc, x_pca_clean, y_clean)\n",
        "print()\n",
        "print('K_best')\n",
        "clean_gbc_kbest = model_analysis(gbc, Kbest_X_clean, y_clean)\n",
        "gbc_results_clean = [clean_gbc_all, clean_gbc_pca, clean_gbc_kbest]"
      ],
      "execution_count": 0,
      "outputs": [
        {
          "output_type": "stream",
          "text": [
            "Cleaned data\n",
            "All features\n",
            "[[8068 2273]\n",
            " [3089 6995]]\n",
            "tn: 8068 fp: 2273 fn: 3089 tp: 6995\n",
            "accuracy: 0.7374785801713586\n",
            "f1: 0.7229226953286481\n",
            "\n",
            "precent of 1s in target test: 0.4937086903304774\n",
            "precent of 0s in target test: 0.5062913096695226\n",
            "null accuracy: 0.5062913096695226\n",
            "\n",
            "PCA\n",
            "[[8038 2267]\n",
            " [3254 6866]]\n",
            "tn: 8038 fp: 2267 fn: 3254 tp: 6866\n",
            "accuracy: 0.7296940024479804\n",
            "f1: 0.713239495143614\n",
            "\n",
            "precent of 1s in target test: 0.49547123623011013\n",
            "precent of 0s in target test: 0.5045287637698899\n",
            "null accuracy: 0.5045287637698899\n",
            "\n",
            "K_best\n",
            "[[8062 2422]\n",
            " [3003 6938]]\n",
            "tn: 8062 fp: 2422 fn: 3003 tp: 6938\n",
            "accuracy: 0.7343941248470012\n",
            "f1: 0.7189264804932388\n",
            "\n",
            "precent of 1s in target test: 0.4867074663402693\n",
            "precent of 0s in target test: 0.5132925336597307\n",
            "null accuracy: 0.5132925336597307\n"
          ],
          "name": "stdout"
        }
      ]
    },
    {
      "cell_type": "code",
      "metadata": {
        "id": "UnGQg2_j0cea",
        "colab_type": "code",
        "outputId": "1c8191eb-d70b-4fc2-be68-458f220716be",
        "colab": {
          "base_uri": "https://localhost:8080/",
          "height": 458
        }
      },
      "source": [
        "feature_importance = gbc.feature_importances_\n",
        "\n",
        "# Make importances relative to max importance.\n",
        "feature_importance = 100.0 * (feature_importance / feature_importance.max())\n",
        "sorted_idx = np.argsort(feature_importance)\n",
        "pos = np.arange(sorted_idx.shape[0]) + .5\n",
        "plt.subplot(1, 2, 2)\n",
        "plt.barh(pos, feature_importance[sorted_idx], align='center')\n",
        "plt.yticks(pos, X_clean.columns[sorted_idx])\n",
        "plt.xlabel('Relative Importance')\n",
        "plt.title('Variable Importance')\n",
        "plt.show()"
      ],
      "execution_count": 0,
      "outputs": [
        {
          "output_type": "display_data",
          "data": {
            "image/png": "[encoded data removed]",
            "text/plain": [
              "<Figure size 720x504 with 1 Axes>"
            ]
          },
          "metadata": {
            "tags": []
          }
        }
      ]
    },
    {
      "cell_type": "code",
      "metadata": {
        "id": "D7zVW8qFYFfv",
        "colab_type": "code",
        "outputId": "8eae15a4-707f-474d-eaf0-92a88059e871",
        "colab": {
          "base_uri": "https://localhost:8080/",
          "height": 604
        }
      },
      "source": [
        "params = {'n_estimators': 500,\n",
        "          'max_depth': 2,\n",
        "          'loss': 'deviance'}\n",
        "\n",
        "# Initialize and fit the model.\n",
        "gbc = ensemble.GradientBoostingClassifier(**params)\n",
        "\n",
        "print('Full Data')\n",
        "print('All features')\n",
        "full_gbc_all = model_analysis(gbc, X_full, y_full)\n",
        "print()\n",
        "print('PCA')\n",
        "full_gbc_pca = model_analysis(gbc, x_pca_full, y_full)\n",
        "print()\n",
        "print('K_best')\n",
        "full_gbc_kbest = model_analysis(gbc, Kbest_X_full, y_full)\n",
        "gbc_results_full = [full_gbc_all, full_gbc_pca, full_gbc_kbest]"
      ],
      "execution_count": 0,
      "outputs": [
        {
          "output_type": "stream",
          "text": [
            "Full Data\n",
            "All features\n",
            "[[8070 2419]\n",
            " [3087 7424]]\n",
            "tn: 8070 fp: 2419 fn: 3087 tp: 7424\n",
            "accuracy: 0.7378095238095238\n",
            "f1: 0.7294880613147293\n",
            "\n",
            "precent of 1s in target test: 0.5005238095238095\n",
            "precent of 0s in target test: 0.4994761904761905\n",
            "null accuracy: 0.5005238095238095\n",
            "\n",
            "PCA\n",
            "[[8277 2366]\n",
            " [3176 7181]]\n",
            "tn: 8277 fp: 2366 fn: 3176 tp: 7181\n",
            "accuracy: 0.7360952380952381\n",
            "f1: 0.7215635048231511\n",
            "\n",
            "precent of 1s in target test: 0.4931904761904762\n",
            "precent of 0s in target test: 0.5068095238095238\n",
            "null accuracy: 0.5068095238095238\n",
            "\n",
            "K_best\n",
            "[[8142 2432]\n",
            " [3074 7352]]\n",
            "tn: 8142 fp: 2432 fn: 3074 tp: 7352\n",
            "accuracy: 0.7378095238095238\n",
            "f1: 0.7275606135576447\n",
            "\n",
            "precent of 1s in target test: 0.49647619047619046\n",
            "precent of 0s in target test: 0.5035238095238095\n",
            "null accuracy: 0.5035238095238095\n"
          ],
          "name": "stdout"
        }
      ]
    },
    {
      "cell_type": "code",
      "metadata": {
        "id": "n6lmRzInUHLq",
        "colab_type": "code",
        "outputId": "261f3e3a-cd1e-44fc-8145-88986cd673fe",
        "colab": {
          "base_uri": "https://localhost:8080/",
          "height": 458
        }
      },
      "source": [
        "feature_importance = gbc.feature_importances_\n",
        "\n",
        "# Make importances relative to max importance.\n",
        "feature_importance = 100.0 * (feature_importance / feature_importance.max())\n",
        "sorted_idx = np.argsort(feature_importance)\n",
        "pos = np.arange(sorted_idx.shape[0]) + .5\n",
        "plt.subplot(1, 2, 2)\n",
        "plt.barh(pos, feature_importance[sorted_idx], align='center')\n",
        "plt.yticks(pos, X_full.columns[sorted_idx])\n",
        "plt.xlabel('Relative Importance')\n",
        "plt.title('Variable Importance')\n",
        "plt.show()"
      ],
      "execution_count": 0,
      "outputs": [
        {
          "output_type": "display_data",
          "data": {
            "image/png": "[encoded data removed]",
            "text/plain": [
              "<Figure size 720x504 with 1 Axes>"
            ]
          },
          "metadata": {
            "tags": []
          }
        }
      ]
    },
    {
      "cell_type": "markdown",
      "metadata": {
        "id": "m_mnJ2r1GjbU",
        "colab_type": "text"
      },
      "source": [
        "### SVC"
      ]
    },
    {
      "cell_type": "code",
      "metadata": {
        "id": "BuZwSEopDgJt",
        "colab_type": "code",
        "outputId": "b86a7c57-25c3-4e8a-9925-69afcd66fc4d",
        "colab": {
          "base_uri": "https://localhost:8080/",
          "height": 604
        }
      },
      "source": [
        "svc = SVC()\n",
        "\n",
        "# Normalize data for Euclidean geometry\n",
        "\n",
        "print('Cleaned data')\n",
        "print('All features')\n",
        "clean_svc_all = model_analysis(svc, normalize(X_clean), y_clean)\n",
        "print()\n",
        "print('PCA')\n",
        "clean_svc_pca = model_analysis(svc, normalize(x_pca_clean), y_clean)\n",
        "print()\n",
        "print('K_best')\n",
        "clean_svc_kbest = model_analysis(svc, normalize(Kbest_X_clean), y_clean)\n",
        "svc_results_clean = [clean_svc_all, clean_svc_pca, clean_svc_kbest]"
      ],
      "execution_count": 0,
      "outputs": [
        {
          "output_type": "stream",
          "text": [
            "Cleaned data\n",
            "All features\n",
            "[[8257 2167]\n",
            " [3868 6133]]\n",
            "tn: 8257 fp: 2167 fn: 3868 tp: 6133\n",
            "accuracy: 0.7045287637698898\n",
            "f1: 0.6702365990929456\n",
            "\n",
            "precent of 1s in target test: 0.48964504283965726\n",
            "precent of 0s in target test: 0.5103549571603427\n",
            "null accuracy: 0.5103549571603427\n",
            "\n",
            "PCA\n",
            "[[8197 2155]\n",
            " [3543 6530]]\n",
            "tn: 8197 fp: 2155 fn: 3543 tp: 6530\n",
            "accuracy: 0.7210281517747859\n",
            "f1: 0.6962362725237232\n",
            "\n",
            "precent of 1s in target test: 0.4931701346389229\n",
            "precent of 0s in target test: 0.5068298653610771\n",
            "null accuracy: 0.5068298653610771\n",
            "\n",
            "K_best\n",
            "[[8258 2162]\n",
            " [3914 6091]]\n",
            "tn: 8258 fp: 2162 fn: 3914 tp: 6091\n",
            "accuracy: 0.7025214198286414\n",
            "f1: 0.6672143717822325\n",
            "\n",
            "precent of 1s in target test: 0.48984088127294984\n",
            "precent of 0s in target test: 0.5101591187270502\n",
            "null accuracy: 0.5101591187270502\n"
          ],
          "name": "stdout"
        }
      ]
    },
    {
      "cell_type": "code",
      "metadata": {
        "id": "xl6miRO6_0Ud",
        "colab_type": "code",
        "outputId": "55024233-87da-40d6-8c78-9b26f6e11792",
        "colab": {
          "base_uri": "https://localhost:8080/",
          "height": 604
        }
      },
      "source": [
        "svc = SVC()\n",
        "\n",
        "# Normalize data for Euclidean geometry\n",
        "\n",
        "print('Full Data')\n",
        "print('All features')\n",
        "full_svc_all = model_analysis(svc, normalize(X_full), y_full)\n",
        "print()\n",
        "print('PCA')\n",
        "full_svc_pca = model_analysis(svc, normalize(x_pca_full), y_full)\n",
        "print()\n",
        "print('K_best')\n",
        "full_svc_kbest = model_analysis(svc, normalize(Kbest_X_full), y_full)\n",
        "svc_results_full = [full_svc_all, full_svc_pca, full_svc_kbest]"
      ],
      "execution_count": 0,
      "outputs": [
        {
          "output_type": "stream",
          "text": [
            "Full Data\n",
            "All features\n",
            "[[8313 2128]\n",
            " [4039 6520]]\n",
            "tn: 8313 fp: 2128 fn: 4039 tp: 6520\n",
            "accuracy: 0.7063333333333334\n",
            "f1: 0.6789191440620608\n",
            "\n",
            "precent of 1s in target test: 0.5028095238095238\n",
            "precent of 0s in target test: 0.4971904761904762\n",
            "null accuracy: 0.5028095238095238\n",
            "\n",
            "PCA\n",
            "[[8472 1927]\n",
            " [3872 6729]]\n",
            "tn: 8472 fp: 1927 fn: 3872 tp: 6729\n",
            "accuracy: 0.7238571428571429\n",
            "f1: 0.6988627512073531\n",
            "\n",
            "precent of 1s in target test: 0.5048095238095238\n",
            "precent of 0s in target test: 0.4951904761904762\n",
            "null accuracy: 0.5048095238095238\n",
            "\n",
            "K_best\n",
            "[[8284 2228]\n",
            " [3965 6523]]\n",
            "tn: 8284 fp: 2228 fn: 3965 tp: 6523\n",
            "accuracy: 0.7050952380952381\n",
            "f1: 0.6781017724413951\n",
            "\n",
            "precent of 1s in target test: 0.49942857142857144\n",
            "precent of 0s in target test: 0.5005714285714286\n",
            "null accuracy: 0.5005714285714286\n"
          ],
          "name": "stdout"
        }
      ]
    },
    {
      "cell_type": "markdown",
      "metadata": {
        "id": "wUiFstniFAYX",
        "colab_type": "text"
      },
      "source": [
        "### Cleaned Dataset Results"
      ]
    },
    {
      "cell_type": "code",
      "metadata": {
        "colab_type": "code",
        "id": "IeszPOpuGF4O",
        "outputId": "375612ad-4332-478c-9210-8af28df0e0c8",
        "colab": {
          "base_uri": "https://localhost:8080/",
          "height": 135
        }
      },
      "source": [
        "test = pd.DataFrame(index=['all', 'pca', 'kbest'])\n",
        "test['BernoulliNB'] = bnb_results_clean\n",
        "test['Log Reg'] = logreg_results_clean\n",
        "test['RFC'] = rfc_results_clean\n",
        "test['KNN'] = knn_results_clean\n",
        "test['GBC'] = gbc_results_clean\n",
        "test['SVC'] = svc_results_clean\n",
        "\n",
        "test"
      ],
      "execution_count": 0,
      "outputs": [
        {
          "output_type": "execute_result",
          "data": {
            "text/html": [
              "<div>\n",
              "<style scoped>\n",
              "    .dataframe tbody tr th:only-of-type {\n",
              "        vertical-align: middle;\n",
              "    }\n",
              "\n",
              "    .dataframe tbody tr th {\n",
              "        vertical-align: top;\n",
              "    }\n",
              "\n",
              "    .dataframe thead th {\n",
              "        text-align: right;\n",
              "    }\n",
              "</style>\n",
              "<table border=\"1\" class=\"dataframe\">\n",
              "  <thead>\n",
              "    <tr style=\"text-align: right;\">\n",
              "      <th></th>\n",
              "      <th>BernoulliNB</th>\n",
              "      <th>Log Reg</th>\n",
              "      <th>RFC</th>\n",
              "      <th>KNN</th>\n",
              "      <th>GBC</th>\n",
              "      <th>SVC</th>\n",
              "    </tr>\n",
              "  </thead>\n",
              "  <tbody>\n",
              "    <tr>\n",
              "      <th>all</th>\n",
              "      <td>accuracy: 0.5201,  f1: 0.2866</td>\n",
              "      <td>accuracy: 0.7263,  f1: 0.7073</td>\n",
              "      <td>accuracy: 0.6906,  f1: 0.6726</td>\n",
              "      <td>accuracy: 0.6778,  f1: 0.6669</td>\n",
              "      <td>accuracy: 0.7375,  f1: 0.7229</td>\n",
              "      <td>accuracy: 0.7045,  f1: 0.6702</td>\n",
              "    </tr>\n",
              "    <tr>\n",
              "      <th>pca</th>\n",
              "      <td>accuracy: 0.7043,  f1: 0.6858</td>\n",
              "      <td>accuracy: 0.7285,  f1: 0.707</td>\n",
              "      <td>accuracy: 0.6929,  f1: 0.6735</td>\n",
              "      <td>accuracy: 0.682,  f1: 0.6728</td>\n",
              "      <td>accuracy: 0.7297,  f1: 0.7132</td>\n",
              "      <td>accuracy: 0.721,  f1: 0.6962</td>\n",
              "    </tr>\n",
              "    <tr>\n",
              "      <th>kbest</th>\n",
              "      <td>accuracy: 0.518,  f1: 0.3038</td>\n",
              "      <td>accuracy: 0.7285,  f1: 0.7051</td>\n",
              "      <td>accuracy: 0.6928,  f1: 0.6757</td>\n",
              "      <td>accuracy: 0.6774,  f1: 0.6633</td>\n",
              "      <td>accuracy: 0.7344,  f1: 0.7189</td>\n",
              "      <td>accuracy: 0.7025,  f1: 0.6672</td>\n",
              "    </tr>\n",
              "  </tbody>\n",
              "</table>\n",
              "</div>"
            ],
            "text/plain": [
              "                         BernoulliNB  ...                            SVC\n",
              "all    accuracy: 0.5201,  f1: 0.2866  ...  accuracy: 0.7045,  f1: 0.6702\n",
              "pca    accuracy: 0.7043,  f1: 0.6858  ...   accuracy: 0.721,  f1: 0.6962\n",
              "kbest   accuracy: 0.518,  f1: 0.3038  ...  accuracy: 0.7025,  f1: 0.6672\n",
              "\n",
              "[3 rows x 6 columns]"
            ]
          },
          "metadata": {
            "tags": []
          },
          "execution_count": 70
        }
      ]
    },
    {
      "cell_type": "markdown",
      "metadata": {
        "id": "J6BPcAmdFEyv",
        "colab_type": "text"
      },
      "source": [
        "### Full Dataset Results"
      ]
    },
    {
      "cell_type": "code",
      "metadata": {
        "id": "a7IEr6VyCL4Y",
        "colab_type": "code",
        "outputId": "50081cde-3932-48aa-9528-2edc70c415d0",
        "colab": {
          "base_uri": "https://localhost:8080/",
          "height": 135
        }
      },
      "source": [
        "test_full = pd.DataFrame(index=['all', 'pca', 'kbest'])\n",
        "test_full['BernoulliNB'] = bnb_results_full\n",
        "test_full['Log Reg'] = logreg_results_full\n",
        "test_full['RFC'] = rfc_results_full\n",
        "test_full['KNN'] = knn_results_full\n",
        "test_full['GBC'] = gbc_results_full\n",
        "test_full['SVC'] = svc_results_full\n",
        "\n",
        "test_full"
      ],
      "execution_count": 0,
      "outputs": [
        {
          "output_type": "execute_result",
          "data": {
            "text/html": [
              "<div>\n",
              "<style scoped>\n",
              "    .dataframe tbody tr th:only-of-type {\n",
              "        vertical-align: middle;\n",
              "    }\n",
              "\n",
              "    .dataframe tbody tr th {\n",
              "        vertical-align: top;\n",
              "    }\n",
              "\n",
              "    .dataframe thead th {\n",
              "        text-align: right;\n",
              "    }\n",
              "</style>\n",
              "<table border=\"1\" class=\"dataframe\">\n",
              "  <thead>\n",
              "    <tr style=\"text-align: right;\">\n",
              "      <th></th>\n",
              "      <th>BernoulliNB</th>\n",
              "      <th>Log Reg</th>\n",
              "      <th>RFC</th>\n",
              "      <th>KNN</th>\n",
              "      <th>GBC</th>\n",
              "      <th>SVC</th>\n",
              "    </tr>\n",
              "  </thead>\n",
              "  <tbody>\n",
              "    <tr>\n",
              "      <th>all</th>\n",
              "      <td>accuracy: 0.5157,  f1: 0.2978</td>\n",
              "      <td>accuracy: 0.716,  f1: 0.7033</td>\n",
              "      <td>accuracy: 0.7031,  f1: 0.6855</td>\n",
              "      <td>accuracy: 0.6793,  f1: 0.6701</td>\n",
              "      <td>accuracy: 0.7378,  f1: 0.7295</td>\n",
              "      <td>accuracy: 0.7063,  f1: 0.6789</td>\n",
              "    </tr>\n",
              "    <tr>\n",
              "      <th>pca</th>\n",
              "      <td>accuracy: 0.7208,  f1: 0.7076</td>\n",
              "      <td>accuracy: 0.7213,  f1: 0.7065</td>\n",
              "      <td>accuracy: 0.695,  f1: 0.6785</td>\n",
              "      <td>accuracy: 0.6839,  f1: 0.6814</td>\n",
              "      <td>accuracy: 0.7361,  f1: 0.7216</td>\n",
              "      <td>accuracy: 0.7239,  f1: 0.6989</td>\n",
              "    </tr>\n",
              "    <tr>\n",
              "      <th>kbest</th>\n",
              "      <td>accuracy: 0.518,  f1: 0.2982</td>\n",
              "      <td>accuracy: 0.7131,  f1: 0.6989</td>\n",
              "      <td>accuracy: 0.699,  f1: 0.6857</td>\n",
              "      <td>accuracy: 0.6814,  f1: 0.6738</td>\n",
              "      <td>accuracy: 0.7378,  f1: 0.7276</td>\n",
              "      <td>accuracy: 0.7051,  f1: 0.6781</td>\n",
              "    </tr>\n",
              "  </tbody>\n",
              "</table>\n",
              "</div>"
            ],
            "text/plain": [
              "                         BernoulliNB  ...                            SVC\n",
              "all    accuracy: 0.5157,  f1: 0.2978  ...  accuracy: 0.7063,  f1: 0.6789\n",
              "pca    accuracy: 0.7208,  f1: 0.7076  ...  accuracy: 0.7239,  f1: 0.6989\n",
              "kbest   accuracy: 0.518,  f1: 0.2982  ...  accuracy: 0.7051,  f1: 0.6781\n",
              "\n",
              "[3 rows x 6 columns]"
            ]
          },
          "metadata": {
            "tags": []
          },
          "execution_count": 71
        }
      ]
    },
    {
      "cell_type": "markdown",
      "metadata": {
        "id": "5RpAsgjpEdTn",
        "colab_type": "text"
      },
      "source": [
        "### Conclusion"
      ]
    },
    {
      "cell_type": "markdown",
      "metadata": {
        "id": "GSfHYBXtEjiy",
        "colab_type": "text"
      },
      "source": [
        "Overall the dfference between the clean and full dataset is minimal as well as the difference between models which used featured selection versus models that took the full dataset with the exception of the BernoulliNB Classifier. And in this case, only PCA performed well. Gradient Boosting Classifier performed the best out of the models, but only by a relatively small amount. There is not much variance between the other models (except Bernoulli).   "
      ]
    },
    {
      "cell_type": "code",
      "metadata": {
        "id": "8o9jR3X6Fynp",
        "colab_type": "code",
        "colab": {}
      },
      "source": [
        ""
      ],
      "execution_count": 0,
      "outputs": []
    }
  ]
}