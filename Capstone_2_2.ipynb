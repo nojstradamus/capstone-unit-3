{
  "nbformat": 4,
  "nbformat_minor": 0,
  "metadata": {
    "colab": {
      "name": "Capstone 2.2",
      "version": "0.3.2",
      "provenance": [],
      "collapsed_sections": []
    },
    "kernelspec": {
      "name": "python3",
      "display_name": "Python 3"
    }
  },
  "cells": [
    {
      "cell_type": "code",
      "metadata": {
        "id": "CEzc8wBRv2Am",
        "colab_type": "code",
        "colab": {}
      },
      "source": [
        "import pandas as pd\n",
        "import numpy as np\n",
        "import matplotlib.pyplot as plt\n",
        "import seaborn as sns\n",
        "\n",
        "from sklearn.linear_model import LogisticRegression\n",
        "from sklearn.model_selection import cross_val_score, train_test_split\n",
        "from sklearn.neighbors import KNeighborsClassifier\n",
        "from sklearn import ensemble\n",
        "from sklearn.decomposition import PCA\n",
        "from matplotlib import rcParams\n",
        "from sklearn.preprocessing import normalize\n",
        "from sklearn.neighbors import KNeighborsClassifier\n",
        "from matplotlib import rcParams\n",
        "from sklearn.feature_selection import SelectKBest\n",
        "from scipy import stats\n",
        "from sklearn.svm import SVC\n",
        "from sklearn.naive_bayes import BernoulliNB\n",
        "\n",
        "from sklearn import metrics\n",
        "\n",
        "from google.colab import files\n",
        "import io\n",
        "\n",
        "import warnings\n",
        "warnings.filterwarnings('ignore')\n",
        "\n",
        "%matplotlib inline"
      ],
      "execution_count": 0,
      "outputs": []
    },
    {
      "cell_type": "code",
      "metadata": {
        "id": "6cCWfPFov7DM",
        "colab_type": "code",
        "colab": {}
      },
      "source": [
        "# Set graph parameters\n",
        "sns.set_style('whitegrid')\n",
        "rcParams['figure.figsize'] = 10,7"
      ],
      "execution_count": 0,
      "outputs": []
    },
    {
      "cell_type": "code",
      "metadata": {
        "id": "43tWfO89v9Oe",
        "colab_type": "code",
        "outputId": "a2171d77-36b8-41c3-ad60-5a6fb5b770f3",
        "colab": {
          "resources": {
            "http://localhost:8080/nbextensions/google.colab/files.js": {
              "data": "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",
              "ok": true,
              "headers": [
                [
                  "content-type",
                  "application/javascript"
                ]
              ],
              "status": 200,
              "status_text": ""
            }
          },
          "base_uri": "https://localhost:8080/",
          "height": 74
        }
      },
      "source": [
        "uploaded = files.upload()"
      ],
      "execution_count": 3,
      "outputs": [
        {
          "output_type": "display_data",
          "data": {
            "text/html": [
              "\n",
              "     <input type=\"file\" id=\"files-a40c97c2-637d-4df0-a38b-9b1ee4f39112\" name=\"files[]\" multiple disabled />\n",
              "     <output id=\"result-a40c97c2-637d-4df0-a38b-9b1ee4f39112\">\n",
              "      Upload widget is only available when the cell has been executed in the\n",
              "      current browser session. Please rerun this cell to enable.\n",
              "      </output>\n",
              "      <script src=\"/nbextensions/google.colab/files.js\"></script> "
            ],
            "text/plain": [
              "<IPython.core.display.HTML object>"
            ]
          },
          "metadata": {
            "tags": []
          }
        },
        {
          "output_type": "stream",
          "text": [
            "Saving cardio_train.csv to cardio_train.csv\n"
          ],
          "name": "stdout"
        }
      ]
    },
    {
      "cell_type": "code",
      "metadata": {
        "id": "aMDFNMlZwFtN",
        "colab_type": "code",
        "outputId": "776a2e6e-7377-4711-d490-69aa7baff5ac",
        "colab": {
          "base_uri": "https://localhost:8080/",
          "height": 212
        }
      },
      "source": [
        "df = pd.read_csv(io.BytesIO(uploaded['cardio_train.csv']), sep=';')\n",
        "print(df.shape)\n",
        "df.head()"
      ],
      "execution_count": 109,
      "outputs": [
        {
          "output_type": "stream",
          "text": [
            "(70000, 13)\n"
          ],
          "name": "stdout"
        },
        {
          "output_type": "execute_result",
          "data": {
            "text/html": [
              "<div>\n",
              "<style scoped>\n",
              "    .dataframe tbody tr th:only-of-type {\n",
              "        vertical-align: middle;\n",
              "    }\n",
              "\n",
              "    .dataframe tbody tr th {\n",
              "        vertical-align: top;\n",
              "    }\n",
              "\n",
              "    .dataframe thead th {\n",
              "        text-align: right;\n",
              "    }\n",
              "</style>\n",
              "<table border=\"1\" class=\"dataframe\">\n",
              "  <thead>\n",
              "    <tr style=\"text-align: right;\">\n",
              "      <th></th>\n",
              "      <th>id</th>\n",
              "      <th>age</th>\n",
              "      <th>gender</th>\n",
              "      <th>height</th>\n",
              "      <th>weight</th>\n",
              "      <th>ap_hi</th>\n",
              "      <th>ap_lo</th>\n",
              "      <th>cholesterol</th>\n",
              "      <th>gluc</th>\n",
              "      <th>smoke</th>\n",
              "      <th>alco</th>\n",
              "      <th>active</th>\n",
              "      <th>cardio</th>\n",
              "    </tr>\n",
              "  </thead>\n",
              "  <tbody>\n",
              "    <tr>\n",
              "      <th>0</th>\n",
              "      <td>0</td>\n",
              "      <td>18393</td>\n",
              "      <td>2</td>\n",
              "      <td>168</td>\n",
              "      <td>62.0</td>\n",
              "      <td>110</td>\n",
              "      <td>80</td>\n",
              "      <td>1</td>\n",
              "      <td>1</td>\n",
              "      <td>0</td>\n",
              "      <td>0</td>\n",
              "      <td>1</td>\n",
              "      <td>0</td>\n",
              "    </tr>\n",
              "    <tr>\n",
              "      <th>1</th>\n",
              "      <td>1</td>\n",
              "      <td>20228</td>\n",
              "      <td>1</td>\n",
              "      <td>156</td>\n",
              "      <td>85.0</td>\n",
              "      <td>140</td>\n",
              "      <td>90</td>\n",
              "      <td>3</td>\n",
              "      <td>1</td>\n",
              "      <td>0</td>\n",
              "      <td>0</td>\n",
              "      <td>1</td>\n",
              "      <td>1</td>\n",
              "    </tr>\n",
              "    <tr>\n",
              "      <th>2</th>\n",
              "      <td>2</td>\n",
              "      <td>18857</td>\n",
              "      <td>1</td>\n",
              "      <td>165</td>\n",
              "      <td>64.0</td>\n",
              "      <td>130</td>\n",
              "      <td>70</td>\n",
              "      <td>3</td>\n",
              "      <td>1</td>\n",
              "      <td>0</td>\n",
              "      <td>0</td>\n",
              "      <td>0</td>\n",
              "      <td>1</td>\n",
              "    </tr>\n",
              "    <tr>\n",
              "      <th>3</th>\n",
              "      <td>3</td>\n",
              "      <td>17623</td>\n",
              "      <td>2</td>\n",
              "      <td>169</td>\n",
              "      <td>82.0</td>\n",
              "      <td>150</td>\n",
              "      <td>100</td>\n",
              "      <td>1</td>\n",
              "      <td>1</td>\n",
              "      <td>0</td>\n",
              "      <td>0</td>\n",
              "      <td>1</td>\n",
              "      <td>1</td>\n",
              "    </tr>\n",
              "    <tr>\n",
              "      <th>4</th>\n",
              "      <td>4</td>\n",
              "      <td>17474</td>\n",
              "      <td>1</td>\n",
              "      <td>156</td>\n",
              "      <td>56.0</td>\n",
              "      <td>100</td>\n",
              "      <td>60</td>\n",
              "      <td>1</td>\n",
              "      <td>1</td>\n",
              "      <td>0</td>\n",
              "      <td>0</td>\n",
              "      <td>0</td>\n",
              "      <td>0</td>\n",
              "    </tr>\n",
              "  </tbody>\n",
              "</table>\n",
              "</div>"
            ],
            "text/plain": [
              "   id    age  gender  height  weight  ...  gluc  smoke  alco  active  cardio\n",
              "0   0  18393       2     168    62.0  ...     1      0     0       1       0\n",
              "1   1  20228       1     156    85.0  ...     1      0     0       1       1\n",
              "2   2  18857       1     165    64.0  ...     1      0     0       0       1\n",
              "3   3  17623       2     169    82.0  ...     1      0     0       1       1\n",
              "4   4  17474       1     156    56.0  ...     1      0     0       0       0\n",
              "\n",
              "[5 rows x 13 columns]"
            ]
          },
          "metadata": {
            "tags": []
          },
          "execution_count": 109
        }
      ]
    },
    {
      "cell_type": "markdown",
      "metadata": {
        "id": "W6HDjBxcw9-K",
        "colab_type": "text"
      },
      "source": [
        "### Some information about the features\n",
        "- Age is currently measured in days\n",
        "- Gender is classified 1:women and 2:men\n",
        "- Height is measure in cm\n",
        "- Weight is measured in kg \n",
        "- ap_hi refers to arterial pressure. Specifically the Systolic blood pressures which represents when the heart contracts.\n",
        "- ap_lo refers to Dystolic Blood Pressure or when the heart contracts. \n",
        "    - ap_hi and ap_lo are used to calculate blood pressure (e.g. 120/80)\n",
        "    - according to the CDC, less than 120/80 is considered normal, between 120/80 and 139/89 is considered at risk for high blood pressure, and more than 140/90 is considered high blood pressure.\n",
        "- cholesterol and glu are labeled as 1:normal, 2:above normal, 3 well above normal.\n",
        "- smoke, alco, active, and cardio are binary with cardio as the target"
      ]
    },
    {
      "cell_type": "markdown",
      "metadata": {
        "id": "bQhc1jW8OZQ-",
        "colab_type": "text"
      },
      "source": [
        "# Data Cleaning"
      ]
    },
    {
      "cell_type": "code",
      "metadata": {
        "id": "la1xvL5dw_JS",
        "colab_type": "code",
        "outputId": "38d02bd7-2115-4695-c1b2-d0c41fc77d5f",
        "colab": {
          "base_uri": "https://localhost:8080/",
          "height": 321
        }
      },
      "source": [
        "# Change age to years for easier comprehension \n",
        "df['age'] = round(df['age'] / 365, 1)\n",
        "\n",
        "# Add BMI metric for later\n",
        "df['bmi'] = (df['weight'] / df['height'] / df['height']) * 10000\n",
        "\n",
        "# Look at shape\n",
        "print(df.shape)\n",
        "\n",
        "# Look at general statitics\n",
        "df.describe()"
      ],
      "execution_count": 110,
      "outputs": [
        {
          "output_type": "stream",
          "text": [
            "(70000, 14)\n"
          ],
          "name": "stdout"
        },
        {
          "output_type": "execute_result",
          "data": {
            "text/html": [
              "<div>\n",
              "<style scoped>\n",
              "    .dataframe tbody tr th:only-of-type {\n",
              "        vertical-align: middle;\n",
              "    }\n",
              "\n",
              "    .dataframe tbody tr th {\n",
              "        vertical-align: top;\n",
              "    }\n",
              "\n",
              "    .dataframe thead th {\n",
              "        text-align: right;\n",
              "    }\n",
              "</style>\n",
              "<table border=\"1\" class=\"dataframe\">\n",
              "  <thead>\n",
              "    <tr style=\"text-align: right;\">\n",
              "      <th></th>\n",
              "      <th>id</th>\n",
              "      <th>age</th>\n",
              "      <th>gender</th>\n",
              "      <th>height</th>\n",
              "      <th>weight</th>\n",
              "      <th>ap_hi</th>\n",
              "      <th>ap_lo</th>\n",
              "      <th>cholesterol</th>\n",
              "      <th>gluc</th>\n",
              "      <th>smoke</th>\n",
              "      <th>alco</th>\n",
              "      <th>active</th>\n",
              "      <th>cardio</th>\n",
              "      <th>bmi</th>\n",
              "    </tr>\n",
              "  </thead>\n",
              "  <tbody>\n",
              "    <tr>\n",
              "      <th>count</th>\n",
              "      <td>70000.000000</td>\n",
              "      <td>70000.000000</td>\n",
              "      <td>70000.000000</td>\n",
              "      <td>70000.000000</td>\n",
              "      <td>70000.000000</td>\n",
              "      <td>70000.000000</td>\n",
              "      <td>70000.000000</td>\n",
              "      <td>70000.000000</td>\n",
              "      <td>70000.000000</td>\n",
              "      <td>70000.000000</td>\n",
              "      <td>70000.000000</td>\n",
              "      <td>70000.000000</td>\n",
              "      <td>70000.000000</td>\n",
              "      <td>70000.000000</td>\n",
              "    </tr>\n",
              "    <tr>\n",
              "      <th>mean</th>\n",
              "      <td>49972.419900</td>\n",
              "      <td>53.339486</td>\n",
              "      <td>1.349571</td>\n",
              "      <td>164.359229</td>\n",
              "      <td>74.205690</td>\n",
              "      <td>128.817286</td>\n",
              "      <td>96.630414</td>\n",
              "      <td>1.366871</td>\n",
              "      <td>1.226457</td>\n",
              "      <td>0.088129</td>\n",
              "      <td>0.053771</td>\n",
              "      <td>0.803729</td>\n",
              "      <td>0.499700</td>\n",
              "      <td>27.556513</td>\n",
              "    </tr>\n",
              "    <tr>\n",
              "      <th>std</th>\n",
              "      <td>28851.302323</td>\n",
              "      <td>6.759534</td>\n",
              "      <td>0.476838</td>\n",
              "      <td>8.210126</td>\n",
              "      <td>14.395757</td>\n",
              "      <td>154.011419</td>\n",
              "      <td>188.472530</td>\n",
              "      <td>0.680250</td>\n",
              "      <td>0.572270</td>\n",
              "      <td>0.283484</td>\n",
              "      <td>0.225568</td>\n",
              "      <td>0.397179</td>\n",
              "      <td>0.500003</td>\n",
              "      <td>6.091511</td>\n",
              "    </tr>\n",
              "    <tr>\n",
              "      <th>min</th>\n",
              "      <td>0.000000</td>\n",
              "      <td>29.600000</td>\n",
              "      <td>1.000000</td>\n",
              "      <td>55.000000</td>\n",
              "      <td>10.000000</td>\n",
              "      <td>-150.000000</td>\n",
              "      <td>-70.000000</td>\n",
              "      <td>1.000000</td>\n",
              "      <td>1.000000</td>\n",
              "      <td>0.000000</td>\n",
              "      <td>0.000000</td>\n",
              "      <td>0.000000</td>\n",
              "      <td>0.000000</td>\n",
              "      <td>3.471784</td>\n",
              "    </tr>\n",
              "    <tr>\n",
              "      <th>25%</th>\n",
              "      <td>25006.750000</td>\n",
              "      <td>48.400000</td>\n",
              "      <td>1.000000</td>\n",
              "      <td>159.000000</td>\n",
              "      <td>65.000000</td>\n",
              "      <td>120.000000</td>\n",
              "      <td>80.000000</td>\n",
              "      <td>1.000000</td>\n",
              "      <td>1.000000</td>\n",
              "      <td>0.000000</td>\n",
              "      <td>0.000000</td>\n",
              "      <td>1.000000</td>\n",
              "      <td>0.000000</td>\n",
              "      <td>23.875115</td>\n",
              "    </tr>\n",
              "    <tr>\n",
              "      <th>50%</th>\n",
              "      <td>50001.500000</td>\n",
              "      <td>54.000000</td>\n",
              "      <td>1.000000</td>\n",
              "      <td>165.000000</td>\n",
              "      <td>72.000000</td>\n",
              "      <td>120.000000</td>\n",
              "      <td>80.000000</td>\n",
              "      <td>1.000000</td>\n",
              "      <td>1.000000</td>\n",
              "      <td>0.000000</td>\n",
              "      <td>0.000000</td>\n",
              "      <td>1.000000</td>\n",
              "      <td>0.000000</td>\n",
              "      <td>26.374068</td>\n",
              "    </tr>\n",
              "    <tr>\n",
              "      <th>75%</th>\n",
              "      <td>74889.250000</td>\n",
              "      <td>58.400000</td>\n",
              "      <td>2.000000</td>\n",
              "      <td>170.000000</td>\n",
              "      <td>82.000000</td>\n",
              "      <td>140.000000</td>\n",
              "      <td>90.000000</td>\n",
              "      <td>2.000000</td>\n",
              "      <td>1.000000</td>\n",
              "      <td>0.000000</td>\n",
              "      <td>0.000000</td>\n",
              "      <td>1.000000</td>\n",
              "      <td>1.000000</td>\n",
              "      <td>30.222222</td>\n",
              "    </tr>\n",
              "    <tr>\n",
              "      <th>max</th>\n",
              "      <td>99999.000000</td>\n",
              "      <td>65.000000</td>\n",
              "      <td>2.000000</td>\n",
              "      <td>250.000000</td>\n",
              "      <td>200.000000</td>\n",
              "      <td>16020.000000</td>\n",
              "      <td>11000.000000</td>\n",
              "      <td>3.000000</td>\n",
              "      <td>3.000000</td>\n",
              "      <td>1.000000</td>\n",
              "      <td>1.000000</td>\n",
              "      <td>1.000000</td>\n",
              "      <td>1.000000</td>\n",
              "      <td>298.666667</td>\n",
              "    </tr>\n",
              "  </tbody>\n",
              "</table>\n",
              "</div>"
            ],
            "text/plain": [
              "                 id           age  ...        cardio           bmi\n",
              "count  70000.000000  70000.000000  ...  70000.000000  70000.000000\n",
              "mean   49972.419900     53.339486  ...      0.499700     27.556513\n",
              "std    28851.302323      6.759534  ...      0.500003      6.091511\n",
              "min        0.000000     29.600000  ...      0.000000      3.471784\n",
              "25%    25006.750000     48.400000  ...      0.000000     23.875115\n",
              "50%    50001.500000     54.000000  ...      0.000000     26.374068\n",
              "75%    74889.250000     58.400000  ...      1.000000     30.222222\n",
              "max    99999.000000     65.000000  ...      1.000000    298.666667\n",
              "\n",
              "[8 rows x 14 columns]"
            ]
          },
          "metadata": {
            "tags": []
          },
          "execution_count": 110
        }
      ]
    },
    {
      "cell_type": "code",
      "metadata": {
        "id": "3I2hTz2uxEn-",
        "colab_type": "code",
        "outputId": "8d2bfff8-bf08-42aa-dd1c-8232ada0dd43",
        "colab": {
          "base_uri": "https://localhost:8080/",
          "height": 269
        }
      },
      "source": [
        "# Look for missing values\n",
        "df.isnull().any()"
      ],
      "execution_count": 111,
      "outputs": [
        {
          "output_type": "execute_result",
          "data": {
            "text/plain": [
              "id             False\n",
              "age            False\n",
              "gender         False\n",
              "height         False\n",
              "weight         False\n",
              "ap_hi          False\n",
              "ap_lo          False\n",
              "cholesterol    False\n",
              "gluc           False\n",
              "smoke          False\n",
              "alco           False\n",
              "active         False\n",
              "cardio         False\n",
              "bmi            False\n",
              "dtype: bool"
            ]
          },
          "metadata": {
            "tags": []
          },
          "execution_count": 111
        }
      ]
    },
    {
      "cell_type": "markdown",
      "metadata": {
        "id": "3_fI7VRUqAHz",
        "colab_type": "text"
      },
      "source": [
        "There appears to be some outliers in the blood pressure features"
      ]
    },
    {
      "cell_type": "code",
      "metadata": {
        "id": "eZpOkJGkQlHY",
        "colab_type": "code",
        "outputId": "96f25f7a-20b9-4ad8-b319-684a9b9222f7",
        "colab": {
          "base_uri": "https://localhost:8080/",
          "height": 464
        }
      },
      "source": [
        "plt.figure(figsize=(20,7))\n",
        "plt.subplot(211)\n",
        "sns.boxplot(df['ap_hi'])\n",
        "plt.subplot(212)\n",
        "sns.boxplot(df['ap_lo'])"
      ],
      "execution_count": 112,
      "outputs": [
        {
          "output_type": "execute_result",
          "data": {
            "text/plain": [
              "<matplotlib.axes._subplots.AxesSubplot at 0x7f04a82c6908>"
            ]
          },
          "metadata": {
            "tags": []
          },
          "execution_count": 112
        },
        {
          "output_type": "display_data",
          "data": {
            "image/png": "[encoded data removed]",
            "text/plain": [
              "<Figure size 1440x504 with 2 Axes>"
            ]
          },
          "metadata": {
            "tags": []
          }
        }
      ]
    },
    {
      "cell_type": "code",
      "metadata": {
        "id": "axlUWYmSOg4G",
        "colab_type": "code",
        "outputId": "ec37c073-43b9-40c8-b92d-c614fc53ee4a",
        "colab": {
          "base_uri": "https://localhost:8080/",
          "height": 101
        }
      },
      "source": [
        "# Determine parameters for removing outliers and how many observations would be removed\n",
        "print(df[df['ap_hi'] > 370].shape)\n",
        "print(df[df['ap_lo'] > 360].shape)\n",
        "print(df[df['ap_hi'] < 0].shape)\n",
        "print(df[df['ap_lo'] < 0].shape)\n",
        "print(df[df['ap_hi'] < df['ap_lo']].shape)\n"
      ],
      "execution_count": 113,
      "outputs": [
        {
          "output_type": "stream",
          "text": [
            "(39, 14)\n",
            "(953, 14)\n",
            "(7, 14)\n",
            "(1, 14)\n",
            "(1234, 14)\n"
          ],
          "name": "stdout"
        }
      ]
    },
    {
      "cell_type": "markdown",
      "metadata": {
        "id": "eZRvaBgXrNA5",
        "colab_type": "text"
      },
      "source": [
        "The number 370/360 is based off of a study involving blood pressure and seems to be one of the highest recorded"
      ]
    },
    {
      "cell_type": "code",
      "metadata": {
        "id": "RTXxFSaiO9aV",
        "colab_type": "code",
        "outputId": "4d445d09-794f-4398-ecc5-84abb64b443b",
        "colab": {
          "base_uri": "https://localhost:8080/",
          "height": 50
        }
      },
      "source": [
        "# Create copies for modeling \n",
        "df_clean = df.copy()\n",
        "df_full = df.copy()\n",
        "\n",
        "# Drop blood pressure outliers\n",
        "df_clean.drop(df_clean[(df_clean['ap_hi']>370)].index,inplace=True)\n",
        "df_clean.drop(df_clean[(df_clean['ap_lo']>360)].index,inplace=True)\n",
        "df_clean.drop(df_clean[(df_clean['ap_hi']<0)].index,inplace=True)\n",
        "df_clean.drop(df_clean[(df_clean['ap_lo']<0)].index,inplace=True)\n",
        "df_clean.drop(df_clean[(df_clean['ap_hi']<df_clean['ap_lo'])].index,inplace=True)\n",
        "\n",
        "first_cleaning = 1 - df_clean.shape[0] / df.shape[0]\n",
        "print(df_clean.shape)\n",
        "print('Percent of observations lost:', first_cleaning)"
      ],
      "execution_count": 114,
      "outputs": [
        {
          "output_type": "stream",
          "text": [
            "(68726, 14)\n",
            "Percent of observations lost: 0.018199999999999994\n"
          ],
          "name": "stdout"
        }
      ]
    },
    {
      "cell_type": "code",
      "metadata": {
        "id": "x2fnXhFMPikj",
        "colab_type": "code",
        "outputId": "c83f9385-c773-4886-ec06-62863849eba4",
        "colab": {
          "base_uri": "https://localhost:8080/",
          "height": 609
        }
      },
      "source": [
        "# Look at the outliers in weight and height\n",
        "plt.figure(figsize=(20, 10))\n",
        "plt.subplot(311)\n",
        "sns.boxplot(df_clean['height'])\n",
        "plt.subplot(312)\n",
        "sns.boxplot(df_clean['weight'])\n",
        "plt.subplot(313)\n",
        "sns.boxplot(df_clean['bmi']);"
      ],
      "execution_count": 115,
      "outputs": [
        {
          "output_type": "display_data",
          "data": {
            "image/png": "[encoded data removed]",
            "text/plain": [
              "<Figure size 1440x720 with 3 Axes>"
            ]
          },
          "metadata": {
            "tags": []
          }
        }
      ]
    },
    {
      "cell_type": "code",
      "metadata": {
        "id": "HS0hZtZmRawb",
        "colab_type": "code",
        "outputId": "37d15947-8a0c-4a48-cd70-04d300f53f86",
        "colab": {
          "base_uri": "https://localhost:8080/",
          "height": 118
        }
      },
      "source": [
        "# See what kind of impact removing these observations would make \n",
        "print(df_clean[df_clean['height'] < 145].shape)\n",
        "print(df_clean[df_clean['height'] > 225].shape)\n",
        "print(df_clean[df_clean['weight'] < 40].shape)\n",
        "print(df_clean[df_clean['weight'] > 175].shape)\n",
        "print(df_clean[df_clean['bmi'] > 45].shape)\n",
        "print(df_clean[df_clean['bmi'] < 15].shape)"
      ],
      "execution_count": 68,
      "outputs": [
        {
          "output_type": "stream",
          "text": [
            "(361, 14)\n",
            "(1, 14)\n",
            "(49, 14)\n",
            "(11, 14)\n",
            "(579, 14)\n",
            "(26, 14)\n"
          ],
          "name": "stdout"
        }
      ]
    },
    {
      "cell_type": "code",
      "metadata": {
        "id": "1Xrks2DfQy49",
        "colab_type": "code",
        "outputId": "85a723c8-79d8-4f9e-acad-947e459f2773",
        "colab": {
          "base_uri": "https://localhost:8080/",
          "height": 67
        }
      },
      "source": [
        "# Drop outliers from weight and height\n",
        "df_clean.drop(df_clean[(df_clean['height'] < 145)].index,inplace=True)\n",
        "df_clean.drop(df_clean[(df_clean['height'] > 225)].index,inplace=True)\n",
        "df_clean.drop(df_clean[(df_clean['weight'] < 40)].index,inplace=True)\n",
        "df_clean.drop(df_clean[(df_clean['weight'] > 175)].index,inplace=True)\n",
        "df_clean.drop(df_clean[(df_clean['bmi'] > 45)].index,inplace=True)\n",
        "df_clean.drop(df_clean[(df_clean['bmi'] < 15)].index,inplace=True)\n",
        "\n",
        "# Determine percentage of outliers removed\n",
        "print(df_clean.shape)\n",
        "print('Percent missing from origianl:', 1 - df_clean.shape[0] / df.shape[0])\n",
        "print('Total missing from origianl:', (1 - df_clean.shape[0] / df.shape[0]) + first_cleaning)\n"
      ],
      "execution_count": 69,
      "outputs": [
        {
          "output_type": "stream",
          "text": [
            "(67849, 14)\n",
            "Percent missing from origianl: 0.03072857142857144\n",
            "Total missing from origianl: 0.04892857142857143\n"
          ],
          "name": "stdout"
        }
      ]
    },
    {
      "cell_type": "code",
      "metadata": {
        "id": "LFYXLnLDWTkS",
        "colab_type": "code",
        "outputId": "50b2cc1a-19e1-4eaa-db69-26849e794a08",
        "colab": {
          "base_uri": "https://localhost:8080/",
          "height": 462
        }
      },
      "source": [
        "# Look at the outliers in age\n",
        "sns.boxplot(df_clean['age'])"
      ],
      "execution_count": 70,
      "outputs": [
        {
          "output_type": "execute_result",
          "data": {
            "text/plain": [
              "<matplotlib.axes._subplots.AxesSubplot at 0x7f04a8985f60>"
            ]
          },
          "metadata": {
            "tags": []
          },
          "execution_count": 70
        },
        {
          "output_type": "display_data",
          "data": {
            "image/png": "[encoded data removed]",
            "text/plain": [
              "<Figure size 720x504 with 1 Axes>"
            ]
          },
          "metadata": {
            "tags": []
          }
        }
      ]
    },
    {
      "cell_type": "code",
      "metadata": {
        "id": "ELhMBtpWWalZ",
        "colab_type": "code",
        "outputId": "a9ea5a9c-5c44-46c9-ccb0-62ffbed28ec1",
        "colab": {
          "base_uri": "https://localhost:8080/",
          "height": 34
        }
      },
      "source": [
        "df_clean[df_clean['age']<35].shape"
      ],
      "execution_count": 71,
      "outputs": [
        {
          "output_type": "execute_result",
          "data": {
            "text/plain": [
              "(4, 14)"
            ]
          },
          "metadata": {
            "tags": []
          },
          "execution_count": 71
        }
      ]
    },
    {
      "cell_type": "code",
      "metadata": {
        "id": "1jDh1VxeWlaZ",
        "colab_type": "code",
        "colab": {}
      },
      "source": [
        "df_clean.drop(df_clean[(df_clean['age']<35)].index,inplace=True)"
      ],
      "execution_count": 0,
      "outputs": []
    },
    {
      "cell_type": "markdown",
      "metadata": {
        "id": "x3Sjs5p3FUQm",
        "colab_type": "text"
      },
      "source": [
        "# Exploratory Data Analysis"
      ]
    },
    {
      "cell_type": "code",
      "metadata": {
        "id": "JpenqARXxqL5",
        "colab_type": "code",
        "outputId": "7380e633-7d31-499e-9254-3712b0674581",
        "colab": {
          "base_uri": "https://localhost:8080/",
          "height": 462
        }
      },
      "source": [
        "# Look at the distribution of age\n",
        "sns.distplot(df_clean['age'], bins=10)\n",
        "plt.xlabel('Age')"
      ],
      "execution_count": 73,
      "outputs": [
        {
          "output_type": "execute_result",
          "data": {
            "text/plain": [
              "Text(0.5, 0, 'Age')"
            ]
          },
          "metadata": {
            "tags": []
          },
          "execution_count": 73
        },
        {
          "output_type": "display_data",
          "data": {
            "image/png": "[encoded data removed]",
            "text/plain": [
              "<Figure size 720x504 with 1 Axes>"
            ]
          },
          "metadata": {
            "tags": []
          }
        }
      ]
    },
    {
      "cell_type": "markdown",
      "metadata": {
        "id": "38EZWF19s0Ms",
        "colab_type": "text"
      },
      "source": [
        "Here we can see that there are more individuals 50 years old or older in the dataset."
      ]
    },
    {
      "cell_type": "code",
      "metadata": {
        "id": "obwdErSZtACT",
        "colab_type": "code",
        "colab": {
          "base_uri": "https://localhost:8080/",
          "height": 458
        },
        "outputId": "bbb4bb27-5cac-492b-9c45-3c6b166cba7b"
      },
      "source": [
        "years = round(df_clean[df_clean['gender']==1]['age']).value_counts().index\n",
        "ages_women = round(df_clean[df_clean['gender']==1]['age']).value_counts()\n",
        "plt1 = plt.bar(years, ages_women)\n",
        "\n",
        "years = round(df_clean[df_clean['gender']==2]['age']).value_counts().index\n",
        "ages_men = round(df_clean[df_clean['gender']==2]['age']).value_counts()\n",
        "plt2 = plt.bar(years, ages_men)\n",
        "\n",
        "plt.ylabel('Number of patients')\n",
        "plt.xlabel('Ages')\n",
        "plt.title('Ages by Gender')\n",
        "plt.legend((plt1[0], plt2[0]), ('Women', 'Men'))\n",
        "\n",
        "plt.show()"
      ],
      "execution_count": 74,
      "outputs": [
        {
          "output_type": "display_data",
          "data": {
            "image/png": "[encoded data removed]",
            "text/plain": [
              "<Figure size 720x504 with 1 Axes>"
            ]
          },
          "metadata": {
            "tags": []
          }
        }
      ]
    },
    {
      "cell_type": "code",
      "metadata": {
        "id": "5VTwxLebxatH",
        "colab_type": "code",
        "outputId": "5932eb82-eb63-4e3f-be54-20e34ee6fb5e",
        "colab": {
          "base_uri": "https://localhost:8080/",
          "height": 458
        }
      },
      "source": [
        "years = round(df_clean[df_clean['cardio']==0]['age']).value_counts().index\n",
        "without_cardio = round(df_clean[df_clean['cardio']==0]['age']).value_counts()\n",
        "plt1 = plt.bar(years, without_cardio)\n",
        "\n",
        "years = round(df_clean[df_clean['cardio']==1]['age']).value_counts().index\n",
        "with_cardio = round(df_clean[df_clean['cardio']==1]['age']).value_counts()\n",
        "plt2 = plt.bar(years, with_cardio)\n",
        "\n",
        "plt.ylabel('Number of patients')\n",
        "plt.xlabel('Ages')\n",
        "plt.title('Occurance of Cardiovascular disease by Ages')\n",
        "plt.legend((plt1[0], plt2[0]), ('Without', 'With'))\n",
        "\n",
        "plt.show()"
      ],
      "execution_count": 129,
      "outputs": [
        {
          "output_type": "display_data",
          "data": {
            "image/png": "[encoded data removed]",
            "text/plain": [
              "<Figure size 720x504 with 1 Axes>"
            ]
          },
          "metadata": {
            "tags": []
          }
        }
      ]
    },
    {
      "cell_type": "code",
      "metadata": {
        "id": "460_skLy7A9I",
        "colab_type": "code",
        "outputId": "f1442c77-2cd1-4448-b77d-009adcaf7a83",
        "colab": {
          "base_uri": "https://localhost:8080/",
          "height": 50
        }
      },
      "source": [
        "print(df_clean.shape)\n",
        "print(df_full.shape)"
      ],
      "execution_count": 76,
      "outputs": [
        {
          "output_type": "stream",
          "text": [
            "(67845, 14)\n",
            "(70000, 14)\n"
          ],
          "name": "stdout"
        }
      ]
    },
    {
      "cell_type": "code",
      "metadata": {
        "id": "GMT3o4Zp02QO",
        "colab_type": "code",
        "colab": {
          "base_uri": "https://localhost:8080/",
          "height": 622
        },
        "outputId": "c75446c4-2d6a-493e-a069-e599244a9533"
      },
      "source": [
        "for col in df_clean.drop(['id', 'cardio'],1):\n",
        "  print(col)\n",
        "  print(stats.ttest_ind(df_clean[col], df_clean['cardio']))\n",
        "  print()"
      ],
      "execution_count": 82,
      "outputs": [
        {
          "output_type": "stream",
          "text": [
            "age\n",
            "Ttest_indResult(statistic=2030.051565466351, pvalue=0.0)\n",
            "\n",
            "gender\n",
            "Ttest_indResult(statistic=323.3514028517935, pvalue=0.0)\n",
            "\n",
            "height\n",
            "Ttest_indResult(statistic=5536.385895833184, pvalue=0.0)\n",
            "\n",
            "weight\n",
            "Ttest_indResult(statistic=1413.2133645689285, pvalue=0.0)\n",
            "\n",
            "ap_hi\n",
            "Ttest_indResult(statistic=1971.1022173074853, pvalue=0.0)\n",
            "\n",
            "ap_lo\n",
            "Ttest_indResult(statistic=2186.7122547755685, pvalue=0.0)\n",
            "\n",
            "cholesterol\n",
            "Ttest_indResult(statistic=268.95672617845776, pvalue=0.0)\n",
            "\n",
            "gluc\n",
            "Ttest_indResult(statistic=251.08516699859337, pvalue=0.0)\n",
            "\n",
            "smoke\n",
            "Ttest_indResult(statistic=-183.34760756899348, pvalue=0.0)\n",
            "\n",
            "alco\n",
            "Ttest_indResult(statistic=-208.8769452502856, pvalue=0.0)\n",
            "\n",
            "active\n",
            "Ttest_indResult(statistic=126.52658431753486, pvalue=0.0)\n",
            "\n",
            "bmi\n",
            "Ttest_indResult(statistic=1434.566064880124, pvalue=0.0)\n",
            "\n"
          ],
          "name": "stdout"
        }
      ]
    },
    {
      "cell_type": "code",
      "metadata": {
        "id": "4Nknf1RH16ZT",
        "colab_type": "code",
        "colab": {
          "base_uri": "https://localhost:8080/",
          "height": 922
        },
        "outputId": "c7439881-69f0-4709-a39b-fb0c20ca4b0b"
      },
      "source": [
        "corrmat = df_clean.corr()\n",
        "sns.heatmap(corrmat)\n",
        "corrmat"
      ],
      "execution_count": 85,
      "outputs": [
        {
          "output_type": "execute_result",
          "data": {
            "text/html": [
              "<div>\n",
              "<style scoped>\n",
              "    .dataframe tbody tr th:only-of-type {\n",
              "        vertical-align: middle;\n",
              "    }\n",
              "\n",
              "    .dataframe tbody tr th {\n",
              "        vertical-align: top;\n",
              "    }\n",
              "\n",
              "    .dataframe thead th {\n",
              "        text-align: right;\n",
              "    }\n",
              "</style>\n",
              "<table border=\"1\" class=\"dataframe\">\n",
              "  <thead>\n",
              "    <tr style=\"text-align: right;\">\n",
              "      <th></th>\n",
              "      <th>id</th>\n",
              "      <th>age</th>\n",
              "      <th>gender</th>\n",
              "      <th>height</th>\n",
              "      <th>weight</th>\n",
              "      <th>ap_hi</th>\n",
              "      <th>ap_lo</th>\n",
              "      <th>cholesterol</th>\n",
              "      <th>gluc</th>\n",
              "      <th>smoke</th>\n",
              "      <th>alco</th>\n",
              "      <th>active</th>\n",
              "      <th>cardio</th>\n",
              "      <th>bmi</th>\n",
              "    </tr>\n",
              "  </thead>\n",
              "  <tbody>\n",
              "    <tr>\n",
              "      <th>id</th>\n",
              "      <td>1.000000</td>\n",
              "      <td>0.002902</td>\n",
              "      <td>0.003139</td>\n",
              "      <td>-0.001588</td>\n",
              "      <td>-0.000543</td>\n",
              "      <td>0.001205</td>\n",
              "      <td>-0.000176</td>\n",
              "      <td>0.005843</td>\n",
              "      <td>0.001711</td>\n",
              "      <td>-0.003872</td>\n",
              "      <td>-0.000039</td>\n",
              "      <td>0.004372</td>\n",
              "      <td>0.003792</td>\n",
              "      <td>-0.000158</td>\n",
              "    </tr>\n",
              "    <tr>\n",
              "      <th>age</th>\n",
              "      <td>0.002902</td>\n",
              "      <td>1.000000</td>\n",
              "      <td>-0.021873</td>\n",
              "      <td>-0.084134</td>\n",
              "      <td>0.059509</td>\n",
              "      <td>0.209090</td>\n",
              "      <td>0.154374</td>\n",
              "      <td>0.154606</td>\n",
              "      <td>0.098826</td>\n",
              "      <td>-0.047389</td>\n",
              "      <td>-0.027944</td>\n",
              "      <td>-0.010373</td>\n",
              "      <td>0.239598</td>\n",
              "      <td>0.109513</td>\n",
              "    </tr>\n",
              "    <tr>\n",
              "      <th>gender</th>\n",
              "      <td>0.003139</td>\n",
              "      <td>-0.021873</td>\n",
              "      <td>1.000000</td>\n",
              "      <td>0.524924</td>\n",
              "      <td>0.175220</td>\n",
              "      <td>0.065263</td>\n",
              "      <td>0.068414</td>\n",
              "      <td>-0.034841</td>\n",
              "      <td>-0.020017</td>\n",
              "      <td>0.338802</td>\n",
              "      <td>0.170682</td>\n",
              "      <td>0.005962</td>\n",
              "      <td>0.009026</td>\n",
              "      <td>-0.105108</td>\n",
              "    </tr>\n",
              "    <tr>\n",
              "      <th>height</th>\n",
              "      <td>-0.001588</td>\n",
              "      <td>-0.084134</td>\n",
              "      <td>0.524924</td>\n",
              "      <td>1.000000</td>\n",
              "      <td>0.336564</td>\n",
              "      <td>0.021877</td>\n",
              "      <td>0.037776</td>\n",
              "      <td>-0.054610</td>\n",
              "      <td>-0.019787</td>\n",
              "      <td>0.197178</td>\n",
              "      <td>0.097928</td>\n",
              "      <td>-0.009540</td>\n",
              "      <td>-0.010101</td>\n",
              "      <td>-0.187712</td>\n",
              "    </tr>\n",
              "    <tr>\n",
              "      <th>weight</th>\n",
              "      <td>-0.000543</td>\n",
              "      <td>0.059509</td>\n",
              "      <td>0.175220</td>\n",
              "      <td>0.336564</td>\n",
              "      <td>1.000000</td>\n",
              "      <td>0.265837</td>\n",
              "      <td>0.246969</td>\n",
              "      <td>0.139583</td>\n",
              "      <td>0.101264</td>\n",
              "      <td>0.072795</td>\n",
              "      <td>0.070222</td>\n",
              "      <td>-0.018355</td>\n",
              "      <td>0.180972</td>\n",
              "      <td>0.857462</td>\n",
              "    </tr>\n",
              "    <tr>\n",
              "      <th>ap_hi</th>\n",
              "      <td>0.001205</td>\n",
              "      <td>0.209090</td>\n",
              "      <td>0.065263</td>\n",
              "      <td>0.021877</td>\n",
              "      <td>0.265837</td>\n",
              "      <td>1.000000</td>\n",
              "      <td>0.718918</td>\n",
              "      <td>0.193291</td>\n",
              "      <td>0.090929</td>\n",
              "      <td>0.028917</td>\n",
              "      <td>0.036046</td>\n",
              "      <td>-0.000784</td>\n",
              "      <td>0.427161</td>\n",
              "      <td>0.265494</td>\n",
              "    </tr>\n",
              "    <tr>\n",
              "      <th>ap_lo</th>\n",
              "      <td>-0.000176</td>\n",
              "      <td>0.154374</td>\n",
              "      <td>0.068414</td>\n",
              "      <td>0.037776</td>\n",
              "      <td>0.246969</td>\n",
              "      <td>0.718918</td>\n",
              "      <td>1.000000</td>\n",
              "      <td>0.157133</td>\n",
              "      <td>0.071923</td>\n",
              "      <td>0.025993</td>\n",
              "      <td>0.036688</td>\n",
              "      <td>-0.001083</td>\n",
              "      <td>0.333852</td>\n",
              "      <td>0.237399</td>\n",
              "    </tr>\n",
              "    <tr>\n",
              "      <th>cholesterol</th>\n",
              "      <td>0.005843</td>\n",
              "      <td>0.154606</td>\n",
              "      <td>-0.034841</td>\n",
              "      <td>-0.054610</td>\n",
              "      <td>0.139583</td>\n",
              "      <td>0.193291</td>\n",
              "      <td>0.157133</td>\n",
              "      <td>1.000000</td>\n",
              "      <td>0.449042</td>\n",
              "      <td>0.010352</td>\n",
              "      <td>0.035805</td>\n",
              "      <td>0.008794</td>\n",
              "      <td>0.221063</td>\n",
              "      <td>0.174176</td>\n",
              "    </tr>\n",
              "    <tr>\n",
              "      <th>gluc</th>\n",
              "      <td>0.001711</td>\n",
              "      <td>0.098826</td>\n",
              "      <td>-0.020017</td>\n",
              "      <td>-0.019787</td>\n",
              "      <td>0.101264</td>\n",
              "      <td>0.090929</td>\n",
              "      <td>0.071923</td>\n",
              "      <td>0.449042</td>\n",
              "      <td>1.000000</td>\n",
              "      <td>-0.006202</td>\n",
              "      <td>0.010021</td>\n",
              "      <td>-0.007303</td>\n",
              "      <td>0.088505</td>\n",
              "      <td>0.115320</td>\n",
              "    </tr>\n",
              "    <tr>\n",
              "      <th>smoke</th>\n",
              "      <td>-0.003872</td>\n",
              "      <td>-0.047389</td>\n",
              "      <td>0.338802</td>\n",
              "      <td>0.197178</td>\n",
              "      <td>0.072795</td>\n",
              "      <td>0.028917</td>\n",
              "      <td>0.025993</td>\n",
              "      <td>0.010352</td>\n",
              "      <td>-0.006202</td>\n",
              "      <td>1.000000</td>\n",
              "      <td>0.341497</td>\n",
              "      <td>0.025311</td>\n",
              "      <td>-0.015902</td>\n",
              "      <td>-0.031981</td>\n",
              "    </tr>\n",
              "    <tr>\n",
              "      <th>alco</th>\n",
              "      <td>-0.000039</td>\n",
              "      <td>-0.027944</td>\n",
              "      <td>0.170682</td>\n",
              "      <td>0.097928</td>\n",
              "      <td>0.070222</td>\n",
              "      <td>0.036046</td>\n",
              "      <td>0.036688</td>\n",
              "      <td>0.035805</td>\n",
              "      <td>0.010021</td>\n",
              "      <td>0.341497</td>\n",
              "      <td>1.000000</td>\n",
              "      <td>0.025169</td>\n",
              "      <td>-0.008095</td>\n",
              "      <td>0.019199</td>\n",
              "    </tr>\n",
              "    <tr>\n",
              "      <th>active</th>\n",
              "      <td>0.004372</td>\n",
              "      <td>-0.010373</td>\n",
              "      <td>0.005962</td>\n",
              "      <td>-0.009540</td>\n",
              "      <td>-0.018355</td>\n",
              "      <td>-0.000784</td>\n",
              "      <td>-0.001083</td>\n",
              "      <td>0.008794</td>\n",
              "      <td>-0.007303</td>\n",
              "      <td>0.025311</td>\n",
              "      <td>0.025169</td>\n",
              "      <td>1.000000</td>\n",
              "      <td>-0.037740</td>\n",
              "      <td>-0.014381</td>\n",
              "    </tr>\n",
              "    <tr>\n",
              "      <th>cardio</th>\n",
              "      <td>0.003792</td>\n",
              "      <td>0.239598</td>\n",
              "      <td>0.009026</td>\n",
              "      <td>-0.010101</td>\n",
              "      <td>0.180972</td>\n",
              "      <td>0.427161</td>\n",
              "      <td>0.333852</td>\n",
              "      <td>0.221063</td>\n",
              "      <td>0.088505</td>\n",
              "      <td>-0.015902</td>\n",
              "      <td>-0.008095</td>\n",
              "      <td>-0.037740</td>\n",
              "      <td>1.000000</td>\n",
              "      <td>0.193961</td>\n",
              "    </tr>\n",
              "    <tr>\n",
              "      <th>bmi</th>\n",
              "      <td>-0.000158</td>\n",
              "      <td>0.109513</td>\n",
              "      <td>-0.105108</td>\n",
              "      <td>-0.187712</td>\n",
              "      <td>0.857462</td>\n",
              "      <td>0.265494</td>\n",
              "      <td>0.237399</td>\n",
              "      <td>0.174176</td>\n",
              "      <td>0.115320</td>\n",
              "      <td>-0.031981</td>\n",
              "      <td>0.019199</td>\n",
              "      <td>-0.014381</td>\n",
              "      <td>0.193961</td>\n",
              "      <td>1.000000</td>\n",
              "    </tr>\n",
              "  </tbody>\n",
              "</table>\n",
              "</div>"
            ],
            "text/plain": [
              "                   id       age    gender  ...    active    cardio       bmi\n",
              "id           1.000000  0.002902  0.003139  ...  0.004372  0.003792 -0.000158\n",
              "age          0.002902  1.000000 -0.021873  ... -0.010373  0.239598  0.109513\n",
              "gender       0.003139 -0.021873  1.000000  ...  0.005962  0.009026 -0.105108\n",
              "height      -0.001588 -0.084134  0.524924  ... -0.009540 -0.010101 -0.187712\n",
              "weight      -0.000543  0.059509  0.175220  ... -0.018355  0.180972  0.857462\n",
              "ap_hi        0.001205  0.209090  0.065263  ... -0.000784  0.427161  0.265494\n",
              "ap_lo       -0.000176  0.154374  0.068414  ... -0.001083  0.333852  0.237399\n",
              "cholesterol  0.005843  0.154606 -0.034841  ...  0.008794  0.221063  0.174176\n",
              "gluc         0.001711  0.098826 -0.020017  ... -0.007303  0.088505  0.115320\n",
              "smoke       -0.003872 -0.047389  0.338802  ...  0.025311 -0.015902 -0.031981\n",
              "alco        -0.000039 -0.027944  0.170682  ...  0.025169 -0.008095  0.019199\n",
              "active       0.004372 -0.010373  0.005962  ...  1.000000 -0.037740 -0.014381\n",
              "cardio       0.003792  0.239598  0.009026  ... -0.037740  1.000000  0.193961\n",
              "bmi         -0.000158  0.109513 -0.105108  ... -0.014381  0.193961  1.000000\n",
              "\n",
              "[14 rows x 14 columns]"
            ]
          },
          "metadata": {
            "tags": []
          },
          "execution_count": 85
        },
        {
          "output_type": "display_data",
          "data": {
            "image/png": "[encoded data removed]",
            "text/plain": [
              "<Figure size 720x504 with 2 Axes>"
            ]
          },
          "metadata": {
            "tags": []
          }
        }
      ]
    },
    {
      "cell_type": "code",
      "metadata": {
        "id": "LUxGyLAZGe7I",
        "colab_type": "code",
        "outputId": "01652349-b19a-4f27-8a4f-0e2f147f5a7d",
        "colab": {
          "base_uri": "https://localhost:8080/",
          "height": 834
        }
      },
      "source": [
        "# Create features and target variables\n",
        "X_clean = df_clean.drop(['id', 'cardio', 'bmi'], 1)\n",
        "y_clean = df_clean.cardio\n",
        "\n",
        "X_full = df_full.drop(['id', 'cardio', 'bmi'], 1)\n",
        "y_full = df_full['cardio']\n",
        "\n",
        "# Look at a correlation matrix and heatmap of correlation between feature variables\n",
        "corrmat_clean = X_clean.corr()\n",
        "sns.heatmap(corrmat_clean);\n",
        "corrmat_clean"
      ],
      "execution_count": 87,
      "outputs": [
        {
          "output_type": "execute_result",
          "data": {
            "text/html": [
              "<div>\n",
              "<style scoped>\n",
              "    .dataframe tbody tr th:only-of-type {\n",
              "        vertical-align: middle;\n",
              "    }\n",
              "\n",
              "    .dataframe tbody tr th {\n",
              "        vertical-align: top;\n",
              "    }\n",
              "\n",
              "    .dataframe thead th {\n",
              "        text-align: right;\n",
              "    }\n",
              "</style>\n",
              "<table border=\"1\" class=\"dataframe\">\n",
              "  <thead>\n",
              "    <tr style=\"text-align: right;\">\n",
              "      <th></th>\n",
              "      <th>age</th>\n",
              "      <th>gender</th>\n",
              "      <th>height</th>\n",
              "      <th>weight</th>\n",
              "      <th>ap_hi</th>\n",
              "      <th>ap_lo</th>\n",
              "      <th>cholesterol</th>\n",
              "      <th>gluc</th>\n",
              "      <th>smoke</th>\n",
              "      <th>alco</th>\n",
              "      <th>active</th>\n",
              "    </tr>\n",
              "  </thead>\n",
              "  <tbody>\n",
              "    <tr>\n",
              "      <th>age</th>\n",
              "      <td>1.000000</td>\n",
              "      <td>-0.021873</td>\n",
              "      <td>-0.084134</td>\n",
              "      <td>0.059509</td>\n",
              "      <td>0.209090</td>\n",
              "      <td>0.154374</td>\n",
              "      <td>0.154606</td>\n",
              "      <td>0.098826</td>\n",
              "      <td>-0.047389</td>\n",
              "      <td>-0.027944</td>\n",
              "      <td>-0.010373</td>\n",
              "    </tr>\n",
              "    <tr>\n",
              "      <th>gender</th>\n",
              "      <td>-0.021873</td>\n",
              "      <td>1.000000</td>\n",
              "      <td>0.524924</td>\n",
              "      <td>0.175220</td>\n",
              "      <td>0.065263</td>\n",
              "      <td>0.068414</td>\n",
              "      <td>-0.034841</td>\n",
              "      <td>-0.020017</td>\n",
              "      <td>0.338802</td>\n",
              "      <td>0.170682</td>\n",
              "      <td>0.005962</td>\n",
              "    </tr>\n",
              "    <tr>\n",
              "      <th>height</th>\n",
              "      <td>-0.084134</td>\n",
              "      <td>0.524924</td>\n",
              "      <td>1.000000</td>\n",
              "      <td>0.336564</td>\n",
              "      <td>0.021877</td>\n",
              "      <td>0.037776</td>\n",
              "      <td>-0.054610</td>\n",
              "      <td>-0.019787</td>\n",
              "      <td>0.197178</td>\n",
              "      <td>0.097928</td>\n",
              "      <td>-0.009540</td>\n",
              "    </tr>\n",
              "    <tr>\n",
              "      <th>weight</th>\n",
              "      <td>0.059509</td>\n",
              "      <td>0.175220</td>\n",
              "      <td>0.336564</td>\n",
              "      <td>1.000000</td>\n",
              "      <td>0.265837</td>\n",
              "      <td>0.246969</td>\n",
              "      <td>0.139583</td>\n",
              "      <td>0.101264</td>\n",
              "      <td>0.072795</td>\n",
              "      <td>0.070222</td>\n",
              "      <td>-0.018355</td>\n",
              "    </tr>\n",
              "    <tr>\n",
              "      <th>ap_hi</th>\n",
              "      <td>0.209090</td>\n",
              "      <td>0.065263</td>\n",
              "      <td>0.021877</td>\n",
              "      <td>0.265837</td>\n",
              "      <td>1.000000</td>\n",
              "      <td>0.718918</td>\n",
              "      <td>0.193291</td>\n",
              "      <td>0.090929</td>\n",
              "      <td>0.028917</td>\n",
              "      <td>0.036046</td>\n",
              "      <td>-0.000784</td>\n",
              "    </tr>\n",
              "    <tr>\n",
              "      <th>ap_lo</th>\n",
              "      <td>0.154374</td>\n",
              "      <td>0.068414</td>\n",
              "      <td>0.037776</td>\n",
              "      <td>0.246969</td>\n",
              "      <td>0.718918</td>\n",
              "      <td>1.000000</td>\n",
              "      <td>0.157133</td>\n",
              "      <td>0.071923</td>\n",
              "      <td>0.025993</td>\n",
              "      <td>0.036688</td>\n",
              "      <td>-0.001083</td>\n",
              "    </tr>\n",
              "    <tr>\n",
              "      <th>cholesterol</th>\n",
              "      <td>0.154606</td>\n",
              "      <td>-0.034841</td>\n",
              "      <td>-0.054610</td>\n",
              "      <td>0.139583</td>\n",
              "      <td>0.193291</td>\n",
              "      <td>0.157133</td>\n",
              "      <td>1.000000</td>\n",
              "      <td>0.449042</td>\n",
              "      <td>0.010352</td>\n",
              "      <td>0.035805</td>\n",
              "      <td>0.008794</td>\n",
              "    </tr>\n",
              "    <tr>\n",
              "      <th>gluc</th>\n",
              "      <td>0.098826</td>\n",
              "      <td>-0.020017</td>\n",
              "      <td>-0.019787</td>\n",
              "      <td>0.101264</td>\n",
              "      <td>0.090929</td>\n",
              "      <td>0.071923</td>\n",
              "      <td>0.449042</td>\n",
              "      <td>1.000000</td>\n",
              "      <td>-0.006202</td>\n",
              "      <td>0.010021</td>\n",
              "      <td>-0.007303</td>\n",
              "    </tr>\n",
              "    <tr>\n",
              "      <th>smoke</th>\n",
              "      <td>-0.047389</td>\n",
              "      <td>0.338802</td>\n",
              "      <td>0.197178</td>\n",
              "      <td>0.072795</td>\n",
              "      <td>0.028917</td>\n",
              "      <td>0.025993</td>\n",
              "      <td>0.010352</td>\n",
              "      <td>-0.006202</td>\n",
              "      <td>1.000000</td>\n",
              "      <td>0.341497</td>\n",
              "      <td>0.025311</td>\n",
              "    </tr>\n",
              "    <tr>\n",
              "      <th>alco</th>\n",
              "      <td>-0.027944</td>\n",
              "      <td>0.170682</td>\n",
              "      <td>0.097928</td>\n",
              "      <td>0.070222</td>\n",
              "      <td>0.036046</td>\n",
              "      <td>0.036688</td>\n",
              "      <td>0.035805</td>\n",
              "      <td>0.010021</td>\n",
              "      <td>0.341497</td>\n",
              "      <td>1.000000</td>\n",
              "      <td>0.025169</td>\n",
              "    </tr>\n",
              "    <tr>\n",
              "      <th>active</th>\n",
              "      <td>-0.010373</td>\n",
              "      <td>0.005962</td>\n",
              "      <td>-0.009540</td>\n",
              "      <td>-0.018355</td>\n",
              "      <td>-0.000784</td>\n",
              "      <td>-0.001083</td>\n",
              "      <td>0.008794</td>\n",
              "      <td>-0.007303</td>\n",
              "      <td>0.025311</td>\n",
              "      <td>0.025169</td>\n",
              "      <td>1.000000</td>\n",
              "    </tr>\n",
              "  </tbody>\n",
              "</table>\n",
              "</div>"
            ],
            "text/plain": [
              "                  age    gender    height  ...     smoke      alco    active\n",
              "age          1.000000 -0.021873 -0.084134  ... -0.047389 -0.027944 -0.010373\n",
              "gender      -0.021873  1.000000  0.524924  ...  0.338802  0.170682  0.005962\n",
              "height      -0.084134  0.524924  1.000000  ...  0.197178  0.097928 -0.009540\n",
              "weight       0.059509  0.175220  0.336564  ...  0.072795  0.070222 -0.018355\n",
              "ap_hi        0.209090  0.065263  0.021877  ...  0.028917  0.036046 -0.000784\n",
              "ap_lo        0.154374  0.068414  0.037776  ...  0.025993  0.036688 -0.001083\n",
              "cholesterol  0.154606 -0.034841 -0.054610  ...  0.010352  0.035805  0.008794\n",
              "gluc         0.098826 -0.020017 -0.019787  ... -0.006202  0.010021 -0.007303\n",
              "smoke       -0.047389  0.338802  0.197178  ...  1.000000  0.341497  0.025311\n",
              "alco        -0.027944  0.170682  0.097928  ...  0.341497  1.000000  0.025169\n",
              "active      -0.010373  0.005962 -0.009540  ...  0.025311  0.025169  1.000000\n",
              "\n",
              "[11 rows x 11 columns]"
            ]
          },
          "metadata": {
            "tags": []
          },
          "execution_count": 87
        },
        {
          "output_type": "display_data",
          "data": {
            "image/png": "[encoded data removed]",
            "text/plain": [
              "<Figure size 720x504 with 2 Axes>"
            ]
          },
          "metadata": {
            "tags": []
          }
        }
      ]
    },
    {
      "cell_type": "code",
      "metadata": {
        "id": "J66Zm6MfyQ3s",
        "colab_type": "code",
        "outputId": "00974760-5759-4084-a6e5-848538143ac0",
        "colab": {
          "base_uri": "https://localhost:8080/",
          "height": 834
        }
      },
      "source": [
        "corrmat_full = X_full.corr()\n",
        "sns.heatmap(corrmat_full);\n",
        "corrmat_full"
      ],
      "execution_count": 88,
      "outputs": [
        {
          "output_type": "execute_result",
          "data": {
            "text/html": [
              "<div>\n",
              "<style scoped>\n",
              "    .dataframe tbody tr th:only-of-type {\n",
              "        vertical-align: middle;\n",
              "    }\n",
              "\n",
              "    .dataframe tbody tr th {\n",
              "        vertical-align: top;\n",
              "    }\n",
              "\n",
              "    .dataframe thead th {\n",
              "        text-align: right;\n",
              "    }\n",
              "</style>\n",
              "<table border=\"1\" class=\"dataframe\">\n",
              "  <thead>\n",
              "    <tr style=\"text-align: right;\">\n",
              "      <th></th>\n",
              "      <th>age</th>\n",
              "      <th>gender</th>\n",
              "      <th>height</th>\n",
              "      <th>weight</th>\n",
              "      <th>ap_hi</th>\n",
              "      <th>ap_lo</th>\n",
              "      <th>cholesterol</th>\n",
              "      <th>gluc</th>\n",
              "      <th>smoke</th>\n",
              "      <th>alco</th>\n",
              "      <th>active</th>\n",
              "    </tr>\n",
              "  </thead>\n",
              "  <tbody>\n",
              "    <tr>\n",
              "      <th>age</th>\n",
              "      <td>1.000000</td>\n",
              "      <td>-0.022794</td>\n",
              "      <td>-0.081522</td>\n",
              "      <td>0.053654</td>\n",
              "      <td>0.020778</td>\n",
              "      <td>0.017630</td>\n",
              "      <td>0.154394</td>\n",
              "      <td>0.098672</td>\n",
              "      <td>-0.047638</td>\n",
              "      <td>-0.029730</td>\n",
              "      <td>-0.009931</td>\n",
              "    </tr>\n",
              "    <tr>\n",
              "      <th>gender</th>\n",
              "      <td>-0.022794</td>\n",
              "      <td>1.000000</td>\n",
              "      <td>0.499033</td>\n",
              "      <td>0.155406</td>\n",
              "      <td>0.006005</td>\n",
              "      <td>0.015254</td>\n",
              "      <td>-0.035821</td>\n",
              "      <td>-0.020491</td>\n",
              "      <td>0.338135</td>\n",
              "      <td>0.170966</td>\n",
              "      <td>0.005866</td>\n",
              "    </tr>\n",
              "    <tr>\n",
              "      <th>height</th>\n",
              "      <td>-0.081522</td>\n",
              "      <td>0.499033</td>\n",
              "      <td>1.000000</td>\n",
              "      <td>0.290968</td>\n",
              "      <td>0.005488</td>\n",
              "      <td>0.006150</td>\n",
              "      <td>-0.050226</td>\n",
              "      <td>-0.018595</td>\n",
              "      <td>0.187989</td>\n",
              "      <td>0.094419</td>\n",
              "      <td>-0.006570</td>\n",
              "    </tr>\n",
              "    <tr>\n",
              "      <th>weight</th>\n",
              "      <td>0.053654</td>\n",
              "      <td>0.155406</td>\n",
              "      <td>0.290968</td>\n",
              "      <td>1.000000</td>\n",
              "      <td>0.030702</td>\n",
              "      <td>0.043710</td>\n",
              "      <td>0.141768</td>\n",
              "      <td>0.106857</td>\n",
              "      <td>0.067780</td>\n",
              "      <td>0.067113</td>\n",
              "      <td>-0.016867</td>\n",
              "    </tr>\n",
              "    <tr>\n",
              "      <th>ap_hi</th>\n",
              "      <td>0.020778</td>\n",
              "      <td>0.006005</td>\n",
              "      <td>0.005488</td>\n",
              "      <td>0.030702</td>\n",
              "      <td>1.000000</td>\n",
              "      <td>0.016086</td>\n",
              "      <td>0.023778</td>\n",
              "      <td>0.011841</td>\n",
              "      <td>-0.000922</td>\n",
              "      <td>0.001408</td>\n",
              "      <td>-0.000033</td>\n",
              "    </tr>\n",
              "    <tr>\n",
              "      <th>ap_lo</th>\n",
              "      <td>0.017630</td>\n",
              "      <td>0.015254</td>\n",
              "      <td>0.006150</td>\n",
              "      <td>0.043710</td>\n",
              "      <td>0.016086</td>\n",
              "      <td>1.000000</td>\n",
              "      <td>0.024019</td>\n",
              "      <td>0.010806</td>\n",
              "      <td>0.005186</td>\n",
              "      <td>0.010601</td>\n",
              "      <td>0.004780</td>\n",
              "    </tr>\n",
              "    <tr>\n",
              "      <th>cholesterol</th>\n",
              "      <td>0.154394</td>\n",
              "      <td>-0.035821</td>\n",
              "      <td>-0.050226</td>\n",
              "      <td>0.141768</td>\n",
              "      <td>0.023778</td>\n",
              "      <td>0.024019</td>\n",
              "      <td>1.000000</td>\n",
              "      <td>0.451578</td>\n",
              "      <td>0.010354</td>\n",
              "      <td>0.035760</td>\n",
              "      <td>0.009911</td>\n",
              "    </tr>\n",
              "    <tr>\n",
              "      <th>gluc</th>\n",
              "      <td>0.098672</td>\n",
              "      <td>-0.020491</td>\n",
              "      <td>-0.018595</td>\n",
              "      <td>0.106857</td>\n",
              "      <td>0.011841</td>\n",
              "      <td>0.010806</td>\n",
              "      <td>0.451578</td>\n",
              "      <td>1.000000</td>\n",
              "      <td>-0.004756</td>\n",
              "      <td>0.011246</td>\n",
              "      <td>-0.006770</td>\n",
              "    </tr>\n",
              "    <tr>\n",
              "      <th>smoke</th>\n",
              "      <td>-0.047638</td>\n",
              "      <td>0.338135</td>\n",
              "      <td>0.187989</td>\n",
              "      <td>0.067780</td>\n",
              "      <td>-0.000922</td>\n",
              "      <td>0.005186</td>\n",
              "      <td>0.010354</td>\n",
              "      <td>-0.004756</td>\n",
              "      <td>1.000000</td>\n",
              "      <td>0.340094</td>\n",
              "      <td>0.025858</td>\n",
              "    </tr>\n",
              "    <tr>\n",
              "      <th>alco</th>\n",
              "      <td>-0.029730</td>\n",
              "      <td>0.170966</td>\n",
              "      <td>0.094419</td>\n",
              "      <td>0.067113</td>\n",
              "      <td>0.001408</td>\n",
              "      <td>0.010601</td>\n",
              "      <td>0.035760</td>\n",
              "      <td>0.011246</td>\n",
              "      <td>0.340094</td>\n",
              "      <td>1.000000</td>\n",
              "      <td>0.025476</td>\n",
              "    </tr>\n",
              "    <tr>\n",
              "      <th>active</th>\n",
              "      <td>-0.009931</td>\n",
              "      <td>0.005866</td>\n",
              "      <td>-0.006570</td>\n",
              "      <td>-0.016867</td>\n",
              "      <td>-0.000033</td>\n",
              "      <td>0.004780</td>\n",
              "      <td>0.009911</td>\n",
              "      <td>-0.006770</td>\n",
              "      <td>0.025858</td>\n",
              "      <td>0.025476</td>\n",
              "      <td>1.000000</td>\n",
              "    </tr>\n",
              "  </tbody>\n",
              "</table>\n",
              "</div>"
            ],
            "text/plain": [
              "                  age    gender    height  ...     smoke      alco    active\n",
              "age          1.000000 -0.022794 -0.081522  ... -0.047638 -0.029730 -0.009931\n",
              "gender      -0.022794  1.000000  0.499033  ...  0.338135  0.170966  0.005866\n",
              "height      -0.081522  0.499033  1.000000  ...  0.187989  0.094419 -0.006570\n",
              "weight       0.053654  0.155406  0.290968  ...  0.067780  0.067113 -0.016867\n",
              "ap_hi        0.020778  0.006005  0.005488  ... -0.000922  0.001408 -0.000033\n",
              "ap_lo        0.017630  0.015254  0.006150  ...  0.005186  0.010601  0.004780\n",
              "cholesterol  0.154394 -0.035821 -0.050226  ...  0.010354  0.035760  0.009911\n",
              "gluc         0.098672 -0.020491 -0.018595  ... -0.004756  0.011246 -0.006770\n",
              "smoke       -0.047638  0.338135  0.187989  ...  1.000000  0.340094  0.025858\n",
              "alco        -0.029730  0.170966  0.094419  ...  0.340094  1.000000  0.025476\n",
              "active      -0.009931  0.005866 -0.006570  ...  0.025858  0.025476  1.000000\n",
              "\n",
              "[11 rows x 11 columns]"
            ]
          },
          "metadata": {
            "tags": []
          },
          "execution_count": 88
        },
        {
          "output_type": "display_data",
          "data": {
            "image/png": "[encoded data removed]",
            "text/plain": [
              "<Figure size 720x504 with 2 Axes>"
            ]
          },
          "metadata": {
            "tags": []
          }
        }
      ]
    },
    {
      "cell_type": "markdown",
      "metadata": {
        "id": "tigfX4MKGVyk",
        "colab_type": "text"
      },
      "source": [
        "# Modeling\n"
      ]
    },
    {
      "cell_type": "markdown",
      "metadata": {
        "id": "kriRSIPnSadS",
        "colab_type": "text"
      },
      "source": [
        "### Feature Selection"
      ]
    },
    {
      "cell_type": "code",
      "metadata": {
        "id": "UJTTIld2Sf3s",
        "colab_type": "code",
        "outputId": "0ba3fe57-60dc-4f13-db69-f40d232c1b8b",
        "colab": {
          "base_uri": "https://localhost:8080/",
          "height": 195
        }
      },
      "source": [
        "X_new = SelectKBest(k=10).fit_transform(X_clean, y_clean)\n",
        "Kbest_X_clean = pd.DataFrame(X_new)\n",
        "Kbest_X_clean.head()"
      ],
      "execution_count": 89,
      "outputs": [
        {
          "output_type": "execute_result",
          "data": {
            "text/html": [
              "<div>\n",
              "<style scoped>\n",
              "    .dataframe tbody tr th:only-of-type {\n",
              "        vertical-align: middle;\n",
              "    }\n",
              "\n",
              "    .dataframe tbody tr th {\n",
              "        vertical-align: top;\n",
              "    }\n",
              "\n",
              "    .dataframe thead th {\n",
              "        text-align: right;\n",
              "    }\n",
              "</style>\n",
              "<table border=\"1\" class=\"dataframe\">\n",
              "  <thead>\n",
              "    <tr style=\"text-align: right;\">\n",
              "      <th></th>\n",
              "      <th>0</th>\n",
              "      <th>1</th>\n",
              "      <th>2</th>\n",
              "      <th>3</th>\n",
              "      <th>4</th>\n",
              "      <th>5</th>\n",
              "      <th>6</th>\n",
              "      <th>7</th>\n",
              "      <th>8</th>\n",
              "      <th>9</th>\n",
              "    </tr>\n",
              "  </thead>\n",
              "  <tbody>\n",
              "    <tr>\n",
              "      <th>0</th>\n",
              "      <td>50.4</td>\n",
              "      <td>2.0</td>\n",
              "      <td>168.0</td>\n",
              "      <td>62.0</td>\n",
              "      <td>110.0</td>\n",
              "      <td>80.0</td>\n",
              "      <td>1.0</td>\n",
              "      <td>1.0</td>\n",
              "      <td>0.0</td>\n",
              "      <td>1.0</td>\n",
              "    </tr>\n",
              "    <tr>\n",
              "      <th>1</th>\n",
              "      <td>55.4</td>\n",
              "      <td>1.0</td>\n",
              "      <td>156.0</td>\n",
              "      <td>85.0</td>\n",
              "      <td>140.0</td>\n",
              "      <td>90.0</td>\n",
              "      <td>3.0</td>\n",
              "      <td>1.0</td>\n",
              "      <td>0.0</td>\n",
              "      <td>1.0</td>\n",
              "    </tr>\n",
              "    <tr>\n",
              "      <th>2</th>\n",
              "      <td>51.7</td>\n",
              "      <td>1.0</td>\n",
              "      <td>165.0</td>\n",
              "      <td>64.0</td>\n",
              "      <td>130.0</td>\n",
              "      <td>70.0</td>\n",
              "      <td>3.0</td>\n",
              "      <td>1.0</td>\n",
              "      <td>0.0</td>\n",
              "      <td>0.0</td>\n",
              "    </tr>\n",
              "    <tr>\n",
              "      <th>3</th>\n",
              "      <td>48.3</td>\n",
              "      <td>2.0</td>\n",
              "      <td>169.0</td>\n",
              "      <td>82.0</td>\n",
              "      <td>150.0</td>\n",
              "      <td>100.0</td>\n",
              "      <td>1.0</td>\n",
              "      <td>1.0</td>\n",
              "      <td>0.0</td>\n",
              "      <td>1.0</td>\n",
              "    </tr>\n",
              "    <tr>\n",
              "      <th>4</th>\n",
              "      <td>47.9</td>\n",
              "      <td>1.0</td>\n",
              "      <td>156.0</td>\n",
              "      <td>56.0</td>\n",
              "      <td>100.0</td>\n",
              "      <td>60.0</td>\n",
              "      <td>1.0</td>\n",
              "      <td>1.0</td>\n",
              "      <td>0.0</td>\n",
              "      <td>0.0</td>\n",
              "    </tr>\n",
              "  </tbody>\n",
              "</table>\n",
              "</div>"
            ],
            "text/plain": [
              "      0    1      2     3      4      5    6    7    8    9\n",
              "0  50.4  2.0  168.0  62.0  110.0   80.0  1.0  1.0  0.0  1.0\n",
              "1  55.4  1.0  156.0  85.0  140.0   90.0  3.0  1.0  0.0  1.0\n",
              "2  51.7  1.0  165.0  64.0  130.0   70.0  3.0  1.0  0.0  0.0\n",
              "3  48.3  2.0  169.0  82.0  150.0  100.0  1.0  1.0  0.0  1.0\n",
              "4  47.9  1.0  156.0  56.0  100.0   60.0  1.0  1.0  0.0  0.0"
            ]
          },
          "metadata": {
            "tags": []
          },
          "execution_count": 89
        }
      ]
    },
    {
      "cell_type": "code",
      "metadata": {
        "id": "8-llQL-XysZc",
        "colab_type": "code",
        "outputId": "5d593eda-9b9f-4424-8113-f09017e40b54",
        "colab": {
          "base_uri": "https://localhost:8080/",
          "height": 195
        }
      },
      "source": [
        "X_new = SelectKBest(k=10).fit_transform(X_full, y_full)\n",
        "Kbest_X_full = pd.DataFrame(X_new)\n",
        "Kbest_X_full.head()"
      ],
      "execution_count": 90,
      "outputs": [
        {
          "output_type": "execute_result",
          "data": {
            "text/html": [
              "<div>\n",
              "<style scoped>\n",
              "    .dataframe tbody tr th:only-of-type {\n",
              "        vertical-align: middle;\n",
              "    }\n",
              "\n",
              "    .dataframe tbody tr th {\n",
              "        vertical-align: top;\n",
              "    }\n",
              "\n",
              "    .dataframe thead th {\n",
              "        text-align: right;\n",
              "    }\n",
              "</style>\n",
              "<table border=\"1\" class=\"dataframe\">\n",
              "  <thead>\n",
              "    <tr style=\"text-align: right;\">\n",
              "      <th></th>\n",
              "      <th>0</th>\n",
              "      <th>1</th>\n",
              "      <th>2</th>\n",
              "      <th>3</th>\n",
              "      <th>4</th>\n",
              "      <th>5</th>\n",
              "      <th>6</th>\n",
              "      <th>7</th>\n",
              "      <th>8</th>\n",
              "      <th>9</th>\n",
              "    </tr>\n",
              "  </thead>\n",
              "  <tbody>\n",
              "    <tr>\n",
              "      <th>0</th>\n",
              "      <td>50.4</td>\n",
              "      <td>2.0</td>\n",
              "      <td>168.0</td>\n",
              "      <td>62.0</td>\n",
              "      <td>110.0</td>\n",
              "      <td>80.0</td>\n",
              "      <td>1.0</td>\n",
              "      <td>1.0</td>\n",
              "      <td>0.0</td>\n",
              "      <td>1.0</td>\n",
              "    </tr>\n",
              "    <tr>\n",
              "      <th>1</th>\n",
              "      <td>55.4</td>\n",
              "      <td>1.0</td>\n",
              "      <td>156.0</td>\n",
              "      <td>85.0</td>\n",
              "      <td>140.0</td>\n",
              "      <td>90.0</td>\n",
              "      <td>3.0</td>\n",
              "      <td>1.0</td>\n",
              "      <td>0.0</td>\n",
              "      <td>1.0</td>\n",
              "    </tr>\n",
              "    <tr>\n",
              "      <th>2</th>\n",
              "      <td>51.7</td>\n",
              "      <td>1.0</td>\n",
              "      <td>165.0</td>\n",
              "      <td>64.0</td>\n",
              "      <td>130.0</td>\n",
              "      <td>70.0</td>\n",
              "      <td>3.0</td>\n",
              "      <td>1.0</td>\n",
              "      <td>0.0</td>\n",
              "      <td>0.0</td>\n",
              "    </tr>\n",
              "    <tr>\n",
              "      <th>3</th>\n",
              "      <td>48.3</td>\n",
              "      <td>2.0</td>\n",
              "      <td>169.0</td>\n",
              "      <td>82.0</td>\n",
              "      <td>150.0</td>\n",
              "      <td>100.0</td>\n",
              "      <td>1.0</td>\n",
              "      <td>1.0</td>\n",
              "      <td>0.0</td>\n",
              "      <td>1.0</td>\n",
              "    </tr>\n",
              "    <tr>\n",
              "      <th>4</th>\n",
              "      <td>47.9</td>\n",
              "      <td>1.0</td>\n",
              "      <td>156.0</td>\n",
              "      <td>56.0</td>\n",
              "      <td>100.0</td>\n",
              "      <td>60.0</td>\n",
              "      <td>1.0</td>\n",
              "      <td>1.0</td>\n",
              "      <td>0.0</td>\n",
              "      <td>0.0</td>\n",
              "    </tr>\n",
              "  </tbody>\n",
              "</table>\n",
              "</div>"
            ],
            "text/plain": [
              "      0    1      2     3      4      5    6    7    8    9\n",
              "0  50.4  2.0  168.0  62.0  110.0   80.0  1.0  1.0  0.0  1.0\n",
              "1  55.4  1.0  156.0  85.0  140.0   90.0  3.0  1.0  0.0  1.0\n",
              "2  51.7  1.0  165.0  64.0  130.0   70.0  3.0  1.0  0.0  0.0\n",
              "3  48.3  2.0  169.0  82.0  150.0  100.0  1.0  1.0  0.0  1.0\n",
              "4  47.9  1.0  156.0  56.0  100.0   60.0  1.0  1.0  0.0  0.0"
            ]
          },
          "metadata": {
            "tags": []
          },
          "execution_count": 90
        }
      ]
    },
    {
      "cell_type": "code",
      "metadata": {
        "id": "e7SW0dX3Tvd_",
        "colab_type": "code",
        "outputId": "11f0a2fb-fb62-44a3-babf-ed0e95592cec",
        "colab": {
          "base_uri": "https://localhost:8080/",
          "height": 67
        }
      },
      "source": [
        "pca = PCA(n_components=10)\n",
        "x_pca_clean = pca.fit_transform(X_clean)\n",
        "pca.explained_variance_ratio_"
      ],
      "execution_count": 91,
      "outputs": [
        {
          "output_type": "execute_result",
          "data": {
            "text/plain": [
              "array([5.49094299e-01, 2.51837359e-01, 7.85178649e-02, 6.26661939e-02,\n",
              "       5.60708514e-02, 8.20622435e-04, 3.10950572e-04, 2.69778296e-04,\n",
              "       2.38904936e-04, 1.14063938e-04])"
            ]
          },
          "metadata": {
            "tags": []
          },
          "execution_count": 91
        }
      ]
    },
    {
      "cell_type": "code",
      "metadata": {
        "id": "lfnpSfm4zAWJ",
        "colab_type": "code",
        "outputId": "0702dbef-3043-4d3d-b6f6-9ba594277802",
        "colab": {
          "base_uri": "https://localhost:8080/",
          "height": 67
        }
      },
      "source": [
        "pca = PCA(n_components=10)\n",
        "x_pca_full = pca.fit_transform(X_full)\n",
        "pca.explained_variance_ratio_"
      ],
      "execution_count": 92,
      "outputs": [
        {
          "output_type": "execute_result",
          "data": {
            "text/plain": [
              "array([5.96691559e-01, 3.97918914e-01, 3.60578851e-03, 1.03112102e-03,\n",
              "       7.32200056e-04, 9.30147470e-06, 3.47144302e-06, 3.08753600e-06,\n",
              "       2.64054962e-06, 1.25999276e-06])"
            ]
          },
          "metadata": {
            "tags": []
          },
          "execution_count": 92
        }
      ]
    },
    {
      "cell_type": "code",
      "metadata": {
        "id": "jKGPk5pJemsj",
        "colab_type": "code",
        "colab": {}
      },
      "source": [
        "def model_analysis(model, X, y):\n",
        "  X_train, X_test, y_train, y_test = train_test_split(X, y, test_size=.3)\n",
        "  model.fit(X_train, y_train)\n",
        "  \n",
        "  y_pred = model.predict(X_test)\n",
        "  print(metrics.confusion_matrix(y_test, y_pred))\n",
        "  \n",
        "  r_squared = model.score(X_test, y_test)\n",
        "  accuracy = metrics.f1_score(y_test, y_pred)\n",
        "  \n",
        "  print('r-squared:', r_squared)\n",
        "  print('f1:', accuracy)\n",
        "  \n",
        "  return [r_squared, accuracy]"
      ],
      "execution_count": 0,
      "outputs": []
    },
    {
      "cell_type": "markdown",
      "metadata": {
        "id": "4L34qJUwGq9i",
        "colab_type": "text"
      },
      "source": [
        "### Naive Bayes"
      ]
    },
    {
      "cell_type": "code",
      "metadata": {
        "id": "FZnI4jihC1sE",
        "colab_type": "code",
        "colab": {
          "base_uri": "https://localhost:8080/",
          "height": 319
        },
        "outputId": "726c2433-8829-4420-ea3a-9a2b6717d224"
      },
      "source": [
        "bnb = BernoulliNB()\n",
        "\n",
        "print('Cleaned data')\n",
        "print('All features')\n",
        "clean_bnb_all = model_analysis(bnb, X_clean, y_clean)\n",
        "print()\n",
        "print('PCA')\n",
        "clean_bnb_pca = model_analysis(bnb, x_pca_clean, y_clean)\n",
        "print()\n",
        "print('K_best')\n",
        "clean_bnb_kbest = model_analysis(bnb, Kbest_X_clean, y_clean)"
      ],
      "execution_count": 119,
      "outputs": [
        {
          "output_type": "stream",
          "text": [
            "Cleaned data\n",
            "All features\n",
            "[[8437 1865]\n",
            " [7901 2151]]\n",
            "r-squared: 0.5201925911368773\n",
            "f1: 0.305800398066534\n",
            "\n",
            "PCA\n",
            "[[7830 2493]\n",
            " [3375 6656]]\n",
            "r-squared: 0.7117028593888179\n",
            "f1: 0.6940563086548488\n",
            "\n",
            "K_best\n",
            "[[8425 1830]\n",
            " [7942 2157]]\n",
            "r-squared: 0.5198978087845141\n",
            "f1: 0.3062615362771546\n"
          ],
          "name": "stdout"
        }
      ]
    },
    {
      "cell_type": "code",
      "metadata": {
        "id": "w9hDuo3WDOof",
        "colab_type": "code",
        "colab": {
          "base_uri": "https://localhost:8080/",
          "height": 319
        },
        "outputId": "a6cea5ab-d040-4784-cad8-7d92621efcb9"
      },
      "source": [
        "bnb = BernoulliNB()\n",
        "\n",
        "print('Full data')\n",
        "print('All features')\n",
        "full_bnb_all = logreg_scores = model_analysis(bnb, X_full, y_full)\n",
        "print()\n",
        "print('PCA')\n",
        "full_bnb_pca = model_analysis(bnb, x_pca_full, y_full)\n",
        "print()\n",
        "print('K_best')\n",
        "full_bnb_kbest = model_analysis(bnb, Kbest_X_full, y_full)"
      ],
      "execution_count": 120,
      "outputs": [
        {
          "output_type": "stream",
          "text": [
            "Full data\n",
            "All features\n",
            "[[8658 1882]\n",
            " [8274 2186]]\n",
            "r-squared: 0.5163809523809524\n",
            "f1: 0.3009361233480176\n",
            "\n",
            "PCA\n",
            "[[8068 2380]\n",
            " [3481 7071]]\n",
            "r-squared: 0.7209047619047619\n",
            "f1: 0.7069939509073639\n",
            "\n",
            "K_best\n",
            "[[8550 1920]\n",
            " [8298 2232]]\n",
            "r-squared: 0.5134285714285715\n",
            "f1: 0.30404577033101754\n"
          ],
          "name": "stdout"
        }
      ]
    },
    {
      "cell_type": "markdown",
      "metadata": {
        "id": "Ty99I3AvHN4Z",
        "colab_type": "text"
      },
      "source": [
        "### Logistic Regression"
      ]
    },
    {
      "cell_type": "markdown",
      "metadata": {
        "id": "9TNkyTHiwixZ",
        "colab_type": "text"
      },
      "source": [
        "first model without removing any observations "
      ]
    },
    {
      "cell_type": "code",
      "metadata": {
        "id": "9FgjMtByHRU-",
        "colab_type": "code",
        "outputId": "4f0df491-a507-4447-a7c1-e689e80b49d1",
        "colab": {
          "base_uri": "https://localhost:8080/",
          "height": 319
        }
      },
      "source": [
        "logreg = LogisticRegression()\n",
        "\n",
        "print('Cleaned data')\n",
        "print('All features')\n",
        "clean_log_all = model_analysis(logreg, X_clean, y_clean)\n",
        "print()\n",
        "print('PCA')\n",
        "clean_log_pca = model_analysis(logreg, x_pca_clean, y_clean)\n",
        "print()\n",
        "print('K_best')\n",
        "clean_log_kbest = model_analysis(logreg, Kbest_X_clean, y_clean)"
      ],
      "execution_count": 94,
      "outputs": [
        {
          "output_type": "stream",
          "text": [
            "Cleaned data\n",
            "All features\n",
            "[[8088 2216]\n",
            " [3402 6648]]\n",
            "r-squared: 0.72398545740395\n",
            "f1: 0.7029713439780058\n",
            "\n",
            "PCA\n",
            "[[8165 2164]\n",
            " [3350 6675]]\n",
            "r-squared: 0.7290950181782451\n",
            "f1: 0.7076972010178119\n",
            "\n",
            "K_best\n",
            "[[8126 2222]\n",
            " [3305 6701]]\n",
            "r-squared: 0.7284563230814581\n",
            "f1: 0.7080141581700037\n"
          ],
          "name": "stdout"
        }
      ]
    },
    {
      "cell_type": "code",
      "metadata": {
        "id": "w6smRL_dXk9k",
        "colab_type": "code",
        "outputId": "e1338286-bcf0-4096-98ce-4f402e30d761",
        "colab": {
          "base_uri": "https://localhost:8080/",
          "height": 319
        }
      },
      "source": [
        "logreg = LogisticRegression()\n",
        "\n",
        "print('Full data')\n",
        "print('All features')\n",
        "full_log_all = logreg_scores = model_analysis(logreg, X_full, y_full)\n",
        "print()\n",
        "print('PCA')\n",
        "full_log_pca = model_analysis(logreg, x_pca_full, y_full)\n",
        "print()\n",
        "print('K_best')\n",
        "full_log_kbest = model_analysis(logreg, Kbest_X_full, y_full)"
      ],
      "execution_count": 95,
      "outputs": [
        {
          "output_type": "stream",
          "text": [
            "Full data\n",
            "All features\n",
            "[[8006 2555]\n",
            " [3291 7148]]\n",
            "r-squared: 0.7216190476190476\n",
            "f1: 0.7097606990368386\n",
            "\n",
            "PCA\n",
            "[[8122 2452]\n",
            " [3391 7035]]\n",
            "r-squared: 0.7217619047619047\n",
            "f1: 0.706573595138854\n",
            "\n",
            "K_best\n",
            "[[8013 2461]\n",
            " [3328 7198]]\n",
            "r-squared: 0.7243333333333334\n",
            "f1: 0.7132028734208571\n"
          ],
          "name": "stdout"
        }
      ]
    },
    {
      "cell_type": "markdown",
      "metadata": {
        "id": "cgyXVK7gIQOP",
        "colab_type": "text"
      },
      "source": [
        "### Random Forest"
      ]
    },
    {
      "cell_type": "code",
      "metadata": {
        "id": "AiwCST6aHxyf",
        "colab_type": "code",
        "outputId": "94394371-553a-43b8-ca3e-5d5cce6d91df",
        "colab": {
          "base_uri": "https://localhost:8080/",
          "height": 319
        }
      },
      "source": [
        "# random forest\n",
        "rfc = ensemble.RandomForestClassifier()\n",
        "\n",
        "print('Cleaned Data')\n",
        "print('All features')\n",
        "clean_rfc_all = model_analysis(rfc, X_clean, y_clean)\n",
        "print()\n",
        "print('PCA')\n",
        "clean_rfc_pca = model_analysis(rfc, x_pca_clean, y_clean)\n",
        "print()\n",
        "print('K_best')\n",
        "clean_rfc_kbest = model_analysis(rfc, Kbest_X_clean, y_clean)"
      ],
      "execution_count": 96,
      "outputs": [
        {
          "output_type": "stream",
          "text": [
            "Cleaned Data\n",
            "All features\n",
            "[[7725 2681]\n",
            " [3462 6486]]\n",
            "r-squared: 0.6981920015721725\n",
            "f1: 0.6786293486790479\n",
            "\n",
            "PCA\n",
            "[[7588 2727]\n",
            " [3555 6484]]\n",
            "r-squared: 0.691362877075759\n",
            "f1: 0.6736623376623377\n",
            "\n",
            "K_best\n",
            "[[7712 2567]\n",
            " [3572 6503]]\n",
            "r-squared: 0.6983885231404147\n",
            "f1: 0.6793418647166362\n"
          ],
          "name": "stdout"
        }
      ]
    },
    {
      "cell_type": "code",
      "metadata": {
        "id": "lh1gykAkX8Iv",
        "colab_type": "code",
        "outputId": "eb8c8279-3efe-4f7e-d8ef-6a620024cfe0",
        "colab": {
          "base_uri": "https://localhost:8080/",
          "height": 319
        }
      },
      "source": [
        "# random forest\n",
        "rfc = ensemble.RandomForestClassifier()\n",
        "\n",
        "print('Full data')\n",
        "print('All features')\n",
        "full_rfc_all = rfc_scores = model_analysis(rfc, X_full, y_full)\n",
        "print()\n",
        "print('PCA')\n",
        "full_rfc_pca = model_analysis(rfc, x_pca_full, y_full)\n",
        "print()\n",
        "print('K_best')\n",
        "full_rfc_kbest = model_analysis(rfc, Kbest_X_full, y_full)"
      ],
      "execution_count": 97,
      "outputs": [
        {
          "output_type": "stream",
          "text": [
            "Full data\n",
            "All features\n",
            "[[7771 2708]\n",
            " [3642 6879]]\n",
            "r-squared: 0.6976190476190476\n",
            "f1: 0.684205291426298\n",
            "\n",
            "PCA\n",
            "[[7854 2724]\n",
            " [3598 6824]]\n",
            "r-squared: 0.698952380952381\n",
            "f1: 0.6834251377065598\n",
            "\n",
            "K_best\n",
            "[[7703 2776]\n",
            " [3617 6904]]\n",
            "r-squared: 0.6955714285714286\n",
            "f1: 0.6835305182911737\n"
          ],
          "name": "stdout"
        }
      ]
    },
    {
      "cell_type": "markdown",
      "metadata": {
        "id": "aZjJWSTbIVSV",
        "colab_type": "text"
      },
      "source": [
        "### K Nearest Neighbors"
      ]
    },
    {
      "cell_type": "code",
      "metadata": {
        "id": "MBcoMsLNIakT",
        "colab_type": "code",
        "outputId": "916ab0b7-1722-4b1d-9e00-c5be0aab232f",
        "colab": {
          "base_uri": "https://localhost:8080/",
          "height": 319
        }
      },
      "source": [
        "knn = KNeighborsClassifier(n_neighbors=5, weights='distance')\n",
        "\n",
        "# Normalize data for Euclidean geometry\n",
        "\n",
        "print('Cleaned data')\n",
        "print('All features')\n",
        "clean_knn_all = model_analysis(knn, normalize(X_clean), y_clean)\n",
        "print()\n",
        "print('PCA')\n",
        "clean_knn_pca = model_analysis(knn, normalize(x_pca_clean), y_clean)\n",
        "print()\n",
        "print('K_best')\n",
        "clean_knn_kbest = model_analysis(knn, normalize(Kbest_X_clean), y_clean)"
      ],
      "execution_count": 98,
      "outputs": [
        {
          "output_type": "stream",
          "text": [
            "Cleaned data\n",
            "All features\n",
            "[[7302 3048]\n",
            " [3467 6537]]\n",
            "r-squared: 0.6799154957256559\n",
            "f1: 0.667415386186125\n",
            "\n",
            "PCA\n",
            "[[7227 3042]\n",
            " [3380 6705]]\n",
            "r-squared: 0.684484622187285\n",
            "f1: 0.6761799112545381\n",
            "\n",
            "K_best\n",
            "[[7266 3059]\n",
            " [3424 6605]]\n",
            "r-squared: 0.6814876682715928\n",
            "f1: 0.6707967298024679\n"
          ],
          "name": "stdout"
        }
      ]
    },
    {
      "cell_type": "code",
      "metadata": {
        "id": "RKVj-NE4YBmW",
        "colab_type": "code",
        "outputId": "5a94e4cd-4ffe-4b16-f8ea-b106c432e94b",
        "colab": {
          "base_uri": "https://localhost:8080/",
          "height": 319
        }
      },
      "source": [
        "knn = KNeighborsClassifier(n_neighbors=5, weights='distance')\n",
        "\n",
        "# Normalize data for Euclidean geometry\n",
        "\n",
        "print('Full Data')\n",
        "print('All features')\n",
        "full_knn_all = model_analysis(knn, normalize(X_full), y_full)\n",
        "print()\n",
        "print('PCA')\n",
        "full_knn_pca = model_analysis(knn, normalize(x_pca_full), y_full)\n",
        "print()\n",
        "print('K_best')\n",
        "full_knn_kbest = model_analysis(knn, normalize(Kbest_X_full), y_full)"
      ],
      "execution_count": 99,
      "outputs": [
        {
          "output_type": "stream",
          "text": [
            "Full Data\n",
            "All features\n",
            "[[7355 3180]\n",
            " [3428 7037]]\n",
            "r-squared: 0.6853333333333333\n",
            "f1: 0.680495116526448\n",
            "\n",
            "PCA\n",
            "[[7405 3087]\n",
            " [3521 6987]]\n",
            "r-squared: 0.6853333333333333\n",
            "f1: 0.6789427655232727\n",
            "\n",
            "K_best\n",
            "[[7295 3230]\n",
            " [3454 7021]]\n",
            "r-squared: 0.6817142857142857\n",
            "f1: 0.6775065135578501\n"
          ],
          "name": "stdout"
        }
      ]
    },
    {
      "cell_type": "markdown",
      "metadata": {
        "id": "8fOznLzlIbyI",
        "colab_type": "text"
      },
      "source": [
        "### Gradient Boosting Classifier"
      ]
    },
    {
      "cell_type": "code",
      "metadata": {
        "id": "ygpcnK7_IibO",
        "colab_type": "code",
        "outputId": "528221f0-cb6f-4dff-d388-89be262124dc",
        "colab": {
          "base_uri": "https://localhost:8080/",
          "height": 319
        }
      },
      "source": [
        "params = {'n_estimators': 500,\n",
        "          'max_depth': 2,\n",
        "          'loss': 'deviance'}\n",
        "\n",
        "# Initialize and fit the model.\n",
        "gbc = ensemble.GradientBoostingClassifier(**params)\n",
        "\n",
        "print('Cleaned data')\n",
        "print('All features')\n",
        "clean_gbc_all = model_analysis(gbc, X_clean, y_clean)\n",
        "print()\n",
        "print('PCA')\n",
        "clean_gbc_pca = model_analysis(gbc, x_pca_clean, y_clean)\n",
        "print()\n",
        "print('K_best')\n",
        "clean_gbc_kbest = model_analysis(gbc, Kbest_X_clean, y_clean)"
      ],
      "execution_count": 100,
      "outputs": [
        {
          "output_type": "stream",
          "text": [
            "Cleaned data\n",
            "All features\n",
            "[[7940 2371]\n",
            " [3057 6986]]\n",
            "r-squared: 0.7333202318954505\n",
            "f1: 0.7202061855670103\n",
            "\n",
            "PCA\n",
            "[[7913 2291]\n",
            " [3150 7000]]\n",
            "r-squared: 0.7326815367986637\n",
            "f1: 0.7201275654544519\n",
            "\n",
            "K_best\n",
            "[[8012 2324]\n",
            " [3007 7011]]\n",
            "r-squared: 0.7380858799253218\n",
            "f1: 0.7245388311889629\n"
          ],
          "name": "stdout"
        }
      ]
    },
    {
      "cell_type": "code",
      "metadata": {
        "id": "UnGQg2_j0cea",
        "colab_type": "code",
        "outputId": "0b0fc8c9-8b84-4a6b-e144-d88670ca0352",
        "colab": {
          "base_uri": "https://localhost:8080/",
          "height": 458
        }
      },
      "source": [
        "feature_importance = gbc.feature_importances_\n",
        "\n",
        "# Make importances relative to max importance.\n",
        "feature_importance = 100.0 * (feature_importance / feature_importance.max())\n",
        "sorted_idx = np.argsort(feature_importance)\n",
        "pos = np.arange(sorted_idx.shape[0]) + .5\n",
        "plt.subplot(1, 2, 2)\n",
        "plt.barh(pos, feature_importance[sorted_idx], align='center')\n",
        "plt.yticks(pos, X_clean.columns[sorted_idx])\n",
        "plt.xlabel('Relative Importance')\n",
        "plt.title('Variable Importance')\n",
        "plt.show()"
      ],
      "execution_count": 102,
      "outputs": [
        {
          "output_type": "display_data",
          "data": {
            "image/png": "[encoded data removed]",
            "text/plain": [
              "<Figure size 720x504 with 1 Axes>"
            ]
          },
          "metadata": {
            "tags": []
          }
        }
      ]
    },
    {
      "cell_type": "code",
      "metadata": {
        "id": "D7zVW8qFYFfv",
        "colab_type": "code",
        "outputId": "8254893e-2283-4bd1-b6c9-69e9eb5c992e",
        "colab": {
          "base_uri": "https://localhost:8080/",
          "height": 319
        }
      },
      "source": [
        "params = {'n_estimators': 500,\n",
        "          'max_depth': 2,\n",
        "          'loss': 'deviance'}\n",
        "\n",
        "# Initialize and fit the model.\n",
        "gbc = ensemble.GradientBoostingClassifier(**params)\n",
        "\n",
        "print('Full Data')\n",
        "print('All features')\n",
        "full_gbc_all = model_analysis(gbc, X_full, y_full)\n",
        "print()\n",
        "print('PCA')\n",
        "full_gbc_pca = model_analysis(gbc, x_pca_full, y_full)\n",
        "print()\n",
        "print('K_best')\n",
        "full_gbc_kbest = model_analysis(gbc, Kbest_X_full, y_full)"
      ],
      "execution_count": 103,
      "outputs": [
        {
          "output_type": "stream",
          "text": [
            "Full Data\n",
            "All features\n",
            "[[8124 2451]\n",
            " [3074 7351]]\n",
            "r-squared: 0.736904761904762\n",
            "f1: 0.7268502496662876\n",
            "\n",
            "PCA\n",
            "[[8166 2369]\n",
            " [3224 7241]]\n",
            "r-squared: 0.7336666666666667\n",
            "f1: 0.7213947696139477\n",
            "\n",
            "K_best\n",
            "[[7957 2432]\n",
            " [3146 7465]]\n",
            "r-squared: 0.7343809523809524\n",
            "f1: 0.7280085820167739\n"
          ],
          "name": "stdout"
        }
      ]
    },
    {
      "cell_type": "code",
      "metadata": {
        "id": "n6lmRzInUHLq",
        "colab_type": "code",
        "outputId": "f24bba57-22fb-49da-f787-4dd3ea809db8",
        "colab": {
          "base_uri": "https://localhost:8080/",
          "height": 458
        }
      },
      "source": [
        "feature_importance = gbc.feature_importances_\n",
        "\n",
        "# Make importances relative to max importance.\n",
        "feature_importance = 100.0 * (feature_importance / feature_importance.max())\n",
        "sorted_idx = np.argsort(feature_importance)\n",
        "pos = np.arange(sorted_idx.shape[0]) + .5\n",
        "plt.subplot(1, 2, 2)\n",
        "plt.barh(pos, feature_importance[sorted_idx], align='center')\n",
        "plt.yticks(pos, X_full.columns[sorted_idx])\n",
        "plt.xlabel('Relative Importance')\n",
        "plt.title('Variable Importance')\n",
        "plt.show()"
      ],
      "execution_count": 104,
      "outputs": [
        {
          "output_type": "display_data",
          "data": {
            "image/png": "[encoded data removed]",
            "text/plain": [
              "<Figure size 720x504 with 1 Axes>"
            ]
          },
          "metadata": {
            "tags": []
          }
        }
      ]
    },
    {
      "cell_type": "markdown",
      "metadata": {
        "id": "m_mnJ2r1GjbU",
        "colab_type": "text"
      },
      "source": [
        "### SVC"
      ]
    },
    {
      "cell_type": "code",
      "metadata": {
        "id": "BuZwSEopDgJt",
        "colab_type": "code",
        "colab": {
          "base_uri": "https://localhost:8080/",
          "height": 319
        },
        "outputId": "e469b30f-8c67-446e-9161-fab9875d0b08"
      },
      "source": [
        "svc = SVC()\n",
        "\n",
        "# Normalize data for Euclidean geometry\n",
        "\n",
        "print('Cleaned data')\n",
        "print('All features')\n",
        "clean_svc_all = model_analysis(svc, normalize(X_clean), y_clean)\n",
        "print()\n",
        "print('PCA')\n",
        "clean_svc_pca = model_analysis(svc, normalize(x_pca_clean), y_clean)\n",
        "print()\n",
        "print('K_best')\n",
        "clean_svc_kbest = model_analysis(svc, normalize(Kbest_X_clean), y_clean)"
      ],
      "execution_count": 121,
      "outputs": [
        {
          "output_type": "stream",
          "text": [
            "Cleaned data\n",
            "All features\n",
            "[[8181 2058]\n",
            " [3980 6135]]\n",
            "r-squared: 0.703350692738528\n",
            "f1: 0.670198820187896\n",
            "\n",
            "PCA\n",
            "[[8298 2067]\n",
            " [3506 6483]]\n",
            "r-squared: 0.7261963250466739\n",
            "f1: 0.6993904741356061\n",
            "\n",
            "K_best\n",
            "[[8211 2114]\n",
            " [3829 6200]]\n",
            "r-squared: 0.7080180799842782\n",
            "f1: 0.676007196205637\n"
          ],
          "name": "stdout"
        }
      ]
    },
    {
      "cell_type": "code",
      "metadata": {
        "id": "xl6miRO6_0Ud",
        "colab_type": "code",
        "colab": {
          "base_uri": "https://localhost:8080/",
          "height": 319
        },
        "outputId": "3bd29f4c-c972-46c0-cb57-dc083935ede1"
      },
      "source": [
        "svc = SVC()\n",
        "\n",
        "# Normalize data for Euclidean geometry\n",
        "\n",
        "print('Full Data')\n",
        "print('All features')\n",
        "full_svc_all = model_analysis(svc, normalize(X_full), y_full)\n",
        "print()\n",
        "print('PCA')\n",
        "full_svc_pca = model_analysis(svc, normalize(x_pca_full), y_full)\n",
        "print()\n",
        "print('K_best')\n",
        "full_svc_kbest = model_analysis(svc, normalize(Kbest_X_full), y_full)"
      ],
      "execution_count": 117,
      "outputs": [
        {
          "output_type": "stream",
          "text": [
            "Full Data\n",
            "All features\n",
            "[[8289 2196]\n",
            " [4074 6441]]\n",
            "r-squared: 0.7014285714285714\n",
            "f1: 0.6726190476190476\n",
            "\n",
            "PCA\n",
            "[[8566 1917]\n",
            " [3834 6683]]\n",
            "r-squared: 0.7261428571428571\n",
            "f1: 0.6991682795417691\n",
            "\n",
            "K_best\n",
            "[[8259 2256]\n",
            " [4018 6467]]\n",
            "r-squared: 0.7012380952380952\n",
            "f1: 0.6733652644731363\n"
          ],
          "name": "stdout"
        }
      ]
    },
    {
      "cell_type": "code",
      "metadata": {
        "id": "rdqCz_hJ3RJt",
        "colab_type": "code",
        "outputId": "bf9531af-a30e-4391-a6ea-abe3e4dd4b58",
        "colab": {
          "base_uri": "https://localhost:8080/",
          "height": 140
        }
      },
      "source": [
        "results_clean = pd.DataFrame(index=['r-squared', 'f1'])\n",
        "\n",
        "results_clean['clean log all'] = clean_log_all\n",
        "results_clean['clean log pca'] = clean_log_pca\n",
        "results_clean['clean log kbest'] = clean_log_kbest\n",
        "results_clean['clean rfc all'] = clean_rfc_all\n",
        "results_clean['clean rfc pca'] = clean_rfc_pca\n",
        "results_clean['clean rfc kbest'] = clean_rfc_kbest\n",
        "results_clean['clean knn all'] = clean_knn_all\n",
        "results_clean['clean knn pca'] = clean_knn_pca\n",
        "results_clean['clean knn kbest'] = clean_knn_kbest\n",
        "results_clean['clean gbc all'] = clean_gbc_all\n",
        "results_clean['clean gbc pca'] = clean_gbc_pca\n",
        "results_clean['clean gbc kbest'] = clean_gbc_kbest\n",
        "\n",
        "results_clean.head()\n"
      ],
      "execution_count": 105,
      "outputs": [
        {
          "output_type": "execute_result",
          "data": {
            "text/html": [
              "<div>\n",
              "<style scoped>\n",
              "    .dataframe tbody tr th:only-of-type {\n",
              "        vertical-align: middle;\n",
              "    }\n",
              "\n",
              "    .dataframe tbody tr th {\n",
              "        vertical-align: top;\n",
              "    }\n",
              "\n",
              "    .dataframe thead th {\n",
              "        text-align: right;\n",
              "    }\n",
              "</style>\n",
              "<table border=\"1\" class=\"dataframe\">\n",
              "  <thead>\n",
              "    <tr style=\"text-align: right;\">\n",
              "      <th></th>\n",
              "      <th>clean log all</th>\n",
              "      <th>clean log pca</th>\n",
              "      <th>clean log kbest</th>\n",
              "      <th>clean rfc all</th>\n",
              "      <th>clean rfc pca</th>\n",
              "      <th>clean rfc kbest</th>\n",
              "      <th>clean knn all</th>\n",
              "      <th>clean knn pca</th>\n",
              "      <th>clean knn kbest</th>\n",
              "      <th>clean gbc all</th>\n",
              "      <th>clean gbc pca</th>\n",
              "      <th>clean gbc kbest</th>\n",
              "    </tr>\n",
              "  </thead>\n",
              "  <tbody>\n",
              "    <tr>\n",
              "      <th>r-squared</th>\n",
              "      <td>0.723985</td>\n",
              "      <td>0.729095</td>\n",
              "      <td>0.728456</td>\n",
              "      <td>0.698192</td>\n",
              "      <td>0.691363</td>\n",
              "      <td>0.698389</td>\n",
              "      <td>0.679915</td>\n",
              "      <td>0.684485</td>\n",
              "      <td>0.681488</td>\n",
              "      <td>0.733320</td>\n",
              "      <td>0.732682</td>\n",
              "      <td>0.738086</td>\n",
              "    </tr>\n",
              "    <tr>\n",
              "      <th>f1</th>\n",
              "      <td>0.702971</td>\n",
              "      <td>0.707697</td>\n",
              "      <td>0.708014</td>\n",
              "      <td>0.678629</td>\n",
              "      <td>0.673662</td>\n",
              "      <td>0.679342</td>\n",
              "      <td>0.667415</td>\n",
              "      <td>0.676180</td>\n",
              "      <td>0.670797</td>\n",
              "      <td>0.720206</td>\n",
              "      <td>0.720128</td>\n",
              "      <td>0.724539</td>\n",
              "    </tr>\n",
              "  </tbody>\n",
              "</table>\n",
              "</div>"
            ],
            "text/plain": [
              "           clean log all  clean log pca  ...  clean gbc pca  clean gbc kbest\n",
              "r-squared       0.723985       0.729095  ...       0.732682         0.738086\n",
              "f1              0.702971       0.707697  ...       0.720128         0.724539\n",
              "\n",
              "[2 rows x 12 columns]"
            ]
          },
          "metadata": {
            "tags": []
          },
          "execution_count": 105
        }
      ]
    },
    {
      "cell_type": "code",
      "metadata": {
        "id": "3BOS3xTrLUZp",
        "colab_type": "code",
        "outputId": "32b5b2be-7c7e-419c-a3e2-dfef6d2ce76a",
        "colab": {
          "base_uri": "https://localhost:8080/",
          "height": 140
        }
      },
      "source": [
        "results_full = pd.DataFrame(index=['r-squared', 'f1'])\n",
        "\n",
        "results_full['Full log all'] = full_log_all\n",
        "results_full['Full log pca'] = full_log_pca\n",
        "results_full['Full log kbest'] = full_log_kbest\n",
        "results_full['Full rfc all'] = full_rfc_all\n",
        "results_full['Full rfc pca'] = full_rfc_pca\n",
        "results_full['Full rfc kbest'] = full_rfc_kbest\n",
        "results_full['Full knn all'] = full_knn_all\n",
        "results_full['Full knn pca'] = full_knn_pca\n",
        "results_full['Full knn kbest'] = full_knn_kbest\n",
        "results_full['Full gbc all'] = full_gbc_all\n",
        "results_full['Full gbc pca'] = full_gbc_pca\n",
        "results_full['Full gbc kbest'] = full_gbc_kbest\n",
        "\n",
        "results_full.head()\n"
      ],
      "execution_count": 106,
      "outputs": [
        {
          "output_type": "execute_result",
          "data": {
            "text/html": [
              "<div>\n",
              "<style scoped>\n",
              "    .dataframe tbody tr th:only-of-type {\n",
              "        vertical-align: middle;\n",
              "    }\n",
              "\n",
              "    .dataframe tbody tr th {\n",
              "        vertical-align: top;\n",
              "    }\n",
              "\n",
              "    .dataframe thead th {\n",
              "        text-align: right;\n",
              "    }\n",
              "</style>\n",
              "<table border=\"1\" class=\"dataframe\">\n",
              "  <thead>\n",
              "    <tr style=\"text-align: right;\">\n",
              "      <th></th>\n",
              "      <th>Full log all</th>\n",
              "      <th>Full log pca</th>\n",
              "      <th>Full log kbest</th>\n",
              "      <th>Full rfc all</th>\n",
              "      <th>Full rfc pca</th>\n",
              "      <th>Full rfc kbest</th>\n",
              "      <th>Full knn all</th>\n",
              "      <th>Full knn pca</th>\n",
              "      <th>Full knn kbest</th>\n",
              "      <th>Full gbc all</th>\n",
              "      <th>Full gbc pca</th>\n",
              "      <th>Full gbc kbest</th>\n",
              "    </tr>\n",
              "  </thead>\n",
              "  <tbody>\n",
              "    <tr>\n",
              "      <th>r-squared</th>\n",
              "      <td>0.721619</td>\n",
              "      <td>0.721762</td>\n",
              "      <td>0.724333</td>\n",
              "      <td>0.697619</td>\n",
              "      <td>0.698952</td>\n",
              "      <td>0.695571</td>\n",
              "      <td>0.685333</td>\n",
              "      <td>0.685333</td>\n",
              "      <td>0.681714</td>\n",
              "      <td>0.736905</td>\n",
              "      <td>0.733667</td>\n",
              "      <td>0.734381</td>\n",
              "    </tr>\n",
              "    <tr>\n",
              "      <th>f1</th>\n",
              "      <td>0.709761</td>\n",
              "      <td>0.706574</td>\n",
              "      <td>0.713203</td>\n",
              "      <td>0.684205</td>\n",
              "      <td>0.683425</td>\n",
              "      <td>0.683531</td>\n",
              "      <td>0.680495</td>\n",
              "      <td>0.678943</td>\n",
              "      <td>0.677507</td>\n",
              "      <td>0.726850</td>\n",
              "      <td>0.721395</td>\n",
              "      <td>0.728009</td>\n",
              "    </tr>\n",
              "  </tbody>\n",
              "</table>\n",
              "</div>"
            ],
            "text/plain": [
              "           Full log all  Full log pca  ...  Full gbc pca  Full gbc kbest\n",
              "r-squared      0.721619      0.721762  ...      0.733667        0.734381\n",
              "f1             0.709761      0.706574  ...      0.721395        0.728009\n",
              "\n",
              "[2 rows x 12 columns]"
            ]
          },
          "metadata": {
            "tags": []
          },
          "execution_count": 106
        }
      ]
    },
    {
      "cell_type": "code",
      "metadata": {
        "id": "bSs2q6oMZgGE",
        "colab_type": "code",
        "colab": {}
      },
      "source": [
        ""
      ],
      "execution_count": 0,
      "outputs": []
    }
  ]
}