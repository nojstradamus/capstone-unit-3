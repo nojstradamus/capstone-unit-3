{
  "nbformat": 4,
  "nbformat_minor": 0,
  "metadata": {
    "colab": {
      "name": "Capstone 2.2",
      "version": "0.3.2",
      "provenance": [],
      "collapsed_sections": []
    },
    "kernelspec": {
      "name": "python3",
      "display_name": "Python 3"
    }
  },
  "cells": [
    {
      "cell_type": "code",
      "metadata": {
        "id": "CEzc8wBRv2Am",
        "colab_type": "code",
        "colab": {}
      },
      "source": [
        "import pandas as pd\n",
        "import numpy as np\n",
        "import matplotlib.pyplot as plt\n",
        "import seaborn as sns\n",
        "\n",
        "from sklearn.linear_model import LogisticRegression\n",
        "from sklearn.model_selection import cross_val_score, train_test_split\n",
        "from sklearn.neighbors import KNeighborsClassifier\n",
        "from sklearn import ensemble\n",
        "from sklearn.decomposition import PCA\n",
        "from matplotlib import rcParams\n",
        "from sklearn.preprocessing import normalize\n",
        "from sklearn.neighbors import KNeighborsClassifier\n",
        "from matplotlib import rcParams\n",
        "from sklearn.feature_selection import SelectKBest\n",
        "\n",
        "from sklearn import metrics\n",
        "\n",
        "from google.colab import files\n",
        "import io\n",
        "\n",
        "import warnings\n",
        "warnings.filterwarnings('ignore')\n",
        "\n",
        "%matplotlib inline"
      ],
      "execution_count": 0,
      "outputs": []
    },
    {
      "cell_type": "code",
      "metadata": {
        "id": "6cCWfPFov7DM",
        "colab_type": "code",
        "colab": {}
      },
      "source": [
        "# Set graph parameters\n",
        "sns.set_style('whitegrid')\n",
        "rcParams['figure.figsize'] = 10,7"
      ],
      "execution_count": 0,
      "outputs": []
    },
    {
      "cell_type": "code",
      "metadata": {
        "id": "43tWfO89v9Oe",
        "colab_type": "code",
        "outputId": "b76af40d-e3f2-47ef-8a9b-59c70b07b9c4",
        "colab": {
          "resources": {
            "http://localhost:8080/nbextensions/google.colab/files.js": {
              "data": "Ly8gQ29weXJpZ2h0IDIwMTcgR29vZ2xlIExMQwovLwovLyBMaWNlbnNlZCB1bmRlciB0aGUgQXBhY2hlIExpY2Vuc2UsIFZlcnNpb24gMi4wICh0aGUgIkxpY2Vuc2UiKTsKLy8geW91IG1heSBub3QgdXNlIHRoaXMgZmlsZSBleGNlcHQgaW4gY29tcGxpYW5jZSB3aXRoIHRoZSBMaWNlbnNlLgovLyBZb3UgbWF5IG9idGFpbiBhIGNvcHkgb2YgdGhlIExpY2Vuc2UgYXQKLy8KLy8gICAgICBodHRwOi8vd3d3LmFwYWNoZS5vcmcvbGljZW5zZXMvTElDRU5TRS0yLjAKLy8KLy8gVW5sZXNzIHJlcXVpcmVkIGJ5IGFwcGxpY2FibGUgbGF3IG9yIGFncmVlZCB0byBpbiB3cml0aW5nLCBzb2Z0d2FyZQovLyBkaXN0cmlidXRlZCB1bmRlciB0aGUgTGljZW5zZSBpcyBkaXN0cmlidXRlZCBvbiBhbiAiQVMgSVMiIEJBU0lTLAovLyBXSVRIT1VUIFdBUlJBTlRJRVMgT1IgQ09ORElUSU9OUyBPRiBBTlkgS0lORCwgZWl0aGVyIGV4cHJlc3Mgb3IgaW1wbGllZC4KLy8gU2VlIHRoZSBMaWNlbnNlIGZvciB0aGUgc3BlY2lmaWMgbGFuZ3VhZ2UgZ292ZXJuaW5nIHBlcm1pc3Npb25zIGFuZAovLyBsaW1pdGF0aW9ucyB1bmRlciB0aGUgTGljZW5zZS4KCi8qKgogKiBAZmlsZW92ZXJ2aWV3IEhlbHBlcnMgZm9yIGdvb2dsZS5jb2xhYiBQeXRob24gbW9kdWxlLgogKi8KKGZ1bmN0aW9uKHNjb3BlKSB7CmZ1bmN0aW9uIHNwYW4odGV4dCwgc3R5bGVBdHRyaWJ1dGVzID0ge30pIHsKICBjb25zdCBlbGVtZW50ID0gZG9jdW1lbnQuY3JlYXRlRWxlbWVudCgnc3BhbicpOwogIGVsZW1lbnQudGV4dENvbnRlbnQgPSB0ZXh0OwogIGZvciAoY29uc3Qga2V5IG9mIE9iamVjdC5rZXlzKHN0eWxlQXR0cmlidXRlcykpIHsKICAgIGVsZW1lbnQuc3R5bGVba2V5XSA9IHN0eWxlQXR0cmlidXRlc1trZXldOwogIH0KICByZXR1cm4gZWxlbWVudDsKfQoKLy8gTWF4IG51bWJlciBvZiBieXRlcyB3aGljaCB3aWxsIGJlIHVwbG9hZGVkIGF0IGEgdGltZS4KY29uc3QgTUFYX1BBWUxPQURfU0laRSA9IDEwMCAqIDEwMjQ7Ci8vIE1heCBhbW91bnQgb2YgdGltZSB0byBibG9jayB3YWl0aW5nIGZvciB0aGUgdXNlci4KY29uc3QgRklMRV9DSEFOR0VfVElNRU9VVF9NUyA9IDMwICogMTAwMDsKCmZ1bmN0aW9uIF91cGxvYWRGaWxlcyhpbnB1dElkLCBvdXRwdXRJZCkgewogIGNvbnN0IHN0ZXBzID0gdXBsb2FkRmlsZXNTdGVwKGlucHV0SWQsIG91dHB1dElkKTsKICBjb25zdCBvdXRwdXRFbGVtZW50ID0gZG9jdW1lbnQuZ2V0RWxlbWVudEJ5SWQob3V0cHV0SWQpOwogIC8vIENhY2hlIHN0ZXBzIG9uIHRoZSBvdXRwdXRFbGVtZW50IHRvIG1ha2UgaXQgYXZhaWxhYmxlIGZvciB0aGUgbmV4dCBjYWxsCiAgLy8gdG8gdXBsb2FkRmlsZXNDb250aW51ZSBmcm9tIFB5dGhvbi4KICBvdXRwdXRFbGVtZW50LnN0ZXBzID0gc3RlcHM7CgogIHJldHVybiBfdXBsb2FkRmlsZXNDb250aW51ZShvdXRwdXRJZCk7Cn0KCi8vIFRoaXMgaXMgcm91Z2hseSBhbiBhc3luYyBnZW5lcmF0b3IgKG5vdCBzdXBwb3J0ZWQgaW4gdGhlIGJyb3dzZXIgeWV0KSwKLy8gd2hlcmUgdGhlcmUgYXJlIG11bHRpcGxlIGFzeW5jaHJvbm91cyBzdGVwcyBhbmQgdGhlIFB5dGhvbiBzaWRlIGlzIGdvaW5nCi8vIHRvIHBvbGwgZm9yIGNvbXBsZXRpb24gb2YgZWFjaCBzdGVwLgovLyBUaGlzIHVzZXMgYSBQcm9taXNlIHRvIGJsb2NrIHRoZSBweXRob24gc2lkZSBvbiBjb21wbGV0aW9uIG9mIGVhY2ggc3RlcCwKLy8gdGhlbiBwYXNzZXMgdGhlIHJlc3VsdCBvZiB0aGUgcHJldmlvdXMgc3RlcCBhcyB0aGUgaW5wdXQgdG8gdGhlIG5leHQgc3RlcC4KZnVuY3Rpb24gX3VwbG9hZEZpbGVzQ29udGludWUob3V0cHV0SWQpIHsKICBjb25zdCBvdXRwdXRFbGVtZW50ID0gZG9jdW1lbnQuZ2V0RWxlbWVudEJ5SWQob3V0cHV0SWQpOwogIGNvbnN0IHN0ZXBzID0gb3V0cHV0RWxlbWVudC5zdGVwczsKCiAgY29uc3QgbmV4dCA9IHN0ZXBzLm5leHQob3V0cHV0RWxlbWVudC5sYXN0UHJvbWlzZVZhbHVlKTsKICByZXR1cm4gUHJvbWlzZS5yZXNvbHZlKG5leHQudmFsdWUucHJvbWlzZSkudGhlbigodmFsdWUpID0+IHsKICAgIC8vIENhY2hlIHRoZSBsYXN0IHByb21pc2UgdmFsdWUgdG8gbWFrZSBpdCBhdmFpbGFibGUgdG8gdGhlIG5leHQKICAgIC8vIHN0ZXAgb2YgdGhlIGdlbmVyYXRvci4KICAgIG91dHB1dEVsZW1lbnQubGFzdFByb21pc2VWYWx1ZSA9IHZhbHVlOwogICAgcmV0dXJuIG5leHQudmFsdWUucmVzcG9uc2U7CiAgfSk7Cn0KCi8qKgogKiBHZW5lcmF0b3IgZnVuY3Rpb24gd2hpY2ggaXMgY2FsbGVkIGJldHdlZW4gZWFjaCBhc3luYyBzdGVwIG9mIHRoZSB1cGxvYWQKICogcHJvY2Vzcy4KICogQHBhcmFtIHtzdHJpbmd9IGlucHV0SWQgRWxlbWVudCBJRCBvZiB0aGUgaW5wdXQgZmlsZSBwaWNrZXIgZWxlbWVudC4KICogQHBhcmFtIHtzdHJpbmd9IG91dHB1dElkIEVsZW1lbnQgSUQgb2YgdGhlIG91dHB1dCBkaXNwbGF5LgogKiBAcmV0dXJuIHshSXRlcmFibGU8IU9iamVjdD59IEl0ZXJhYmxlIG9mIG5leHQgc3RlcHMuCiAqLwpmdW5jdGlvbiogdXBsb2FkRmlsZXNTdGVwKGlucHV0SWQsIG91dHB1dElkKSB7CiAgY29uc3QgaW5wdXRFbGVtZW50ID0gZG9jdW1lbnQuZ2V0RWxlbWVudEJ5SWQoaW5wdXRJZCk7CiAgaW5wdXRFbGVtZW50LmRpc2FibGVkID0gZmFsc2U7CgogIGNvbnN0IG91dHB1dEVsZW1lbnQgPSBkb2N1bWVudC5nZXRFbGVtZW50QnlJZChvdXRwdXRJZCk7CiAgb3V0cHV0RWxlbWVudC5pbm5lckhUTUwgPSAnJzsKCiAgY29uc3QgcGlja2VkUHJvbWlzZSA9IG5ldyBQcm9taXNlKChyZXNvbHZlKSA9PiB7CiAgICBpbnB1dEVsZW1lbnQuYWRkRXZlbnRMaXN0ZW5lcignY2hhbmdlJywgKGUpID0+IHsKICAgICAgcmVzb2x2ZShlLnRhcmdldC5maWxlcyk7CiAgICB9KTsKICB9KTsKCiAgY29uc3QgY2FuY2VsID0gZG9jdW1lbnQuY3JlYXRlRWxlbWVudCgnYnV0dG9uJyk7CiAgaW5wdXRFbGVtZW50LnBhcmVudEVsZW1lbnQuYXBwZW5kQ2hpbGQoY2FuY2VsKTsKICBjYW5jZWwudGV4dENvbnRlbnQgPSAnQ2FuY2VsIHVwbG9hZCc7CiAgY29uc3QgY2FuY2VsUHJvbWlzZSA9IG5ldyBQcm9taXNlKChyZXNvbHZlKSA9PiB7CiAgICBjYW5jZWwub25jbGljayA9ICgpID0+IHsKICAgICAgcmVzb2x2ZShudWxsKTsKICAgIH07CiAgfSk7CgogIC8vIENhbmNlbCB1cGxvYWQgaWYgdXNlciBoYXNuJ3QgcGlja2VkIGFueXRoaW5nIGluIHRpbWVvdXQuCiAgY29uc3QgdGltZW91dFByb21pc2UgPSBuZXcgUHJvbWlzZSgocmVzb2x2ZSkgPT4gewogICAgc2V0VGltZW91dCgoKSA9PiB7CiAgICAgIHJlc29sdmUobnVsbCk7CiAgICB9LCBGSUxFX0NIQU5HRV9USU1FT1VUX01TKTsKICB9KTsKCiAgLy8gV2FpdCBmb3IgdGhlIHVzZXIgdG8gcGljayB0aGUgZmlsZXMuCiAgY29uc3QgZmlsZXMgPSB5aWVsZCB7CiAgICBwcm9taXNlOiBQcm9taXNlLnJhY2UoW3BpY2tlZFByb21pc2UsIHRpbWVvdXRQcm9taXNlLCBjYW5jZWxQcm9taXNlXSksCiAgICByZXNwb25zZTogewogICAgICBhY3Rpb246ICdzdGFydGluZycsCiAgICB9CiAgfTsKCiAgaWYgKCFmaWxlcykgewogICAgcmV0dXJuIHsKICAgICAgcmVzcG9uc2U6IHsKICAgICAgICBhY3Rpb246ICdjb21wbGV0ZScsCiAgICAgIH0KICAgIH07CiAgfQoKICBjYW5jZWwucmVtb3ZlKCk7CgogIC8vIERpc2FibGUgdGhlIGlucHV0IGVsZW1lbnQgc2luY2UgZnVydGhlciBwaWNrcyBhcmUgbm90IGFsbG93ZWQuCiAgaW5wdXRFbGVtZW50LmRpc2FibGVkID0gdHJ1ZTsKCiAgZm9yIChjb25zdCBmaWxlIG9mIGZpbGVzKSB7CiAgICBjb25zdCBsaSA9IGRvY3VtZW50LmNyZWF0ZUVsZW1lbnQoJ2xpJyk7CiAgICBsaS5hcHBlbmQoc3BhbihmaWxlLm5hbWUsIHtmb250V2VpZ2h0OiAnYm9sZCd9KSk7CiAgICBsaS5hcHBlbmQoc3BhbigKICAgICAgICBgKCR7ZmlsZS50eXBlIHx8ICduL2EnfSkgLSAke2ZpbGUuc2l6ZX0gYnl0ZXMsIGAgKwogICAgICAgIGBsYXN0IG1vZGlmaWVkOiAkewogICAgICAgICAgICBmaWxlLmxhc3RNb2RpZmllZERhdGUgPyBmaWxlLmxhc3RNb2RpZmllZERhdGUudG9Mb2NhbGVEYXRlU3RyaW5nKCkgOgogICAgICAgICAgICAgICAgICAgICAgICAgICAgICAgICAgICAnbi9hJ30gLSBgKSk7CiAgICBjb25zdCBwZXJjZW50ID0gc3BhbignMCUgZG9uZScpOwogICAgbGkuYXBwZW5kQ2hpbGQocGVyY2VudCk7CgogICAgb3V0cHV0RWxlbWVudC5hcHBlbmRDaGlsZChsaSk7CgogICAgY29uc3QgZmlsZURhdGFQcm9taXNlID0gbmV3IFByb21pc2UoKHJlc29sdmUpID0+IHsKICAgICAgY29uc3QgcmVhZGVyID0gbmV3IEZpbGVSZWFkZXIoKTsKICAgICAgcmVhZGVyLm9ubG9hZCA9IChlKSA9PiB7CiAgICAgICAgcmVzb2x2ZShlLnRhcmdldC5yZXN1bHQpOwogICAgICB9OwogICAgICByZWFkZXIucmVhZEFzQXJyYXlCdWZmZXIoZmlsZSk7CiAgICB9KTsKICAgIC8vIFdhaXQgZm9yIHRoZSBkYXRhIHRvIGJlIHJlYWR5LgogICAgbGV0IGZpbGVEYXRhID0geWllbGQgewogICAgICBwcm9taXNlOiBmaWxlRGF0YVByb21pc2UsCiAgICAgIHJlc3BvbnNlOiB7CiAgICAgICAgYWN0aW9uOiAnY29udGludWUnLAogICAgICB9CiAgICB9OwoKICAgIC8vIFVzZSBhIGNodW5rZWQgc2VuZGluZyB0byBhdm9pZCBtZXNzYWdlIHNpemUgbGltaXRzLiBTZWUgYi82MjExNTY2MC4KICAgIGxldCBwb3NpdGlvbiA9IDA7CiAgICB3aGlsZSAocG9zaXRpb24gPCBmaWxlRGF0YS5ieXRlTGVuZ3RoKSB7CiAgICAgIGNvbnN0IGxlbmd0aCA9IE1hdGgubWluKGZpbGVEYXRhLmJ5dGVMZW5ndGggLSBwb3NpdGlvbiwgTUFYX1BBWUxPQURfU0laRSk7CiAgICAgIGNvbnN0IGNodW5rID0gbmV3IFVpbnQ4QXJyYXkoZmlsZURhdGEsIHBvc2l0aW9uLCBsZW5ndGgpOwogICAgICBwb3NpdGlvbiArPSBsZW5ndGg7CgogICAgICBjb25zdCBiYXNlNjQgPSBidG9hKFN0cmluZy5mcm9tQ2hhckNvZGUuYXBwbHkobnVsbCwgY2h1bmspKTsKICAgICAgeWllbGQgewogICAgICAgIHJlc3BvbnNlOiB7CiAgICAgICAgICBhY3Rpb246ICdhcHBlbmQnLAogICAgICAgICAgZmlsZTogZmlsZS5uYW1lLAogICAgICAgICAgZGF0YTogYmFzZTY0LAogICAgICAgIH0sCiAgICAgIH07CiAgICAgIHBlcmNlbnQudGV4dENvbnRlbnQgPQogICAgICAgICAgYCR7TWF0aC5yb3VuZCgocG9zaXRpb24gLyBmaWxlRGF0YS5ieXRlTGVuZ3RoKSAqIDEwMCl9JSBkb25lYDsKICAgIH0KICB9CgogIC8vIEFsbCBkb25lLgogIHlpZWxkIHsKICAgIHJlc3BvbnNlOiB7CiAgICAgIGFjdGlvbjogJ2NvbXBsZXRlJywKICAgIH0KICB9Owp9CgpzY29wZS5nb29nbGUgPSBzY29wZS5nb29nbGUgfHwge307CnNjb3BlLmdvb2dsZS5jb2xhYiA9IHNjb3BlLmdvb2dsZS5jb2xhYiB8fCB7fTsKc2NvcGUuZ29vZ2xlLmNvbGFiLl9maWxlcyA9IHsKICBfdXBsb2FkRmlsZXMsCiAgX3VwbG9hZEZpbGVzQ29udGludWUsCn07Cn0pKHNlbGYpOwo=",
              "ok": true,
              "headers": [
                [
                  "content-type",
                  "application/javascript"
                ]
              ],
              "status": 200,
              "status_text": ""
            }
          },
          "base_uri": "https://localhost:8080/",
          "height": 74
        }
      },
      "source": [
        "uploaded = files.upload()"
      ],
      "execution_count": 68,
      "outputs": [
        {
          "output_type": "display_data",
          "data": {
            "text/html": [
              "\n",
              "     <input type=\"file\" id=\"files-59117dbd-ccb6-4e0a-8fe8-8f67ce626686\" name=\"files[]\" multiple disabled />\n",
              "     <output id=\"result-59117dbd-ccb6-4e0a-8fe8-8f67ce626686\">\n",
              "      Upload widget is only available when the cell has been executed in the\n",
              "      current browser session. Please rerun this cell to enable.\n",
              "      </output>\n",
              "      <script src=\"/nbextensions/google.colab/files.js\"></script> "
            ],
            "text/plain": [
              "<IPython.core.display.HTML object>"
            ]
          },
          "metadata": {
            "tags": []
          }
        },
        {
          "output_type": "stream",
          "text": [
            "Saving cardio_train.csv to cardio_train (1).csv\n"
          ],
          "name": "stdout"
        }
      ]
    },
    {
      "cell_type": "code",
      "metadata": {
        "id": "aMDFNMlZwFtN",
        "colab_type": "code",
        "outputId": "5e3d7767-6dc9-4421-9e4d-a66c0c0df5dc",
        "colab": {
          "base_uri": "https://localhost:8080/",
          "height": 221
        }
      },
      "source": [
        "df = pd.read_csv(io.BytesIO(uploaded['cardio_train.csv']), sep=';')\n",
        "print(df.shape)\n",
        "df.head()"
      ],
      "execution_count": 105,
      "outputs": [
        {
          "output_type": "stream",
          "text": [
            "(70000, 13)\n"
          ],
          "name": "stdout"
        },
        {
          "output_type": "execute_result",
          "data": {
            "text/html": [
              "<div>\n",
              "<style scoped>\n",
              "    .dataframe tbody tr th:only-of-type {\n",
              "        vertical-align: middle;\n",
              "    }\n",
              "\n",
              "    .dataframe tbody tr th {\n",
              "        vertical-align: top;\n",
              "    }\n",
              "\n",
              "    .dataframe thead th {\n",
              "        text-align: right;\n",
              "    }\n",
              "</style>\n",
              "<table border=\"1\" class=\"dataframe\">\n",
              "  <thead>\n",
              "    <tr style=\"text-align: right;\">\n",
              "      <th></th>\n",
              "      <th>id</th>\n",
              "      <th>age</th>\n",
              "      <th>gender</th>\n",
              "      <th>height</th>\n",
              "      <th>weight</th>\n",
              "      <th>ap_hi</th>\n",
              "      <th>ap_lo</th>\n",
              "      <th>cholesterol</th>\n",
              "      <th>gluc</th>\n",
              "      <th>smoke</th>\n",
              "      <th>alco</th>\n",
              "      <th>active</th>\n",
              "      <th>cardio</th>\n",
              "    </tr>\n",
              "  </thead>\n",
              "  <tbody>\n",
              "    <tr>\n",
              "      <th>0</th>\n",
              "      <td>0</td>\n",
              "      <td>18393</td>\n",
              "      <td>2</td>\n",
              "      <td>168</td>\n",
              "      <td>62.0</td>\n",
              "      <td>110</td>\n",
              "      <td>80</td>\n",
              "      <td>1</td>\n",
              "      <td>1</td>\n",
              "      <td>0</td>\n",
              "      <td>0</td>\n",
              "      <td>1</td>\n",
              "      <td>0</td>\n",
              "    </tr>\n",
              "    <tr>\n",
              "      <th>1</th>\n",
              "      <td>1</td>\n",
              "      <td>20228</td>\n",
              "      <td>1</td>\n",
              "      <td>156</td>\n",
              "      <td>85.0</td>\n",
              "      <td>140</td>\n",
              "      <td>90</td>\n",
              "      <td>3</td>\n",
              "      <td>1</td>\n",
              "      <td>0</td>\n",
              "      <td>0</td>\n",
              "      <td>1</td>\n",
              "      <td>1</td>\n",
              "    </tr>\n",
              "    <tr>\n",
              "      <th>2</th>\n",
              "      <td>2</td>\n",
              "      <td>18857</td>\n",
              "      <td>1</td>\n",
              "      <td>165</td>\n",
              "      <td>64.0</td>\n",
              "      <td>130</td>\n",
              "      <td>70</td>\n",
              "      <td>3</td>\n",
              "      <td>1</td>\n",
              "      <td>0</td>\n",
              "      <td>0</td>\n",
              "      <td>0</td>\n",
              "      <td>1</td>\n",
              "    </tr>\n",
              "    <tr>\n",
              "      <th>3</th>\n",
              "      <td>3</td>\n",
              "      <td>17623</td>\n",
              "      <td>2</td>\n",
              "      <td>169</td>\n",
              "      <td>82.0</td>\n",
              "      <td>150</td>\n",
              "      <td>100</td>\n",
              "      <td>1</td>\n",
              "      <td>1</td>\n",
              "      <td>0</td>\n",
              "      <td>0</td>\n",
              "      <td>1</td>\n",
              "      <td>1</td>\n",
              "    </tr>\n",
              "    <tr>\n",
              "      <th>4</th>\n",
              "      <td>4</td>\n",
              "      <td>17474</td>\n",
              "      <td>1</td>\n",
              "      <td>156</td>\n",
              "      <td>56.0</td>\n",
              "      <td>100</td>\n",
              "      <td>60</td>\n",
              "      <td>1</td>\n",
              "      <td>1</td>\n",
              "      <td>0</td>\n",
              "      <td>0</td>\n",
              "      <td>0</td>\n",
              "      <td>0</td>\n",
              "    </tr>\n",
              "  </tbody>\n",
              "</table>\n",
              "</div>"
            ],
            "text/plain": [
              "   id    age  gender  height  weight  ...  gluc  smoke  alco  active  cardio\n",
              "0   0  18393       2     168    62.0  ...     1      0     0       1       0\n",
              "1   1  20228       1     156    85.0  ...     1      0     0       1       1\n",
              "2   2  18857       1     165    64.0  ...     1      0     0       0       1\n",
              "3   3  17623       2     169    82.0  ...     1      0     0       1       1\n",
              "4   4  17474       1     156    56.0  ...     1      0     0       0       0\n",
              "\n",
              "[5 rows x 13 columns]"
            ]
          },
          "metadata": {
            "tags": []
          },
          "execution_count": 105
        }
      ]
    },
    {
      "cell_type": "markdown",
      "metadata": {
        "id": "W6HDjBxcw9-K",
        "colab_type": "text"
      },
      "source": [
        "### Some information about the features\n",
        "- Age is currently measured in days\n",
        "- Gender is classified 1:women and 2:men\n",
        "- Height is measure in cm\n",
        "- Weight is measured in kg \n",
        "- ap_hi refers to arterial pressure. Specifically the Systolic blood pressures which represents when the heart contracts.\n",
        "- ap_lo refers to Dystolic Blood Pressure or when the heart contracts. \n",
        "    - ap_hi and ap_lo are used to calculate blood pressure (e.g. 120/80)\n",
        "    - according to the CDC, less than 120/80 is considered normal, between 120/80 and 139/89 is considered at risk for high blood pressure, and more than 140/90 is considered high blood pressure.\n",
        "- cholesterol and glu are labeled as 1:normal, 2:above normal, 3 well above normal.\n",
        "- smoke, alco, active, and cardio are binary with cardio as the target"
      ]
    },
    {
      "cell_type": "markdown",
      "metadata": {
        "id": "bQhc1jW8OZQ-",
        "colab_type": "text"
      },
      "source": [
        "# Data Cleaning"
      ]
    },
    {
      "cell_type": "code",
      "metadata": {
        "id": "la1xvL5dw_JS",
        "colab_type": "code",
        "outputId": "f6aedc40-7823-4562-c93f-780a80b3ce98",
        "colab": {
          "base_uri": "https://localhost:8080/",
          "height": 334
        }
      },
      "source": [
        "# Change age to years for easier comprehension \n",
        "df['age'] = round(df['age'] / 365, 1)\n",
        "\n",
        "# Add BMI metric for later\n",
        "df['bmi'] = (df['weight'] / df['height'] / df['height']) * 10000\n",
        "\n",
        "# Look at shape\n",
        "print(df.shape)\n",
        "\n",
        "# Look at general statitics\n",
        "df.describe()"
      ],
      "execution_count": 106,
      "outputs": [
        {
          "output_type": "stream",
          "text": [
            "(70000, 14)\n"
          ],
          "name": "stdout"
        },
        {
          "output_type": "execute_result",
          "data": {
            "text/html": [
              "<div>\n",
              "<style scoped>\n",
              "    .dataframe tbody tr th:only-of-type {\n",
              "        vertical-align: middle;\n",
              "    }\n",
              "\n",
              "    .dataframe tbody tr th {\n",
              "        vertical-align: top;\n",
              "    }\n",
              "\n",
              "    .dataframe thead th {\n",
              "        text-align: right;\n",
              "    }\n",
              "</style>\n",
              "<table border=\"1\" class=\"dataframe\">\n",
              "  <thead>\n",
              "    <tr style=\"text-align: right;\">\n",
              "      <th></th>\n",
              "      <th>id</th>\n",
              "      <th>age</th>\n",
              "      <th>gender</th>\n",
              "      <th>height</th>\n",
              "      <th>weight</th>\n",
              "      <th>ap_hi</th>\n",
              "      <th>ap_lo</th>\n",
              "      <th>cholesterol</th>\n",
              "      <th>gluc</th>\n",
              "      <th>smoke</th>\n",
              "      <th>alco</th>\n",
              "      <th>active</th>\n",
              "      <th>cardio</th>\n",
              "      <th>bmi</th>\n",
              "    </tr>\n",
              "  </thead>\n",
              "  <tbody>\n",
              "    <tr>\n",
              "      <th>count</th>\n",
              "      <td>70000.000000</td>\n",
              "      <td>70000.000000</td>\n",
              "      <td>70000.000000</td>\n",
              "      <td>70000.000000</td>\n",
              "      <td>70000.000000</td>\n",
              "      <td>70000.000000</td>\n",
              "      <td>70000.000000</td>\n",
              "      <td>70000.000000</td>\n",
              "      <td>70000.000000</td>\n",
              "      <td>70000.000000</td>\n",
              "      <td>70000.000000</td>\n",
              "      <td>70000.000000</td>\n",
              "      <td>70000.000000</td>\n",
              "      <td>70000.000000</td>\n",
              "    </tr>\n",
              "    <tr>\n",
              "      <th>mean</th>\n",
              "      <td>49972.419900</td>\n",
              "      <td>53.339486</td>\n",
              "      <td>1.349571</td>\n",
              "      <td>164.359229</td>\n",
              "      <td>74.205690</td>\n",
              "      <td>128.817286</td>\n",
              "      <td>96.630414</td>\n",
              "      <td>1.366871</td>\n",
              "      <td>1.226457</td>\n",
              "      <td>0.088129</td>\n",
              "      <td>0.053771</td>\n",
              "      <td>0.803729</td>\n",
              "      <td>0.499700</td>\n",
              "      <td>27.556513</td>\n",
              "    </tr>\n",
              "    <tr>\n",
              "      <th>std</th>\n",
              "      <td>28851.302323</td>\n",
              "      <td>6.759534</td>\n",
              "      <td>0.476838</td>\n",
              "      <td>8.210126</td>\n",
              "      <td>14.395757</td>\n",
              "      <td>154.011419</td>\n",
              "      <td>188.472530</td>\n",
              "      <td>0.680250</td>\n",
              "      <td>0.572270</td>\n",
              "      <td>0.283484</td>\n",
              "      <td>0.225568</td>\n",
              "      <td>0.397179</td>\n",
              "      <td>0.500003</td>\n",
              "      <td>6.091511</td>\n",
              "    </tr>\n",
              "    <tr>\n",
              "      <th>min</th>\n",
              "      <td>0.000000</td>\n",
              "      <td>29.600000</td>\n",
              "      <td>1.000000</td>\n",
              "      <td>55.000000</td>\n",
              "      <td>10.000000</td>\n",
              "      <td>-150.000000</td>\n",
              "      <td>-70.000000</td>\n",
              "      <td>1.000000</td>\n",
              "      <td>1.000000</td>\n",
              "      <td>0.000000</td>\n",
              "      <td>0.000000</td>\n",
              "      <td>0.000000</td>\n",
              "      <td>0.000000</td>\n",
              "      <td>3.471784</td>\n",
              "    </tr>\n",
              "    <tr>\n",
              "      <th>25%</th>\n",
              "      <td>25006.750000</td>\n",
              "      <td>48.400000</td>\n",
              "      <td>1.000000</td>\n",
              "      <td>159.000000</td>\n",
              "      <td>65.000000</td>\n",
              "      <td>120.000000</td>\n",
              "      <td>80.000000</td>\n",
              "      <td>1.000000</td>\n",
              "      <td>1.000000</td>\n",
              "      <td>0.000000</td>\n",
              "      <td>0.000000</td>\n",
              "      <td>1.000000</td>\n",
              "      <td>0.000000</td>\n",
              "      <td>23.875115</td>\n",
              "    </tr>\n",
              "    <tr>\n",
              "      <th>50%</th>\n",
              "      <td>50001.500000</td>\n",
              "      <td>54.000000</td>\n",
              "      <td>1.000000</td>\n",
              "      <td>165.000000</td>\n",
              "      <td>72.000000</td>\n",
              "      <td>120.000000</td>\n",
              "      <td>80.000000</td>\n",
              "      <td>1.000000</td>\n",
              "      <td>1.000000</td>\n",
              "      <td>0.000000</td>\n",
              "      <td>0.000000</td>\n",
              "      <td>1.000000</td>\n",
              "      <td>0.000000</td>\n",
              "      <td>26.374068</td>\n",
              "    </tr>\n",
              "    <tr>\n",
              "      <th>75%</th>\n",
              "      <td>74889.250000</td>\n",
              "      <td>58.400000</td>\n",
              "      <td>2.000000</td>\n",
              "      <td>170.000000</td>\n",
              "      <td>82.000000</td>\n",
              "      <td>140.000000</td>\n",
              "      <td>90.000000</td>\n",
              "      <td>2.000000</td>\n",
              "      <td>1.000000</td>\n",
              "      <td>0.000000</td>\n",
              "      <td>0.000000</td>\n",
              "      <td>1.000000</td>\n",
              "      <td>1.000000</td>\n",
              "      <td>30.222222</td>\n",
              "    </tr>\n",
              "    <tr>\n",
              "      <th>max</th>\n",
              "      <td>99999.000000</td>\n",
              "      <td>65.000000</td>\n",
              "      <td>2.000000</td>\n",
              "      <td>250.000000</td>\n",
              "      <td>200.000000</td>\n",
              "      <td>16020.000000</td>\n",
              "      <td>11000.000000</td>\n",
              "      <td>3.000000</td>\n",
              "      <td>3.000000</td>\n",
              "      <td>1.000000</td>\n",
              "      <td>1.000000</td>\n",
              "      <td>1.000000</td>\n",
              "      <td>1.000000</td>\n",
              "      <td>298.666667</td>\n",
              "    </tr>\n",
              "  </tbody>\n",
              "</table>\n",
              "</div>"
            ],
            "text/plain": [
              "                 id           age  ...        cardio           bmi\n",
              "count  70000.000000  70000.000000  ...  70000.000000  70000.000000\n",
              "mean   49972.419900     53.339486  ...      0.499700     27.556513\n",
              "std    28851.302323      6.759534  ...      0.500003      6.091511\n",
              "min        0.000000     29.600000  ...      0.000000      3.471784\n",
              "25%    25006.750000     48.400000  ...      0.000000     23.875115\n",
              "50%    50001.500000     54.000000  ...      0.000000     26.374068\n",
              "75%    74889.250000     58.400000  ...      1.000000     30.222222\n",
              "max    99999.000000     65.000000  ...      1.000000    298.666667\n",
              "\n",
              "[8 rows x 14 columns]"
            ]
          },
          "metadata": {
            "tags": []
          },
          "execution_count": 106
        }
      ]
    },
    {
      "cell_type": "code",
      "metadata": {
        "id": "3I2hTz2uxEn-",
        "colab_type": "code",
        "outputId": "1b11da55-4c6c-4d7b-fd07-c1315d691a8b",
        "colab": {
          "base_uri": "https://localhost:8080/",
          "height": 272
        }
      },
      "source": [
        "# Look for missing values\n",
        "df.isnull().any()"
      ],
      "execution_count": 107,
      "outputs": [
        {
          "output_type": "execute_result",
          "data": {
            "text/plain": [
              "id             False\n",
              "age            False\n",
              "gender         False\n",
              "height         False\n",
              "weight         False\n",
              "ap_hi          False\n",
              "ap_lo          False\n",
              "cholesterol    False\n",
              "gluc           False\n",
              "smoke          False\n",
              "alco           False\n",
              "active         False\n",
              "cardio         False\n",
              "bmi            False\n",
              "dtype: bool"
            ]
          },
          "metadata": {
            "tags": []
          },
          "execution_count": 107
        }
      ]
    },
    {
      "cell_type": "code",
      "metadata": {
        "id": "eZpOkJGkQlHY",
        "colab_type": "code",
        "outputId": "9b2042a2-c093-48d7-a1f9-ca2ba69a7c42",
        "colab": {
          "base_uri": "https://localhost:8080/",
          "height": 464
        }
      },
      "source": [
        "plt.subplot(211)\n",
        "sns.boxplot(df['ap_hi'])\n",
        "plt.subplot(212)\n",
        "sns.boxplot(df['ap_lo'])"
      ],
      "execution_count": 108,
      "outputs": [
        {
          "output_type": "execute_result",
          "data": {
            "text/plain": [
              "<matplotlib.axes._subplots.AxesSubplot at 0x7f0e9a000208>"
            ]
          },
          "metadata": {
            "tags": []
          },
          "execution_count": 108
        },
        {
          "output_type": "display_data",
          "data": {
            "image/png": "[encoded data removed]",
            "text/plain": [
              "<Figure size 720x504 with 2 Axes>"
            ]
          },
          "metadata": {
            "tags": []
          }
        }
      ]
    },
    {
      "cell_type": "code",
      "metadata": {
        "id": "axlUWYmSOg4G",
        "colab_type": "code",
        "outputId": "0110b64a-ad32-4031-9d63-3cca327ae834",
        "colab": {
          "base_uri": "https://localhost:8080/",
          "height": 102
        }
      },
      "source": [
        "print(df[df['ap_hi'] > 370].shape)\n",
        "print(df[df['ap_lo'] > 360].shape)\n",
        "print(df[df['ap_hi'] < 0].shape)\n",
        "print(df[df['ap_lo'] < 0].shape)\n",
        "print(df[df['ap_hi'] < df['ap_lo']].shape)\n"
      ],
      "execution_count": 109,
      "outputs": [
        {
          "output_type": "stream",
          "text": [
            "(39, 14)\n",
            "(953, 14)\n",
            "(7, 14)\n",
            "(1, 14)\n",
            "(1234, 14)\n"
          ],
          "name": "stdout"
        }
      ]
    },
    {
      "cell_type": "code",
      "metadata": {
        "id": "RTXxFSaiO9aV",
        "colab_type": "code",
        "outputId": "86b1e760-d8ed-433a-8658-2d60fd3af212",
        "colab": {
          "base_uri": "https://localhost:8080/",
          "height": 51
        }
      },
      "source": [
        "df_clean = df.copy()\n",
        "df_full = df.copy()\n",
        "\n",
        "df_clean.drop(df_clean[(df_clean['ap_hi']>370)].index,inplace=True)\n",
        "df_clean.drop(df_clean[(df_clean['ap_hi']>370)].index,inplace=True)\n",
        "df_clean.drop(df_clean[(df_clean['ap_hi']<0)].index,inplace=True)\n",
        "df_clean.drop(df_clean[(df_clean['ap_lo']<0)].index,inplace=True)\n",
        "df_clean.drop(df_clean[(df_clean['ap_hi']<df_clean['ap_lo'])].index,inplace=True)\n",
        "\n",
        "first_cleaning = 1 - df_copy.shape[0] / df.shape[0]\n",
        "print(df_copy.shape)\n",
        "print('Percent of observations lost:', first_cleaning)"
      ],
      "execution_count": 110,
      "outputs": [
        {
          "output_type": "stream",
          "text": [
            "(68722, 15)\n",
            "Percent of observations lost: 0.01825714285714286\n"
          ],
          "name": "stdout"
        }
      ]
    },
    {
      "cell_type": "code",
      "metadata": {
        "id": "x2fnXhFMPikj",
        "colab_type": "code",
        "outputId": "5994de51-e2ea-46d2-eddb-41a86ee88e06",
        "colab": {
          "base_uri": "https://localhost:8080/",
          "height": 446
        }
      },
      "source": [
        "plt.figure(figsize=(20, 7))\n",
        "plt.subplot(311)\n",
        "sns.boxplot(df_clean['height'])\n",
        "plt.subplot(312)\n",
        "sns.boxplot(df_clean['weight'])\n",
        "plt.subplot(313)\n",
        "sns.boxplot(df_clean['bmi']);"
      ],
      "execution_count": 111,
      "outputs": [
        {
          "output_type": "display_data",
          "data": {
            "image/png": "[encoded data removed]",
            "text/plain": [
              "<Figure size 1440x504 with 3 Axes>"
            ]
          },
          "metadata": {
            "tags": []
          }
        }
      ]
    },
    {
      "cell_type": "code",
      "metadata": {
        "id": "HS0hZtZmRawb",
        "colab_type": "code",
        "outputId": "38d47ad2-f1ab-411e-89fe-c1e896c138e0",
        "colab": {
          "base_uri": "https://localhost:8080/",
          "height": 119
        }
      },
      "source": [
        "print(df_clean[df_clean['height'] < 145].shape)\n",
        "print(df_clean[df_clean['height'] > 225].shape)\n",
        "print(df_clean[df_clean['weight'] < 40].shape)\n",
        "print(df_clean[df_clean['weight'] > 110].shape)\n",
        "print(df_clean[df_clean['bmi'] > 45].shape)\n",
        "print(df_clean[df_clean['bmi'] < 15].shape)"
      ],
      "execution_count": 112,
      "outputs": [
        {
          "output_type": "stream",
          "text": [
            "(361, 14)\n",
            "(1, 14)\n",
            "(49, 14)\n",
            "(1194, 14)\n",
            "(579, 14)\n",
            "(26, 14)\n"
          ],
          "name": "stdout"
        }
      ]
    },
    {
      "cell_type": "code",
      "metadata": {
        "id": "1Xrks2DfQy49",
        "colab_type": "code",
        "outputId": "93271c57-04a9-4983-9f7a-cea597191b97",
        "colab": {
          "base_uri": "https://localhost:8080/",
          "height": 68
        }
      },
      "source": [
        "df_clean.drop(df_clean[(df_clean['height'] < 145)].index,inplace=True)\n",
        "df_clean.drop(df_clean[(df_clean['height'] > 225)].index,inplace=True)\n",
        "df_clean.drop(df_clean[(df_clean['weight'] < 40)].index,inplace=True)\n",
        "df_clean.drop(df_clean[(df_clean['weight'] > 110)].index,inplace=True)\n",
        "df_clean.drop(df_clean[(df_clean['bmi'] > 45)].index,inplace=True)\n",
        "df_clean.drop(df_clean[(df_clean['bmi'] < 15)].index,inplace=True)\n",
        "\n",
        "print(df_clean.shape)\n",
        "print('Percent missing from origianl:', 1 - df_clean.shape[0] / df.shape[0])\n",
        "\n",
        "print('Total missing from origianl:', (1 - df_clean.shape[0] / df.shape[0]) + first_cleaning)\n"
      ],
      "execution_count": 113,
      "outputs": [
        {
          "output_type": "stream",
          "text": [
            "(67068, 14)\n",
            "Percent missing from origianl: 0.041885714285714304\n",
            "Total missing from origianl: 0.060142857142857165\n"
          ],
          "name": "stdout"
        }
      ]
    },
    {
      "cell_type": "code",
      "metadata": {
        "id": "LFYXLnLDWTkS",
        "colab_type": "code",
        "outputId": "3b104eb0-811e-4b18-d80b-09e4b5fdf52d",
        "colab": {
          "base_uri": "https://localhost:8080/",
          "height": 463
        }
      },
      "source": [
        "sns.boxplot(df_clean['age'])"
      ],
      "execution_count": 114,
      "outputs": [
        {
          "output_type": "execute_result",
          "data": {
            "text/plain": [
              "<matplotlib.axes._subplots.AxesSubplot at 0x7f0e9abc3898>"
            ]
          },
          "metadata": {
            "tags": []
          },
          "execution_count": 114
        },
        {
          "output_type": "display_data",
          "data": {
            "image/png": "[encoded data removed]",
            "text/plain": [
              "<Figure size 720x504 with 1 Axes>"
            ]
          },
          "metadata": {
            "tags": []
          }
        }
      ]
    },
    {
      "cell_type": "code",
      "metadata": {
        "id": "ELhMBtpWWalZ",
        "colab_type": "code",
        "outputId": "2b730a8a-7594-41d2-c39c-d96e0199bf57",
        "colab": {
          "base_uri": "https://localhost:8080/",
          "height": 34
        }
      },
      "source": [
        "df_clean[df_clean['age']<35].shape"
      ],
      "execution_count": 115,
      "outputs": [
        {
          "output_type": "execute_result",
          "data": {
            "text/plain": [
              "(4, 14)"
            ]
          },
          "metadata": {
            "tags": []
          },
          "execution_count": 115
        }
      ]
    },
    {
      "cell_type": "code",
      "metadata": {
        "id": "1jDh1VxeWlaZ",
        "colab_type": "code",
        "colab": {}
      },
      "source": [
        "df_clean.drop(df_clean[(df_clean['age']<35)].index,inplace=True)"
      ],
      "execution_count": 0,
      "outputs": []
    },
    {
      "cell_type": "markdown",
      "metadata": {
        "id": "x3Sjs5p3FUQm",
        "colab_type": "text"
      },
      "source": [
        "# Exploratory Data Analysis"
      ]
    },
    {
      "cell_type": "code",
      "metadata": {
        "id": "JpenqARXxqL5",
        "colab_type": "code",
        "outputId": "6f14f390-cd51-42b5-b220-5049506950af",
        "colab": {
          "base_uri": "https://localhost:8080/",
          "height": 463
        }
      },
      "source": [
        "# Look at the distribution of age\n",
        "sns.distplot(df_clean['age'], bins=10)\n",
        "plt.xlabel('Age')"
      ],
      "execution_count": 117,
      "outputs": [
        {
          "output_type": "execute_result",
          "data": {
            "text/plain": [
              "Text(0.5, 0, 'Age')"
            ]
          },
          "metadata": {
            "tags": []
          },
          "execution_count": 117
        },
        {
          "output_type": "display_data",
          "data": {
            "image/png": "[encoded data removed]",
            "text/plain": [
              "<Figure size 720x504 with 1 Axes>"
            ]
          },
          "metadata": {
            "tags": []
          }
        }
      ]
    },
    {
      "cell_type": "code",
      "metadata": {
        "id": "5VTwxLebxatH",
        "colab_type": "code",
        "outputId": "34309b3b-6cca-47d5-caf8-2cf400167cf3",
        "colab": {
          "base_uri": "https://localhost:8080/",
          "height": 446
        }
      },
      "source": [
        "# Look at the distribution of age and the occurance of cardiovascular disease \n",
        "df_clean['years'] = (df_clean['age']).round().astype('int')\n",
        "sns.countplot(x='years', hue='cardio', data = df_clean);"
      ],
      "execution_count": 118,
      "outputs": [
        {
          "output_type": "display_data",
          "data": {
            "image/png": "[encoded data removed]",
            "text/plain": [
              "<Figure size 720x504 with 1 Axes>"
            ]
          },
          "metadata": {
            "tags": []
          }
        }
      ]
    },
    {
      "cell_type": "code",
      "metadata": {
        "id": "460_skLy7A9I",
        "colab_type": "code",
        "colab": {
          "base_uri": "https://localhost:8080/",
          "height": 51
        },
        "outputId": "18c102c8-20c0-4072-c07c-0aa308d1970c"
      },
      "source": [
        "print(df_clean.shape)\n",
        "print(df_full.shape)"
      ],
      "execution_count": 120,
      "outputs": [
        {
          "output_type": "stream",
          "text": [
            "(67064, 15)\n",
            "(70000, 14)\n"
          ],
          "name": "stdout"
        }
      ]
    },
    {
      "cell_type": "code",
      "metadata": {
        "id": "LUxGyLAZGe7I",
        "colab_type": "code",
        "outputId": "07201c05-7ec8-4435-a753-a2096995c172",
        "colab": {
          "base_uri": "https://localhost:8080/",
          "height": 851
        }
      },
      "source": [
        "# Create features and target variables\n",
        "X_clean = df_clean.drop(['id', 'cardio', 'years', 'bmi'], 1)\n",
        "y_clean = df_clean.cardio\n",
        "\n",
        "X_full = df_full.drop(['id', 'cardio', 'bmi'], 1)\n",
        "y_full = df_full['cardio']\n",
        "\n",
        "# Look at a correlation matrix and heatmap of correlation between feature variables\n",
        "corrmat_clean = X_clean.corr()\n",
        "sns.heatmap(corrmat_clean);\n",
        "corrmat_clean"
      ],
      "execution_count": 121,
      "outputs": [
        {
          "output_type": "execute_result",
          "data": {
            "text/html": [
              "<div>\n",
              "<style scoped>\n",
              "    .dataframe tbody tr th:only-of-type {\n",
              "        vertical-align: middle;\n",
              "    }\n",
              "\n",
              "    .dataframe tbody tr th {\n",
              "        vertical-align: top;\n",
              "    }\n",
              "\n",
              "    .dataframe thead th {\n",
              "        text-align: right;\n",
              "    }\n",
              "</style>\n",
              "<table border=\"1\" class=\"dataframe\">\n",
              "  <thead>\n",
              "    <tr style=\"text-align: right;\">\n",
              "      <th></th>\n",
              "      <th>age</th>\n",
              "      <th>gender</th>\n",
              "      <th>height</th>\n",
              "      <th>weight</th>\n",
              "      <th>ap_hi</th>\n",
              "      <th>ap_lo</th>\n",
              "      <th>cholesterol</th>\n",
              "      <th>gluc</th>\n",
              "      <th>smoke</th>\n",
              "      <th>alco</th>\n",
              "      <th>active</th>\n",
              "    </tr>\n",
              "  </thead>\n",
              "  <tbody>\n",
              "    <tr>\n",
              "      <th>age</th>\n",
              "      <td>1.000000</td>\n",
              "      <td>-0.021504</td>\n",
              "      <td>-0.083434</td>\n",
              "      <td>0.067270</td>\n",
              "      <td>0.211650</td>\n",
              "      <td>0.157318</td>\n",
              "      <td>0.156087</td>\n",
              "      <td>0.098820</td>\n",
              "      <td>-0.045891</td>\n",
              "      <td>-0.027614</td>\n",
              "      <td>-0.010687</td>\n",
              "    </tr>\n",
              "    <tr>\n",
              "      <th>gender</th>\n",
              "      <td>-0.021504</td>\n",
              "      <td>1.000000</td>\n",
              "      <td>0.520745</td>\n",
              "      <td>0.165538</td>\n",
              "      <td>0.061465</td>\n",
              "      <td>0.065031</td>\n",
              "      <td>-0.037217</td>\n",
              "      <td>-0.021803</td>\n",
              "      <td>0.339135</td>\n",
              "      <td>0.169972</td>\n",
              "      <td>0.007031</td>\n",
              "    </tr>\n",
              "    <tr>\n",
              "      <th>height</th>\n",
              "      <td>-0.083434</td>\n",
              "      <td>0.520745</td>\n",
              "      <td>1.000000</td>\n",
              "      <td>0.319329</td>\n",
              "      <td>0.012769</td>\n",
              "      <td>0.030384</td>\n",
              "      <td>-0.060578</td>\n",
              "      <td>-0.023688</td>\n",
              "      <td>0.194315</td>\n",
              "      <td>0.095112</td>\n",
              "      <td>-0.008316</td>\n",
              "    </tr>\n",
              "    <tr>\n",
              "      <th>weight</th>\n",
              "      <td>0.067270</td>\n",
              "      <td>0.165538</td>\n",
              "      <td>0.319329</td>\n",
              "      <td>1.000000</td>\n",
              "      <td>0.257003</td>\n",
              "      <td>0.241031</td>\n",
              "      <td>0.135699</td>\n",
              "      <td>0.096420</td>\n",
              "      <td>0.066142</td>\n",
              "      <td>0.065376</td>\n",
              "      <td>-0.015889</td>\n",
              "    </tr>\n",
              "    <tr>\n",
              "      <th>ap_hi</th>\n",
              "      <td>0.211650</td>\n",
              "      <td>0.061465</td>\n",
              "      <td>0.012769</td>\n",
              "      <td>0.257003</td>\n",
              "      <td>1.000000</td>\n",
              "      <td>0.718435</td>\n",
              "      <td>0.192460</td>\n",
              "      <td>0.088705</td>\n",
              "      <td>0.026674</td>\n",
              "      <td>0.032782</td>\n",
              "      <td>0.000132</td>\n",
              "    </tr>\n",
              "    <tr>\n",
              "      <th>ap_lo</th>\n",
              "      <td>0.157318</td>\n",
              "      <td>0.065031</td>\n",
              "      <td>0.030384</td>\n",
              "      <td>0.241031</td>\n",
              "      <td>0.718435</td>\n",
              "      <td>1.000000</td>\n",
              "      <td>0.155512</td>\n",
              "      <td>0.070190</td>\n",
              "      <td>0.024424</td>\n",
              "      <td>0.034214</td>\n",
              "      <td>-0.000060</td>\n",
              "    </tr>\n",
              "    <tr>\n",
              "      <th>cholesterol</th>\n",
              "      <td>0.156087</td>\n",
              "      <td>-0.037217</td>\n",
              "      <td>-0.060578</td>\n",
              "      <td>0.135699</td>\n",
              "      <td>0.192460</td>\n",
              "      <td>0.155512</td>\n",
              "      <td>1.000000</td>\n",
              "      <td>0.449229</td>\n",
              "      <td>0.008132</td>\n",
              "      <td>0.033641</td>\n",
              "      <td>0.009042</td>\n",
              "    </tr>\n",
              "    <tr>\n",
              "      <th>gluc</th>\n",
              "      <td>0.098820</td>\n",
              "      <td>-0.021803</td>\n",
              "      <td>-0.023688</td>\n",
              "      <td>0.096420</td>\n",
              "      <td>0.088705</td>\n",
              "      <td>0.070190</td>\n",
              "      <td>0.449229</td>\n",
              "      <td>1.000000</td>\n",
              "      <td>-0.008784</td>\n",
              "      <td>0.007351</td>\n",
              "      <td>-0.007510</td>\n",
              "    </tr>\n",
              "    <tr>\n",
              "      <th>smoke</th>\n",
              "      <td>-0.045891</td>\n",
              "      <td>0.339135</td>\n",
              "      <td>0.194315</td>\n",
              "      <td>0.066142</td>\n",
              "      <td>0.026674</td>\n",
              "      <td>0.024424</td>\n",
              "      <td>0.008132</td>\n",
              "      <td>-0.008784</td>\n",
              "      <td>1.000000</td>\n",
              "      <td>0.341144</td>\n",
              "      <td>0.027430</td>\n",
              "    </tr>\n",
              "    <tr>\n",
              "      <th>alco</th>\n",
              "      <td>-0.027614</td>\n",
              "      <td>0.169972</td>\n",
              "      <td>0.095112</td>\n",
              "      <td>0.065376</td>\n",
              "      <td>0.032782</td>\n",
              "      <td>0.034214</td>\n",
              "      <td>0.033641</td>\n",
              "      <td>0.007351</td>\n",
              "      <td>0.341144</td>\n",
              "      <td>1.000000</td>\n",
              "      <td>0.026579</td>\n",
              "    </tr>\n",
              "    <tr>\n",
              "      <th>active</th>\n",
              "      <td>-0.010687</td>\n",
              "      <td>0.007031</td>\n",
              "      <td>-0.008316</td>\n",
              "      <td>-0.015889</td>\n",
              "      <td>0.000132</td>\n",
              "      <td>-0.000060</td>\n",
              "      <td>0.009042</td>\n",
              "      <td>-0.007510</td>\n",
              "      <td>0.027430</td>\n",
              "      <td>0.026579</td>\n",
              "      <td>1.000000</td>\n",
              "    </tr>\n",
              "  </tbody>\n",
              "</table>\n",
              "</div>"
            ],
            "text/plain": [
              "                  age    gender    height  ...     smoke      alco    active\n",
              "age          1.000000 -0.021504 -0.083434  ... -0.045891 -0.027614 -0.010687\n",
              "gender      -0.021504  1.000000  0.520745  ...  0.339135  0.169972  0.007031\n",
              "height      -0.083434  0.520745  1.000000  ...  0.194315  0.095112 -0.008316\n",
              "weight       0.067270  0.165538  0.319329  ...  0.066142  0.065376 -0.015889\n",
              "ap_hi        0.211650  0.061465  0.012769  ...  0.026674  0.032782  0.000132\n",
              "ap_lo        0.157318  0.065031  0.030384  ...  0.024424  0.034214 -0.000060\n",
              "cholesterol  0.156087 -0.037217 -0.060578  ...  0.008132  0.033641  0.009042\n",
              "gluc         0.098820 -0.021803 -0.023688  ... -0.008784  0.007351 -0.007510\n",
              "smoke       -0.045891  0.339135  0.194315  ...  1.000000  0.341144  0.027430\n",
              "alco        -0.027614  0.169972  0.095112  ...  0.341144  1.000000  0.026579\n",
              "active      -0.010687  0.007031 -0.008316  ...  0.027430  0.026579  1.000000\n",
              "\n",
              "[11 rows x 11 columns]"
            ]
          },
          "metadata": {
            "tags": []
          },
          "execution_count": 121
        },
        {
          "output_type": "display_data",
          "data": {
            "image/png": "[encoded data removed]",
            "text/plain": [
              "<Figure size 720x504 with 2 Axes>"
            ]
          },
          "metadata": {
            "tags": []
          }
        }
      ]
    },
    {
      "cell_type": "code",
      "metadata": {
        "id": "J66Zm6MfyQ3s",
        "colab_type": "code",
        "colab": {
          "base_uri": "https://localhost:8080/",
          "height": 851
        },
        "outputId": "37bf6ac3-df43-496f-d6e8-e09ef6abd587"
      },
      "source": [
        "corrmat_full = X_full.corr()\n",
        "sns.heatmap(corrmat_full);\n",
        "corrmat_full"
      ],
      "execution_count": 122,
      "outputs": [
        {
          "output_type": "execute_result",
          "data": {
            "text/html": [
              "<div>\n",
              "<style scoped>\n",
              "    .dataframe tbody tr th:only-of-type {\n",
              "        vertical-align: middle;\n",
              "    }\n",
              "\n",
              "    .dataframe tbody tr th {\n",
              "        vertical-align: top;\n",
              "    }\n",
              "\n",
              "    .dataframe thead th {\n",
              "        text-align: right;\n",
              "    }\n",
              "</style>\n",
              "<table border=\"1\" class=\"dataframe\">\n",
              "  <thead>\n",
              "    <tr style=\"text-align: right;\">\n",
              "      <th></th>\n",
              "      <th>age</th>\n",
              "      <th>gender</th>\n",
              "      <th>height</th>\n",
              "      <th>weight</th>\n",
              "      <th>ap_hi</th>\n",
              "      <th>ap_lo</th>\n",
              "      <th>cholesterol</th>\n",
              "      <th>gluc</th>\n",
              "      <th>smoke</th>\n",
              "      <th>alco</th>\n",
              "      <th>active</th>\n",
              "    </tr>\n",
              "  </thead>\n",
              "  <tbody>\n",
              "    <tr>\n",
              "      <th>age</th>\n",
              "      <td>1.000000</td>\n",
              "      <td>-0.022794</td>\n",
              "      <td>-0.081522</td>\n",
              "      <td>0.053654</td>\n",
              "      <td>0.020778</td>\n",
              "      <td>0.017630</td>\n",
              "      <td>0.154394</td>\n",
              "      <td>0.098672</td>\n",
              "      <td>-0.047638</td>\n",
              "      <td>-0.029730</td>\n",
              "      <td>-0.009931</td>\n",
              "    </tr>\n",
              "    <tr>\n",
              "      <th>gender</th>\n",
              "      <td>-0.022794</td>\n",
              "      <td>1.000000</td>\n",
              "      <td>0.499033</td>\n",
              "      <td>0.155406</td>\n",
              "      <td>0.006005</td>\n",
              "      <td>0.015254</td>\n",
              "      <td>-0.035821</td>\n",
              "      <td>-0.020491</td>\n",
              "      <td>0.338135</td>\n",
              "      <td>0.170966</td>\n",
              "      <td>0.005866</td>\n",
              "    </tr>\n",
              "    <tr>\n",
              "      <th>height</th>\n",
              "      <td>-0.081522</td>\n",
              "      <td>0.499033</td>\n",
              "      <td>1.000000</td>\n",
              "      <td>0.290968</td>\n",
              "      <td>0.005488</td>\n",
              "      <td>0.006150</td>\n",
              "      <td>-0.050226</td>\n",
              "      <td>-0.018595</td>\n",
              "      <td>0.187989</td>\n",
              "      <td>0.094419</td>\n",
              "      <td>-0.006570</td>\n",
              "    </tr>\n",
              "    <tr>\n",
              "      <th>weight</th>\n",
              "      <td>0.053654</td>\n",
              "      <td>0.155406</td>\n",
              "      <td>0.290968</td>\n",
              "      <td>1.000000</td>\n",
              "      <td>0.030702</td>\n",
              "      <td>0.043710</td>\n",
              "      <td>0.141768</td>\n",
              "      <td>0.106857</td>\n",
              "      <td>0.067780</td>\n",
              "      <td>0.067113</td>\n",
              "      <td>-0.016867</td>\n",
              "    </tr>\n",
              "    <tr>\n",
              "      <th>ap_hi</th>\n",
              "      <td>0.020778</td>\n",
              "      <td>0.006005</td>\n",
              "      <td>0.005488</td>\n",
              "      <td>0.030702</td>\n",
              "      <td>1.000000</td>\n",
              "      <td>0.016086</td>\n",
              "      <td>0.023778</td>\n",
              "      <td>0.011841</td>\n",
              "      <td>-0.000922</td>\n",
              "      <td>0.001408</td>\n",
              "      <td>-0.000033</td>\n",
              "    </tr>\n",
              "    <tr>\n",
              "      <th>ap_lo</th>\n",
              "      <td>0.017630</td>\n",
              "      <td>0.015254</td>\n",
              "      <td>0.006150</td>\n",
              "      <td>0.043710</td>\n",
              "      <td>0.016086</td>\n",
              "      <td>1.000000</td>\n",
              "      <td>0.024019</td>\n",
              "      <td>0.010806</td>\n",
              "      <td>0.005186</td>\n",
              "      <td>0.010601</td>\n",
              "      <td>0.004780</td>\n",
              "    </tr>\n",
              "    <tr>\n",
              "      <th>cholesterol</th>\n",
              "      <td>0.154394</td>\n",
              "      <td>-0.035821</td>\n",
              "      <td>-0.050226</td>\n",
              "      <td>0.141768</td>\n",
              "      <td>0.023778</td>\n",
              "      <td>0.024019</td>\n",
              "      <td>1.000000</td>\n",
              "      <td>0.451578</td>\n",
              "      <td>0.010354</td>\n",
              "      <td>0.035760</td>\n",
              "      <td>0.009911</td>\n",
              "    </tr>\n",
              "    <tr>\n",
              "      <th>gluc</th>\n",
              "      <td>0.098672</td>\n",
              "      <td>-0.020491</td>\n",
              "      <td>-0.018595</td>\n",
              "      <td>0.106857</td>\n",
              "      <td>0.011841</td>\n",
              "      <td>0.010806</td>\n",
              "      <td>0.451578</td>\n",
              "      <td>1.000000</td>\n",
              "      <td>-0.004756</td>\n",
              "      <td>0.011246</td>\n",
              "      <td>-0.006770</td>\n",
              "    </tr>\n",
              "    <tr>\n",
              "      <th>smoke</th>\n",
              "      <td>-0.047638</td>\n",
              "      <td>0.338135</td>\n",
              "      <td>0.187989</td>\n",
              "      <td>0.067780</td>\n",
              "      <td>-0.000922</td>\n",
              "      <td>0.005186</td>\n",
              "      <td>0.010354</td>\n",
              "      <td>-0.004756</td>\n",
              "      <td>1.000000</td>\n",
              "      <td>0.340094</td>\n",
              "      <td>0.025858</td>\n",
              "    </tr>\n",
              "    <tr>\n",
              "      <th>alco</th>\n",
              "      <td>-0.029730</td>\n",
              "      <td>0.170966</td>\n",
              "      <td>0.094419</td>\n",
              "      <td>0.067113</td>\n",
              "      <td>0.001408</td>\n",
              "      <td>0.010601</td>\n",
              "      <td>0.035760</td>\n",
              "      <td>0.011246</td>\n",
              "      <td>0.340094</td>\n",
              "      <td>1.000000</td>\n",
              "      <td>0.025476</td>\n",
              "    </tr>\n",
              "    <tr>\n",
              "      <th>active</th>\n",
              "      <td>-0.009931</td>\n",
              "      <td>0.005866</td>\n",
              "      <td>-0.006570</td>\n",
              "      <td>-0.016867</td>\n",
              "      <td>-0.000033</td>\n",
              "      <td>0.004780</td>\n",
              "      <td>0.009911</td>\n",
              "      <td>-0.006770</td>\n",
              "      <td>0.025858</td>\n",
              "      <td>0.025476</td>\n",
              "      <td>1.000000</td>\n",
              "    </tr>\n",
              "  </tbody>\n",
              "</table>\n",
              "</div>"
            ],
            "text/plain": [
              "                  age    gender    height  ...     smoke      alco    active\n",
              "age          1.000000 -0.022794 -0.081522  ... -0.047638 -0.029730 -0.009931\n",
              "gender      -0.022794  1.000000  0.499033  ...  0.338135  0.170966  0.005866\n",
              "height      -0.081522  0.499033  1.000000  ...  0.187989  0.094419 -0.006570\n",
              "weight       0.053654  0.155406  0.290968  ...  0.067780  0.067113 -0.016867\n",
              "ap_hi        0.020778  0.006005  0.005488  ... -0.000922  0.001408 -0.000033\n",
              "ap_lo        0.017630  0.015254  0.006150  ...  0.005186  0.010601  0.004780\n",
              "cholesterol  0.154394 -0.035821 -0.050226  ...  0.010354  0.035760  0.009911\n",
              "gluc         0.098672 -0.020491 -0.018595  ... -0.004756  0.011246 -0.006770\n",
              "smoke       -0.047638  0.338135  0.187989  ...  1.000000  0.340094  0.025858\n",
              "alco        -0.029730  0.170966  0.094419  ...  0.340094  1.000000  0.025476\n",
              "active      -0.009931  0.005866 -0.006570  ...  0.025858  0.025476  1.000000\n",
              "\n",
              "[11 rows x 11 columns]"
            ]
          },
          "metadata": {
            "tags": []
          },
          "execution_count": 122
        },
        {
          "output_type": "display_data",
          "data": {
            "image/png": "[encoded data removed]",
            "text/plain": [
              "<Figure size 720x504 with 2 Axes>"
            ]
          },
          "metadata": {
            "tags": []
          }
        }
      ]
    },
    {
      "cell_type": "markdown",
      "metadata": {
        "id": "tigfX4MKGVyk",
        "colab_type": "text"
      },
      "source": [
        "# Modeling\n"
      ]
    },
    {
      "cell_type": "markdown",
      "metadata": {
        "id": "kriRSIPnSadS",
        "colab_type": "text"
      },
      "source": [
        "### Feature Selection"
      ]
    },
    {
      "cell_type": "code",
      "metadata": {
        "id": "UJTTIld2Sf3s",
        "colab_type": "code",
        "outputId": "f0de1e8a-3158-4be3-b18d-217f14bdd3f9",
        "colab": {
          "base_uri": "https://localhost:8080/",
          "height": 204
        }
      },
      "source": [
        "X_new = SelectKBest(k=5).fit_transform(X_clean, y_clean)\n",
        "Kbest_X_clean = pd.DataFrame(X_new)\n",
        "Kbest_X_clean.head()"
      ],
      "execution_count": 123,
      "outputs": [
        {
          "output_type": "execute_result",
          "data": {
            "text/html": [
              "<div>\n",
              "<style scoped>\n",
              "    .dataframe tbody tr th:only-of-type {\n",
              "        vertical-align: middle;\n",
              "    }\n",
              "\n",
              "    .dataframe tbody tr th {\n",
              "        vertical-align: top;\n",
              "    }\n",
              "\n",
              "    .dataframe thead th {\n",
              "        text-align: right;\n",
              "    }\n",
              "</style>\n",
              "<table border=\"1\" class=\"dataframe\">\n",
              "  <thead>\n",
              "    <tr style=\"text-align: right;\">\n",
              "      <th></th>\n",
              "      <th>0</th>\n",
              "      <th>1</th>\n",
              "      <th>2</th>\n",
              "      <th>3</th>\n",
              "      <th>4</th>\n",
              "    </tr>\n",
              "  </thead>\n",
              "  <tbody>\n",
              "    <tr>\n",
              "      <th>0</th>\n",
              "      <td>50.4</td>\n",
              "      <td>62.0</td>\n",
              "      <td>110.0</td>\n",
              "      <td>80.0</td>\n",
              "      <td>1.0</td>\n",
              "    </tr>\n",
              "    <tr>\n",
              "      <th>1</th>\n",
              "      <td>55.4</td>\n",
              "      <td>85.0</td>\n",
              "      <td>140.0</td>\n",
              "      <td>90.0</td>\n",
              "      <td>3.0</td>\n",
              "    </tr>\n",
              "    <tr>\n",
              "      <th>2</th>\n",
              "      <td>51.7</td>\n",
              "      <td>64.0</td>\n",
              "      <td>130.0</td>\n",
              "      <td>70.0</td>\n",
              "      <td>3.0</td>\n",
              "    </tr>\n",
              "    <tr>\n",
              "      <th>3</th>\n",
              "      <td>48.3</td>\n",
              "      <td>82.0</td>\n",
              "      <td>150.0</td>\n",
              "      <td>100.0</td>\n",
              "      <td>1.0</td>\n",
              "    </tr>\n",
              "    <tr>\n",
              "      <th>4</th>\n",
              "      <td>47.9</td>\n",
              "      <td>56.0</td>\n",
              "      <td>100.0</td>\n",
              "      <td>60.0</td>\n",
              "      <td>1.0</td>\n",
              "    </tr>\n",
              "  </tbody>\n",
              "</table>\n",
              "</div>"
            ],
            "text/plain": [
              "      0     1      2      3    4\n",
              "0  50.4  62.0  110.0   80.0  1.0\n",
              "1  55.4  85.0  140.0   90.0  3.0\n",
              "2  51.7  64.0  130.0   70.0  3.0\n",
              "3  48.3  82.0  150.0  100.0  1.0\n",
              "4  47.9  56.0  100.0   60.0  1.0"
            ]
          },
          "metadata": {
            "tags": []
          },
          "execution_count": 123
        }
      ]
    },
    {
      "cell_type": "code",
      "metadata": {
        "id": "8-llQL-XysZc",
        "colab_type": "code",
        "colab": {
          "base_uri": "https://localhost:8080/",
          "height": 204
        },
        "outputId": "bf360727-a0fe-4479-f525-16f8bef35bca"
      },
      "source": [
        "X_new = SelectKBest(k=5).fit_transform(X_full, y_full)\n",
        "Kbest_X_full = pd.DataFrame(X_new)\n",
        "Kbest_X_full.head()"
      ],
      "execution_count": 124,
      "outputs": [
        {
          "output_type": "execute_result",
          "data": {
            "text/html": [
              "<div>\n",
              "<style scoped>\n",
              "    .dataframe tbody tr th:only-of-type {\n",
              "        vertical-align: middle;\n",
              "    }\n",
              "\n",
              "    .dataframe tbody tr th {\n",
              "        vertical-align: top;\n",
              "    }\n",
              "\n",
              "    .dataframe thead th {\n",
              "        text-align: right;\n",
              "    }\n",
              "</style>\n",
              "<table border=\"1\" class=\"dataframe\">\n",
              "  <thead>\n",
              "    <tr style=\"text-align: right;\">\n",
              "      <th></th>\n",
              "      <th>0</th>\n",
              "      <th>1</th>\n",
              "      <th>2</th>\n",
              "      <th>3</th>\n",
              "      <th>4</th>\n",
              "    </tr>\n",
              "  </thead>\n",
              "  <tbody>\n",
              "    <tr>\n",
              "      <th>0</th>\n",
              "      <td>50.4</td>\n",
              "      <td>62.0</td>\n",
              "      <td>80.0</td>\n",
              "      <td>1.0</td>\n",
              "      <td>1.0</td>\n",
              "    </tr>\n",
              "    <tr>\n",
              "      <th>1</th>\n",
              "      <td>55.4</td>\n",
              "      <td>85.0</td>\n",
              "      <td>90.0</td>\n",
              "      <td>3.0</td>\n",
              "      <td>1.0</td>\n",
              "    </tr>\n",
              "    <tr>\n",
              "      <th>2</th>\n",
              "      <td>51.7</td>\n",
              "      <td>64.0</td>\n",
              "      <td>70.0</td>\n",
              "      <td>3.0</td>\n",
              "      <td>1.0</td>\n",
              "    </tr>\n",
              "    <tr>\n",
              "      <th>3</th>\n",
              "      <td>48.3</td>\n",
              "      <td>82.0</td>\n",
              "      <td>100.0</td>\n",
              "      <td>1.0</td>\n",
              "      <td>1.0</td>\n",
              "    </tr>\n",
              "    <tr>\n",
              "      <th>4</th>\n",
              "      <td>47.9</td>\n",
              "      <td>56.0</td>\n",
              "      <td>60.0</td>\n",
              "      <td>1.0</td>\n",
              "      <td>1.0</td>\n",
              "    </tr>\n",
              "  </tbody>\n",
              "</table>\n",
              "</div>"
            ],
            "text/plain": [
              "      0     1      2    3    4\n",
              "0  50.4  62.0   80.0  1.0  1.0\n",
              "1  55.4  85.0   90.0  3.0  1.0\n",
              "2  51.7  64.0   70.0  3.0  1.0\n",
              "3  48.3  82.0  100.0  1.0  1.0\n",
              "4  47.9  56.0   60.0  1.0  1.0"
            ]
          },
          "metadata": {
            "tags": []
          },
          "execution_count": 124
        }
      ]
    },
    {
      "cell_type": "code",
      "metadata": {
        "id": "e7SW0dX3Tvd_",
        "colab_type": "code",
        "outputId": "1b177936-8596-4513-e7de-c43dc71fd5ff",
        "colab": {
          "base_uri": "https://localhost:8080/",
          "height": 34
        }
      },
      "source": [
        "pca = PCA(n_components=5)\n",
        "x_pca_clean = pca.fit_transform(X_clean)\n",
        "pca.explained_variance_ratio_"
      ],
      "execution_count": 125,
      "outputs": [
        {
          "output_type": "execute_result",
          "data": {
            "text/plain": [
              "array([0.55631654, 0.23738343, 0.0814281 , 0.06496473, 0.05802953])"
            ]
          },
          "metadata": {
            "tags": []
          },
          "execution_count": 125
        }
      ]
    },
    {
      "cell_type": "code",
      "metadata": {
        "id": "lfnpSfm4zAWJ",
        "colab_type": "code",
        "colab": {
          "base_uri": "https://localhost:8080/",
          "height": 34
        },
        "outputId": "0677568a-d573-40da-91fa-c189fb151a95"
      },
      "source": [
        "pca = PCA(n_components=5)\n",
        "x_pca_full = pca.fit_transform(X_full)\n",
        "pca.explained_variance_ratio_"
      ],
      "execution_count": 126,
      "outputs": [
        {
          "output_type": "execute_result",
          "data": {
            "text/plain": [
              "array([0.59669156, 0.39791891, 0.00360579, 0.00103112, 0.0007322 ])"
            ]
          },
          "metadata": {
            "tags": []
          },
          "execution_count": 126
        }
      ]
    },
    {
      "cell_type": "code",
      "metadata": {
        "id": "jKGPk5pJemsj",
        "colab_type": "code",
        "colab": {}
      },
      "source": [
        "def model_analysis(model, X, y):\n",
        "  X_train, X_test, y_train, y_test = train_test_split(X, y, test_size=.3)\n",
        "  model.fit(X_train, y_train)\n",
        "  \n",
        "  y_pred = model.predict(X_test)\n",
        "  print(metrics.confusion_matrix(y_test, y_pred))\n",
        "  \n",
        "  r_squared = model.score(X_test, y_test)\n",
        "  accuracy = metrics.f1_score(y_test, y_pred)\n",
        "  \n",
        "  print('r-squared:', r_squared)\n",
        "  print('f1:', accuracy)\n",
        "  \n",
        "  return [r_squared, accuracy]"
      ],
      "execution_count": 0,
      "outputs": []
    },
    {
      "cell_type": "markdown",
      "metadata": {
        "id": "Ty99I3AvHN4Z",
        "colab_type": "text"
      },
      "source": [
        "### Logistic Regression"
      ]
    },
    {
      "cell_type": "markdown",
      "metadata": {
        "id": "9TNkyTHiwixZ",
        "colab_type": "text"
      },
      "source": [
        "first model without removing any observations "
      ]
    },
    {
      "cell_type": "code",
      "metadata": {
        "id": "9FgjMtByHRU-",
        "colab_type": "code",
        "outputId": "a229df99-3b60-4896-945d-3f360aac7628",
        "colab": {
          "base_uri": "https://localhost:8080/",
          "height": 323
        }
      },
      "source": [
        "logreg = LogisticRegression()\n",
        "\n",
        "print('Cleaned data')\n",
        "print('All features')\n",
        "clean_log_all = model_analysis(logreg, X_clean, y_clean)\n",
        "print()\n",
        "print('PCA')\n",
        "clean_log_pca = model_analysis(logreg, x_pca_clean, y_clean)\n",
        "print()\n",
        "print('K_best')\n",
        "clean_log_kbest = model_analysis(logreg, Kbest_X_clean, y_clean)"
      ],
      "execution_count": 90,
      "outputs": [
        {
          "output_type": "stream",
          "text": [
            "Cleaned data\n",
            "All features\n",
            "[[8031 2181]\n",
            " [3276 6632]]\n",
            "r-squared: 0.7287773359840954\n",
            "f1: 0.7085091608354255\n",
            "\n",
            "PCA\n",
            "[[7955 2291]\n",
            " [3383 6491]]\n",
            "r-squared: 0.7179920477137177\n",
            "f1: 0.6958619210977701\n",
            "\n",
            "K_best\n",
            "[[8073 2077]\n",
            " [3414 6556]]\n",
            "r-squared: 0.7270874751491053\n",
            "f1: 0.7048325538891577\n"
          ],
          "name": "stdout"
        }
      ]
    },
    {
      "cell_type": "code",
      "metadata": {
        "id": "w6smRL_dXk9k",
        "colab_type": "code",
        "outputId": "5da3c1ad-5b7d-4da6-bcd5-4714346989f1",
        "colab": {
          "base_uri": "https://localhost:8080/",
          "height": 323
        }
      },
      "source": [
        "logreg = LogisticRegression()\n",
        "\n",
        "print('Full data')\n",
        "print('All features')\n",
        "full_log_all = logreg_scores = model_analysis(logreg, X_full, y_full)\n",
        "print()\n",
        "print('PCA')\n",
        "full_log_pca = model_analysis(logreg, x_pca_full, y_full)\n",
        "print()\n",
        "print('K_best')\n",
        "full_log_kbest = model_analysis(logreg, Kbest_X_full, y_full)"
      ],
      "execution_count": 91,
      "outputs": [
        {
          "output_type": "stream",
          "text": [
            "Full data\n",
            "All features\n",
            "[[7941 2520]\n",
            " [3349 7190]]\n",
            "r-squared: 0.7205238095238096\n",
            "f1: 0.7101585263469801\n",
            "\n",
            "PCA\n",
            "[[7696 2836]\n",
            " [3292 7176]]\n",
            "r-squared: 0.7081904761904761\n",
            "f1: 0.7007812499999999\n",
            "\n",
            "K_best\n",
            "[[7116 3387]\n",
            " [4087 6410]]\n",
            "r-squared: 0.644095238095238\n",
            "f1: 0.6317138070365625\n"
          ],
          "name": "stdout"
        }
      ]
    },
    {
      "cell_type": "markdown",
      "metadata": {
        "id": "cgyXVK7gIQOP",
        "colab_type": "text"
      },
      "source": [
        "### Random Forest"
      ]
    },
    {
      "cell_type": "code",
      "metadata": {
        "id": "AiwCST6aHxyf",
        "colab_type": "code",
        "outputId": "fe7a71dc-b46c-442b-8280-ae95f88087e8",
        "colab": {
          "base_uri": "https://localhost:8080/",
          "height": 323
        }
      },
      "source": [
        "# random forest\n",
        "rfc = ensemble.RandomForestClassifier()\n",
        "\n",
        "print('Cleaned Data')\n",
        "print('All features')\n",
        "clean_rfc_all = model_analysis(rfc, X_clean, y_clean)\n",
        "print()\n",
        "print('PCA')\n",
        "clean_rfc_pca = model_analysis(rfc, x_pca_clean, y_clean)\n",
        "print()\n",
        "print('K_best')\n",
        "clean_rfc_kbest = model_analysis(rfc, Kbest_X_clean, y_clean)"
      ],
      "execution_count": 92,
      "outputs": [
        {
          "output_type": "stream",
          "text": [
            "Cleaned Data\n",
            "All features\n",
            "[[7738 2611]\n",
            " [3534 6237]]\n",
            "r-squared: 0.6945825049701789\n",
            "f1: 0.6699607927386003\n",
            "\n",
            "PCA\n",
            "[[7437 2776]\n",
            " [3752 6155]]\n",
            "r-squared: 0.6755467196819086\n",
            "f1: 0.653466397706763\n",
            "\n",
            "K_best\n",
            "[[7243 2961]\n",
            " [3630 6286]]\n",
            "r-squared: 0.6724155069582505\n",
            "f1: 0.6560559411365654\n"
          ],
          "name": "stdout"
        }
      ]
    },
    {
      "cell_type": "code",
      "metadata": {
        "id": "lh1gykAkX8Iv",
        "colab_type": "code",
        "outputId": "32cc52f3-0555-4871-edeb-ae1a10a68d5c",
        "colab": {
          "base_uri": "https://localhost:8080/",
          "height": 323
        }
      },
      "source": [
        "# random forest\n",
        "rfc = ensemble.RandomForestClassifier()\n",
        "\n",
        "print('Full data')\n",
        "print('All features')\n",
        "full_rfc_all = rfc_scores = model_analysis(rfc, X_full, y_full)\n",
        "print()\n",
        "print('PCA')\n",
        "full_rfc_pca = model_analysis(rfc, x_pca_full, y_full)\n",
        "print()\n",
        "print('K_best')\n",
        "full_rfc_kbest = model_analysis(rfc, Kbest_X_full, y_full)"
      ],
      "execution_count": 93,
      "outputs": [
        {
          "output_type": "stream",
          "text": [
            "Full data\n",
            "All features\n",
            "[[7722 2792]\n",
            " [3590 6896]]\n",
            "r-squared: 0.6960952380952381\n",
            "f1: 0.6836522256369585\n",
            "\n",
            "PCA\n",
            "[[7581 2954]\n",
            " [3860 6605]]\n",
            "r-squared: 0.6755238095238095\n",
            "f1: 0.659708349980024\n",
            "\n",
            "K_best\n",
            "[[6930 3517]\n",
            " [4033 6520]]\n",
            "r-squared: 0.6404761904761904\n",
            "f1: 0.6333171442447791\n"
          ],
          "name": "stdout"
        }
      ]
    },
    {
      "cell_type": "markdown",
      "metadata": {
        "id": "aZjJWSTbIVSV",
        "colab_type": "text"
      },
      "source": [
        "### K Nearest Neighbors"
      ]
    },
    {
      "cell_type": "code",
      "metadata": {
        "id": "MBcoMsLNIakT",
        "colab_type": "code",
        "outputId": "6705d3ed-fb96-4577-9c08-5ddc6e21cfe6",
        "colab": {
          "base_uri": "https://localhost:8080/",
          "height": 323
        }
      },
      "source": [
        "knn = KNeighborsClassifier(n_neighbors=5, weights='distance')\n",
        "\n",
        "# Normalize data for Euclidean geometry\n",
        "\n",
        "print('Cleaned data')\n",
        "print('All features')\n",
        "clean_knn_all = model_analysis(knn, normalize(X_clean), y_clean)\n",
        "print()\n",
        "print('PCA')\n",
        "clean_knn_pca = model_analysis(knn, normalize(x_pca_clean), y_clean)\n",
        "print()\n",
        "print('K_best')\n",
        "clean_knn_kbest = model_analysis(knn, normalize(Kbest_X_clean), y_clean)"
      ],
      "execution_count": 94,
      "outputs": [
        {
          "output_type": "stream",
          "text": [
            "Cleaned data\n",
            "All features\n",
            "[[7184 3002]\n",
            " [3431 6503]]\n",
            "r-squared: 0.6802683896620279\n",
            "f1: 0.6690673388548793\n",
            "\n",
            "PCA\n",
            "[[6896 3353]\n",
            " [3342 6529]]\n",
            "r-squared: 0.6672465208747514\n",
            "f1: 0.6610641421556219\n",
            "\n",
            "K_best\n",
            "[[6874 3324]\n",
            " [3821 6101]]\n",
            "r-squared: 0.6448807157057654\n",
            "f1: 0.630692096965938\n"
          ],
          "name": "stdout"
        }
      ]
    },
    {
      "cell_type": "code",
      "metadata": {
        "id": "RKVj-NE4YBmW",
        "colab_type": "code",
        "outputId": "c23296b7-d0dc-411e-f1f4-925aea1a9c4c",
        "colab": {
          "base_uri": "https://localhost:8080/",
          "height": 323
        }
      },
      "source": [
        "knn = KNeighborsClassifier(n_neighbors=5, weights='distance')\n",
        "\n",
        "# Normalize data for Euclidean geometry\n",
        "\n",
        "print('Full Data')\n",
        "print('All features')\n",
        "full_knn_all = model_analysis(knn, normalize(X_full), y_full)\n",
        "print()\n",
        "print('PCA')\n",
        "full_knn_pca = model_analysis(knn, normalize(x_pca_full), y_full)\n",
        "print()\n",
        "print('K_best')\n",
        "full_knn_kbest = model_analysis(knn, normalize(Kbest_X_full), y_full)"
      ],
      "execution_count": 95,
      "outputs": [
        {
          "output_type": "stream",
          "text": [
            "Full Data\n",
            "All features\n",
            "[[7278 3228]\n",
            " [3513 6981]]\n",
            "r-squared: 0.679\n",
            "f1: 0.6743950152151862\n",
            "\n",
            "PCA\n",
            "[[7112 3390]\n",
            " [3490 7008]]\n",
            "r-squared: 0.6723809523809524\n",
            "f1: 0.6707503828483921\n",
            "\n",
            "K_best\n",
            "[[6803 3685]\n",
            " [4459 6053]]\n",
            "r-squared: 0.6121904761904762\n",
            "f1: 0.5978271604938272\n"
          ],
          "name": "stdout"
        }
      ]
    },
    {
      "cell_type": "markdown",
      "metadata": {
        "id": "8fOznLzlIbyI",
        "colab_type": "text"
      },
      "source": [
        "### Gradient Boosting Classifier"
      ]
    },
    {
      "cell_type": "code",
      "metadata": {
        "id": "ygpcnK7_IibO",
        "colab_type": "code",
        "outputId": "810eebb7-e0a0-4d1c-ae03-ab9755c29149",
        "colab": {
          "base_uri": "https://localhost:8080/",
          "height": 323
        }
      },
      "source": [
        "params = {'n_estimators': 500,\n",
        "          'max_depth': 2,\n",
        "          'loss': 'deviance'}\n",
        "\n",
        "# Initialize and fit the model.\n",
        "gbc = ensemble.GradientBoostingClassifier(**params)\n",
        "\n",
        "print('Cleaned data')\n",
        "print('All features')\n",
        "clean_gbc_all = model_analysis(gbc, X_clean, y_clean)\n",
        "print()\n",
        "print('PCA')\n",
        "clean_gbc_pca = model_analysis(gbc, x_pca_clean, y_clean)\n",
        "print()\n",
        "print('K_best')\n",
        "clean_gbc_kbest = model_analysis(gbc, Kbest_X_clean, y_clean)"
      ],
      "execution_count": 96,
      "outputs": [
        {
          "output_type": "stream",
          "text": [
            "Cleaned data\n",
            "All features\n",
            "[[8019 2220]\n",
            " [3095 6786]]\n",
            "r-squared: 0.7358349900596421\n",
            "f1: 0.7185895060094244\n",
            "\n",
            "PCA\n",
            "[[7998 2323]\n",
            " [3257 6542]]\n",
            "r-squared: 0.7226640159045725\n",
            "f1: 0.7010287183883411\n",
            "\n",
            "K_best\n",
            "[[7941 2370]\n",
            " [2984 6825]]\n",
            "r-squared: 0.73389662027833\n",
            "f1: 0.7182698379288571\n"
          ],
          "name": "stdout"
        }
      ]
    },
    {
      "cell_type": "code",
      "metadata": {
        "id": "UnGQg2_j0cea",
        "colab_type": "code",
        "colab": {
          "base_uri": "https://localhost:8080/",
          "height": 458
        },
        "outputId": "d2e17b0c-465e-434a-94f5-0f75764a6848"
      },
      "source": [
        "feature_importance = gbc.feature_importances_\n",
        "\n",
        "# Make importances relative to max importance.\n",
        "feature_importance = 100.0 * (feature_importance / feature_importance.max())\n",
        "sorted_idx = np.argsort(feature_importance)\n",
        "pos = np.arange(sorted_idx.shape[0]) + .5\n",
        "plt.subplot(1, 2, 2)\n",
        "plt.barh(pos, feature_importance[sorted_idx], align='center')\n",
        "plt.yticks(pos, X.columns[sorted_idx])\n",
        "plt.xlabel('Relative Importance')\n",
        "plt.title('Variable Importance')\n",
        "plt.show()"
      ],
      "execution_count": 97,
      "outputs": [
        {
          "output_type": "display_data",
          "data": {
            "image/png": "[encoded data removed]",
            "text/plain": [
              "<Figure size 720x504 with 1 Axes>"
            ]
          },
          "metadata": {
            "tags": []
          }
        }
      ]
    },
    {
      "cell_type": "code",
      "metadata": {
        "id": "D7zVW8qFYFfv",
        "colab_type": "code",
        "outputId": "e39c0daa-acd2-49f0-8ffb-aa76b2b3c415",
        "colab": {
          "base_uri": "https://localhost:8080/",
          "height": 323
        }
      },
      "source": [
        "params = {'n_estimators': 500,\n",
        "          'max_depth': 2,\n",
        "          'loss': 'deviance'}\n",
        "\n",
        "# Initialize and fit the model.\n",
        "gbc = ensemble.GradientBoostingClassifier(**params)\n",
        "\n",
        "print('Full Data')\n",
        "print('All features')\n",
        "full_gbc_all = model_analysis(gbc, X_full, y_full)\n",
        "print()\n",
        "print('PCA')\n",
        "full_gbc_pca = model_analysis(gbc, x_pca_full, y_full)\n",
        "print()\n",
        "print('K_best')\n",
        "full_gbc_kbest = model_analysis(gbc, Kbest_X_full, y_full)"
      ],
      "execution_count": 99,
      "outputs": [
        {
          "output_type": "stream",
          "text": [
            "Full Data\n",
            "All features\n",
            "[[8193 2396]\n",
            " [3082 7329]]\n",
            "r-squared: 0.7391428571428571\n",
            "f1: 0.7279499404052444\n",
            "\n",
            "PCA\n",
            "[[7990 2379]\n",
            " [3368 7263]]\n",
            "r-squared: 0.7263333333333334\n",
            "f1: 0.7165195087061609\n",
            "\n",
            "K_best\n",
            "[[7832 2680]\n",
            " [3585 6903]]\n",
            "r-squared: 0.7016666666666667\n",
            "f1: 0.6878581037317523\n"
          ],
          "name": "stdout"
        }
      ]
    },
    {
      "cell_type": "code",
      "metadata": {
        "id": "n6lmRzInUHLq",
        "colab_type": "code",
        "outputId": "3a2ee392-e652-45ed-acc1-fce68412462e",
        "colab": {
          "base_uri": "https://localhost:8080/",
          "height": 458
        }
      },
      "source": [
        "feature_importance = gbc.feature_importances_\n",
        "\n",
        "# Make importances relative to max importance.\n",
        "feature_importance = 100.0 * (feature_importance / feature_importance.max())\n",
        "sorted_idx = np.argsort(feature_importance)\n",
        "pos = np.arange(sorted_idx.shape[0]) + .5\n",
        "plt.subplot(1, 2, 2)\n",
        "plt.barh(pos, feature_importance[sorted_idx], align='center')\n",
        "plt.yticks(pos, X.columns[sorted_idx])\n",
        "plt.xlabel('Relative Importance')\n",
        "plt.title('Variable Importance')\n",
        "plt.show()"
      ],
      "execution_count": 100,
      "outputs": [
        {
          "output_type": "display_data",
          "data": {
            "image/png": "[encoded data removed]",
            "text/plain": [
              "<Figure size 720x504 with 1 Axes>"
            ]
          },
          "metadata": {
            "tags": []
          }
        }
      ]
    },
    {
      "cell_type": "code",
      "metadata": {
        "id": "rdqCz_hJ3RJt",
        "colab_type": "code",
        "colab": {
          "base_uri": "https://localhost:8080/",
          "height": 145
        },
        "outputId": "c79d42dd-02c5-4abc-8af6-bd18be7414fa"
      },
      "source": [
        "results_clean = pd.DataFrame(index=['r-squared', 'f1'])\n",
        "\n",
        "results_clean['clean log all'] = clean_log_all\n",
        "results_clean['clean log pca'] = clean_log_pca\n",
        "results_clean['clean log kbest'] = clean_log_kbest\n",
        "results_clean['clean rfc all'] = clean_rfc_all\n",
        "results_clean['clean rfc pca'] = clean_rfc_pca\n",
        "results_clean['clean rfc kbest'] = clean_rfc_kbest\n",
        "results_clean['clean knn all'] = clean_knn_all\n",
        "results_clean['clean knn pca'] = clean_knn_pca\n",
        "results_clean['clean knn kbest'] = clean_knn_kbest\n",
        "results_clean['clean gbc all'] = clean_gbc_all\n",
        "results_clean['clean gbc pca'] = clean_gbc_pca\n",
        "results_clean['clean gbc kbest'] = clean_gbc_kbest\n",
        "\n",
        "results_clean.head()\n"
      ],
      "execution_count": 104,
      "outputs": [
        {
          "output_type": "execute_result",
          "data": {
            "text/html": [
              "<div>\n",
              "<style scoped>\n",
              "    .dataframe tbody tr th:only-of-type {\n",
              "        vertical-align: middle;\n",
              "    }\n",
              "\n",
              "    .dataframe tbody tr th {\n",
              "        vertical-align: top;\n",
              "    }\n",
              "\n",
              "    .dataframe thead th {\n",
              "        text-align: right;\n",
              "    }\n",
              "</style>\n",
              "<table border=\"1\" class=\"dataframe\">\n",
              "  <thead>\n",
              "    <tr style=\"text-align: right;\">\n",
              "      <th></th>\n",
              "      <th>clean log all</th>\n",
              "      <th>clean log pca</th>\n",
              "      <th>clean log kbest</th>\n",
              "      <th>clean rfc all</th>\n",
              "      <th>clean rfc pca</th>\n",
              "      <th>clean rfc kbest</th>\n",
              "      <th>clean knn all</th>\n",
              "      <th>clean knn pca</th>\n",
              "      <th>clean knn kbest</th>\n",
              "      <th>clean gbc all</th>\n",
              "      <th>clean gbc pca</th>\n",
              "      <th>clean gbc kbest</th>\n",
              "    </tr>\n",
              "  </thead>\n",
              "  <tbody>\n",
              "    <tr>\n",
              "      <th>r-squared</th>\n",
              "      <td>0.728777</td>\n",
              "      <td>0.717992</td>\n",
              "      <td>0.727087</td>\n",
              "      <td>0.694583</td>\n",
              "      <td>0.675547</td>\n",
              "      <td>0.672416</td>\n",
              "      <td>0.680268</td>\n",
              "      <td>0.667247</td>\n",
              "      <td>0.644881</td>\n",
              "      <td>0.735835</td>\n",
              "      <td>0.722664</td>\n",
              "      <td>0.733897</td>\n",
              "    </tr>\n",
              "    <tr>\n",
              "      <th>f1</th>\n",
              "      <td>0.708509</td>\n",
              "      <td>0.695862</td>\n",
              "      <td>0.704833</td>\n",
              "      <td>0.669961</td>\n",
              "      <td>0.653466</td>\n",
              "      <td>0.656056</td>\n",
              "      <td>0.669067</td>\n",
              "      <td>0.661064</td>\n",
              "      <td>0.630692</td>\n",
              "      <td>0.718590</td>\n",
              "      <td>0.701029</td>\n",
              "      <td>0.718270</td>\n",
              "    </tr>\n",
              "  </tbody>\n",
              "</table>\n",
              "</div>"
            ],
            "text/plain": [
              "           clean log all  clean log pca  ...  clean gbc pca  clean gbc kbest\n",
              "r-squared       0.728777       0.717992  ...       0.722664         0.733897\n",
              "f1              0.708509       0.695862  ...       0.701029         0.718270\n",
              "\n",
              "[2 rows x 12 columns]"
            ]
          },
          "metadata": {
            "tags": []
          },
          "execution_count": 104
        }
      ]
    },
    {
      "cell_type": "code",
      "metadata": {
        "id": "3BOS3xTrLUZp",
        "colab_type": "code",
        "outputId": "96056f0b-76c3-4a76-ce8b-cfdab9d200ae",
        "colab": {
          "base_uri": "https://localhost:8080/",
          "height": 145
        }
      },
      "source": [
        "results_full = pd.DataFrame(index=['r-squared', 'f1'])\n",
        "\n",
        "results_full['Full log all'] = full_log_all\n",
        "results_full['Full log pca'] = full_log_pca\n",
        "results_full['Full log kbest'] = full_log_kbest\n",
        "results_full['Full rfc all'] = full_rfc_all\n",
        "results_full['Full rfc pca'] = full_rfc_pca\n",
        "results_full['Full rfc kbest'] = full_rfc_kbest\n",
        "results_full['Full knn all'] = full_knn_all\n",
        "results_full['Full knn pca'] = full_knn_pca\n",
        "results_full['Full knn kbest'] = full_knn_kbest\n",
        "results_full['Full gbc all'] = full_gbc_all\n",
        "results_full['Full gbc pca'] = full_gbc_pca\n",
        "results_full['Full gbc kbest'] = full_gbc_kbest\n",
        "\n",
        "results_full.head()\n"
      ],
      "execution_count": 103,
      "outputs": [
        {
          "output_type": "execute_result",
          "data": {
            "text/html": [
              "<div>\n",
              "<style scoped>\n",
              "    .dataframe tbody tr th:only-of-type {\n",
              "        vertical-align: middle;\n",
              "    }\n",
              "\n",
              "    .dataframe tbody tr th {\n",
              "        vertical-align: top;\n",
              "    }\n",
              "\n",
              "    .dataframe thead th {\n",
              "        text-align: right;\n",
              "    }\n",
              "</style>\n",
              "<table border=\"1\" class=\"dataframe\">\n",
              "  <thead>\n",
              "    <tr style=\"text-align: right;\">\n",
              "      <th></th>\n",
              "      <th>Full log all</th>\n",
              "      <th>Full log pca</th>\n",
              "      <th>Full log kbest</th>\n",
              "      <th>Full rfc all</th>\n",
              "      <th>Full rfc pca</th>\n",
              "      <th>Full rfc kbest</th>\n",
              "      <th>Full knn all</th>\n",
              "      <th>Full knn pca</th>\n",
              "      <th>Full knn kbest</th>\n",
              "      <th>Full gbc all</th>\n",
              "      <th>Full gbc pca</th>\n",
              "      <th>Full gbc kbest</th>\n",
              "    </tr>\n",
              "  </thead>\n",
              "  <tbody>\n",
              "    <tr>\n",
              "      <th>r-squared</th>\n",
              "      <td>0.720524</td>\n",
              "      <td>0.708190</td>\n",
              "      <td>0.644095</td>\n",
              "      <td>0.696095</td>\n",
              "      <td>0.675524</td>\n",
              "      <td>0.640476</td>\n",
              "      <td>0.679000</td>\n",
              "      <td>0.672381</td>\n",
              "      <td>0.612190</td>\n",
              "      <td>0.739143</td>\n",
              "      <td>0.726333</td>\n",
              "      <td>0.701667</td>\n",
              "    </tr>\n",
              "    <tr>\n",
              "      <th>f1</th>\n",
              "      <td>0.710159</td>\n",
              "      <td>0.700781</td>\n",
              "      <td>0.631714</td>\n",
              "      <td>0.683652</td>\n",
              "      <td>0.659708</td>\n",
              "      <td>0.633317</td>\n",
              "      <td>0.674395</td>\n",
              "      <td>0.670750</td>\n",
              "      <td>0.597827</td>\n",
              "      <td>0.727950</td>\n",
              "      <td>0.716520</td>\n",
              "      <td>0.687858</td>\n",
              "    </tr>\n",
              "  </tbody>\n",
              "</table>\n",
              "</div>"
            ],
            "text/plain": [
              "           Full log all  Full log pca  ...  Full gbc pca  Full gbc kbest\n",
              "r-squared      0.720524      0.708190  ...      0.726333        0.701667\n",
              "f1             0.710159      0.700781  ...      0.716520        0.687858\n",
              "\n",
              "[2 rows x 12 columns]"
            ]
          },
          "metadata": {
            "tags": []
          },
          "execution_count": 103
        }
      ]
    },
    {
      "cell_type": "code",
      "metadata": {
        "id": "bSs2q6oMZgGE",
        "colab_type": "code",
        "colab": {}
      },
      "source": [
        ""
      ],
      "execution_count": 0,
      "outputs": []
    }
  ]
}